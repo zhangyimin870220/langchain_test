{
 "cells": [
  {
   "cell_type": "markdown",
   "metadata": {},
   "source": [
    "# 1. Function Calling详细流程剖析"
   ]
  },
  {
   "cell_type": "code",
   "execution_count": 1,
   "metadata": {},
   "outputs": [],
   "source": [
    "import openai\n",
    "import os\n",
    "import numpy as np\n",
    "import pandas as pd\n",
    "import json\n",
    "import io\n",
    "from openai import OpenAI\n",
    "import inspect\n",
    "\n",
    "api_key = os.getenv(\"OPENAI_API_KEY\")\n",
    "# api_base=\"https://newone.nxykj.tech/v1\"\n",
    "\n",
    "\n",
    "client = OpenAI(api_key=api_key)"
   ]
  },
  {
   "cell_type": "code",
   "execution_count": 2,
   "metadata": {},
   "outputs": [],
   "source": [
    "def sunwukong_function(data):\n",
    "    \"\"\"\n",
    "    孙悟空算法函数，该函数定义了数据集计算过程\n",
    "    :param data: 必要参数，表示带入计算的数据表，用字符串进行表示\n",
    "    :return：sunwukong_function函数计算后的结果，返回结果为表示为JSON格式的Dataframe类型对象\n",
    "    \"\"\"\n",
    "    data = io.StringIO(data)\n",
    "    df_new = pd.read_csv(data, sep='\\s+', index_col=0)\n",
    "    res = df_new * 10\n",
    "    return json.dumps(res.to_string())"
   ]
  },
  {
   "cell_type": "code",
   "execution_count": 19,
   "metadata": {},
   "outputs": [
    {
     "data": {
      "text/html": [
       "<div>\n",
       "<style scoped>\n",
       "    .dataframe tbody tr th:only-of-type {\n",
       "        vertical-align: middle;\n",
       "    }\n",
       "\n",
       "    .dataframe tbody tr th {\n",
       "        vertical-align: top;\n",
       "    }\n",
       "\n",
       "    .dataframe thead th {\n",
       "        text-align: right;\n",
       "    }\n",
       "</style>\n",
       "<table border=\"1\" class=\"dataframe\">\n",
       "  <thead>\n",
       "    <tr style=\"text-align: right;\">\n",
       "      <th></th>\n",
       "      <th>x1</th>\n",
       "      <th>x2</th>\n",
       "    </tr>\n",
       "  </thead>\n",
       "  <tbody>\n",
       "    <tr>\n",
       "      <th>0</th>\n",
       "      <td>1</td>\n",
       "      <td>3</td>\n",
       "    </tr>\n",
       "    <tr>\n",
       "      <th>1</th>\n",
       "      <td>2</td>\n",
       "      <td>4</td>\n",
       "    </tr>\n",
       "  </tbody>\n",
       "</table>\n",
       "</div>"
      ],
      "text/plain": [
       "   x1  x2\n",
       "0   1   3\n",
       "1   2   4"
      ]
     },
     "execution_count": 19,
     "metadata": {},
     "output_type": "execute_result"
    }
   ],
   "source": [
    "df = pd.DataFrame({'x1':[1, 2], 'x2':[3, 4]})\n",
    "df"
   ]
  },
  {
   "cell_type": "code",
   "execution_count": 20,
   "metadata": {},
   "outputs": [
    {
     "data": {
      "text/plain": [
       "'   x1  x2\\n0   1   3\\n1   2   4'"
      ]
     },
     "execution_count": 20,
     "metadata": {},
     "output_type": "execute_result"
    }
   ],
   "source": [
    "df_str = df.to_string()\n",
    "df_str"
   ]
  },
  {
   "cell_type": "code",
   "execution_count": 5,
   "metadata": {},
   "outputs": [
    {
     "data": {
      "text/plain": [
       "'\"   x1  x2\\\\n0  10  30\\\\n1  20  40\"'"
      ]
     },
     "execution_count": 5,
     "metadata": {},
     "output_type": "execute_result"
    }
   ],
   "source": [
    "result_json=sunwukong_function(df_str)\n",
    "result_json"
   ]
  },
  {
   "cell_type": "code",
   "execution_count": 6,
   "metadata": {},
   "outputs": [],
   "source": [
    "sunwukong={\n",
    "        \"type\": \"function\",\n",
    "        \"function\": {\"name\": \"sunwukong_function\",\n",
    "                      \"description\": \"用于执行孙悟空算法函数，定义了一种特殊的数据集计算过程\",\n",
    "                      \"parameters\": {\"type\": \"object\",\n",
    "                                     \"properties\": {\"data\": {\"type\": \"string\",\n",
    "                                                             \"description\": \"执行孙悟空算法的数据集\"},\n",
    "                                                   },\n",
    "                                     \"required\": [\"data\"],\n",
    "                                    },\n",
    "                     }\n",
    "    }"
   ]
  },
  {
   "cell_type": "code",
   "execution_count": 7,
   "metadata": {},
   "outputs": [],
   "source": [
    "tools = [sunwukong]"
   ]
  },
  {
   "cell_type": "code",
   "execution_count": 225,
   "metadata": {},
   "outputs": [],
   "source": [
    "\n"
   ]
  },
  {
   "cell_type": "code",
   "execution_count": 8,
   "metadata": {},
   "outputs": [
    {
     "data": {
      "text/plain": [
       "ChatCompletionMessage(content='很抱歉，孙悟空算法并不是一个真正存在的算法，可能是一个幽默或虚构的说法。请问您有其他问题或者能提供更多信息以便我更好地帮助您吗？', role='assistant', function_call=None, tool_calls=None)"
      ]
     },
     "execution_count": 8,
     "metadata": {},
     "output_type": "execute_result"
    }
   ],
   "source": [
    "messages=[\n",
    "    {\"role\": \"system\", \"content\": \"数据集data：%s，数据集以字符串形式呈现\" % df_str},\n",
    "    {\"role\": \"user\", \"content\": \"请在数据集data上执行孙悟空算法\"}\n",
    "]\n",
    "\n",
    "response =  client.chat.completions.create(\n",
    "  model=\"gpt-3.5-turbo\",\n",
    "  messages=messages\n",
    ")\n",
    "response.choices[0].message"
   ]
  },
  {
   "cell_type": "code",
   "execution_count": 9,
   "metadata": {},
   "outputs": [],
   "source": [
    "messages=[\n",
    "    {\"role\": \"system\", \"content\": \"数据集data：%s，数据集以字符串形式呈现\" % df_str},\n",
    "    {\"role\": \"user\", \"content\": \"请在数据集data上执行孙悟空算法\"}\n",
    "]"
   ]
  },
  {
   "cell_type": "code",
   "execution_count": 10,
   "metadata": {},
   "outputs": [
    {
     "data": {
      "text/plain": [
       "ChatCompletionMessage(content=None, role='assistant', function_call=None, tool_calls=[ChatCompletionMessageToolCall(id='call_OqKaG4mk8Z5oEVKCYsd5rSCO', function=Function(arguments='{\"data\":\"x1  x2\\\\n0   1\\\\n1   2\"}', name='sunwukong_function'), type='function')])"
      ]
     },
     "execution_count": 10,
     "metadata": {},
     "output_type": "execute_result"
    }
   ],
   "source": [
    "\n",
    "\n",
    "response = client.chat.completions.create(\n",
    "        model=\"gpt-3.5-turbo\",\n",
    "        messages=messages,\n",
    "        tools=tools,\n",
    "        tool_choice=\"auto\",  \n",
    "    )\n",
    "\n",
    "response.choices[0].message"
   ]
  },
  {
   "cell_type": "code",
   "execution_count": 12,
   "metadata": {},
   "outputs": [
    {
     "data": {
      "text/plain": [
       "ChatCompletionMessage(content=None, role='assistant', function_call=None, tool_calls=[ChatCompletionMessageToolCall(id='call_OqKaG4mk8Z5oEVKCYsd5rSCO', function=Function(arguments='{\"data\":\"x1  x2\\\\n0   1\\\\n1   2\"}', name='sunwukong_function'), type='function')])"
      ]
     },
     "execution_count": 12,
     "metadata": {},
     "output_type": "execute_result"
    }
   ],
   "source": [
    "first_response = response.choices[0].message\n",
    "first_response"
   ]
  },
  {
   "cell_type": "code",
   "execution_count": 16,
   "metadata": {},
   "outputs": [
    {
     "data": {
      "text/plain": [
       "[ChatCompletionMessageToolCall(id='call_OqKaG4mk8Z5oEVKCYsd5rSCO', function=Function(arguments='{\"data\":\"x1  x2\\\\n0   1\\\\n1   2\"}', name='sunwukong_function'), type='function')]"
      ]
     },
     "execution_count": 16,
     "metadata": {},
     "output_type": "execute_result"
    }
   ],
   "source": [
    "response.choices[0].message.tool_calls"
   ]
  },
  {
   "cell_type": "code",
   "execution_count": 17,
   "metadata": {},
   "outputs": [],
   "source": [
    "available_tools =  {\n",
    "    \"sunwukong_function\": sunwukong_function,\n",
    "}"
   ]
  },
  {
   "cell_type": "code",
   "execution_count": 22,
   "metadata": {},
   "outputs": [
    {
     "name": "stdout",
     "output_type": "stream",
     "text": [
      "sunwukong_function\n",
      "{'data': 'x1  x2\\n0   1\\n1   2'}\n",
      "\"    x2\\nx1    \\n0   10\\n1   20\"\n"
     ]
    }
   ],
   "source": [
    "\n",
    "tool_calls = response.choices[0].message.tool_calls\n",
    " \n",
    "for tool_call in tool_calls:\n",
    "    function_name = tool_call.function.name\n",
    "    function_to_call = available_tools[function_name]\n",
    "    function_args = json.loads(tool_call.function.arguments)\n",
    "    function_response = function_to_call(**function_args)\n",
    " \n",
    "\n",
    "print(function_name)\n",
    "print(function_args)\n",
    "print(function_response)\n"
   ]
  },
  {
   "cell_type": "code",
   "execution_count": 23,
   "metadata": {},
   "outputs": [
    {
     "data": {
      "text/plain": [
       "'\"    x2\\\\nx1    \\\\n0   10\\\\n1   20\"'"
      ]
     },
     "execution_count": 23,
     "metadata": {},
     "output_type": "execute_result"
    }
   ],
   "source": [
    "function_response = function_to_call(**function_args)\n",
    "function_response"
   ]
  },
  {
   "cell_type": "code",
   "execution_count": 24,
   "metadata": {},
   "outputs": [
    {
     "data": {
      "text/plain": [
       "[{'role': 'system',\n",
       "  'content': '数据集data：   x1  x2\\n0   1   3\\n1   2   4，数据集以字符串形式呈现'},\n",
       " {'role': 'user', 'content': '请在数据集data上执行孙悟空算法'},\n",
       " ChatCompletionMessage(content=None, role='assistant', function_call=None, tool_calls=[ChatCompletionMessageToolCall(id='call_OqKaG4mk8Z5oEVKCYsd5rSCO', function=Function(arguments='{\"data\":\"x1  x2\\\\n0   1\\\\n1   2\"}', name='sunwukong_function'), type='function')])]"
      ]
     },
     "execution_count": 24,
     "metadata": {},
     "output_type": "execute_result"
    }
   ],
   "source": [
    "# 追加第一次模型返回结果消息\n",
    "messages.append(first_response)  \n",
    "messages"
   ]
  },
  {
   "cell_type": "code",
   "execution_count": 25,
   "metadata": {},
   "outputs": [],
   "source": [
    "# 追加function返回消息\n",
    "messages.append(\n",
    "        {\n",
    "            \"tool_call_id\": tool_call.id,\n",
    "            \"role\": \"tool\",\n",
    "            \"name\": function_name,\n",
    "            \"content\": function_response,\n",
    "        }\n",
    ")"
   ]
  },
  {
   "cell_type": "code",
   "execution_count": 26,
   "metadata": {},
   "outputs": [
    {
     "data": {
      "text/plain": [
       "[{'role': 'system',\n",
       "  'content': '数据集data：   x1  x2\\n0   1   3\\n1   2   4，数据集以字符串形式呈现'},\n",
       " {'role': 'user', 'content': '请在数据集data上执行孙悟空算法'},\n",
       " ChatCompletionMessage(content=None, role='assistant', function_call=None, tool_calls=[ChatCompletionMessageToolCall(id='call_OqKaG4mk8Z5oEVKCYsd5rSCO', function=Function(arguments='{\"data\":\"x1  x2\\\\n0   1\\\\n1   2\"}', name='sunwukong_function'), type='function')]),\n",
       " {'tool_call_id': 'call_OqKaG4mk8Z5oEVKCYsd5rSCO',\n",
       "  'role': 'tool',\n",
       "  'name': 'sunwukong_function',\n",
       "  'content': '\"    x2\\\\nx1    \\\\n0   10\\\\n1   20\"'}]"
      ]
     },
     "execution_count": 26,
     "metadata": {},
     "output_type": "execute_result"
    }
   ],
   "source": [
    "messages"
   ]
  },
  {
   "cell_type": "code",
   "execution_count": 27,
   "metadata": {},
   "outputs": [
    {
     "name": "stdout",
     "output_type": "stream",
     "text": [
      "根据孙悟空算法在数据集data上的执行结果，生成的新数据集如下所示：\n",
      "\n",
      "```\n",
      "    x2\n",
      "x1    \n",
      "0   10\n",
      "1   20\n",
      "```\n"
     ]
    }
   ],
   "source": [
    "second_response = client.chat.completions.create(\n",
    "    model=\"gpt-3.5-turbo\",\n",
    "    messages=messages,\n",
    ")\n",
    " \n",
    "\n",
    "print(second_response.choices[0].message.content)"
   ]
  },
  {
   "cell_type": "code",
   "execution_count": 28,
   "metadata": {},
   "outputs": [],
   "source": [
    "from openai import OpenAI\n",
    "import json\n",
    "\n",
    "api_key = os.getenv(\"OPENAI_API_KEY\")\n",
    "api_base=\"https://newone.nxykj.tech/v1\"\n",
    "\n",
    "\n",
    "client = OpenAI(api_key=api_key ,base_url=api_base)\n",
    "\n",
    "# Example dummy function hard coded to return the same weather\n",
    "# In production, this could be your backend API or an external API\n",
    "def sunwukong_function(data):\n",
    "    \"\"\"\n",
    "    孙悟空算法函数，该函数定义了数据集计算过程\n",
    "    :param data: 必要参数，表示带入计算的数据表，用字符串进行表示\n",
    "    :return：sunwukong_function函数计算后的结果，返回结果为表示为JSON格式的Dataframe类型对象\n",
    "    \"\"\"\n",
    "    data = io.StringIO(data)\n",
    "    df_new = pd.read_csv(data, sep='\\s+', index_col=0)\n",
    "    res = df_new['x1'] * 10\n",
    "    return json.dumps(res.to_string())\n",
    "\n",
    "\n",
    "df_str=pd.DataFrame({'x1':[1, 2], 'x2':[3, 4]}).to_string\n",
    "\n",
    "def run_conversation():\n",
    "    # Step 1: send the conversation and available functions to the model\n",
    "    messages=[\n",
    "    {\"role\": \"system\", \"content\": \"数据集data：%s，数据集以字符串形式呈现\" % df_str},\n",
    "    {\"role\": \"user\", \"content\": \"请在数据集data上执行孙悟空算法\"}  \n",
    "        ]\n",
    "    tools = [\n",
    "    {\n",
    "        \"type\": \"function\",\n",
    "        \"function\": {\"name\": \"sunwukong_function\",\n",
    "                      \"description\": \"用于执行孙悟空算法函数，定义了一种特殊的数据集计算过程\",\n",
    "                      \"parameters\": {\"type\": \"object\",\n",
    "                                     \"properties\": {\"data\": {\"type\": \"string\",\n",
    "                                                             \"description\": \"执行孙悟空算法的数据集\"},\n",
    "                                                   },\n",
    "                                     \"required\": [\"data\"],\n",
    "                                    },\n",
    "                     }\n",
    "    }]\n",
    "\n",
    "    response = client.chat.completions.create(\n",
    "        model=\"gpt-3.5-turbo\",\n",
    "        messages=messages,\n",
    "        tools=tools,\n",
    "        tool_choice=\"auto\",  # auto is default, but we'll be explicit\n",
    "    )\n",
    "    response_message = response.choices[0].message\n",
    "    tool_calls = response_message.tool_calls\n",
    "    # Step 2: check if the model wanted to call a function\n",
    "    if tool_calls:\n",
    "        # Step 3: call the function\n",
    "        # Note: the JSON response may not always be valid; be sure to handle errors\n",
    "        available_functions = {\n",
    "            \"sunwukong_function\": sunwukong_function,\n",
    "        }  # only one function in this example, but you can have multiple\n",
    "        messages.append(response_message)  # extend conversation with assistant's reply\n",
    "        # Step 4: send the info for each function call and function response to the model\n",
    "        for tool_call in tool_calls:\n",
    "            function_name = tool_call.function.name\n",
    "            function_to_call = available_functions[function_name]\n",
    "            function_args = json.loads(tool_call.function.arguments)\n",
    "            function_response = function_to_call(**function_args)\n",
    "            messages.append(\n",
    "                {\n",
    "                    \"tool_call_id\": tool_call.id,\n",
    "                    \"role\": \"tool\",\n",
    "                    \"name\": function_name,\n",
    "                    \"content\": function_response,\n",
    "                }\n",
    "            )  # extend conversation with function response\n",
    "        second_response = client.chat.completions.create(\n",
    "            model=\"gpt-3.5-turbo\",\n",
    "            messages=messages,\n",
    "        )  # get a new response from the model where it can see the function response\n",
    "        return second_response\n",
    "result=run_conversation()"
   ]
  },
  {
   "cell_type": "code",
   "execution_count": 29,
   "metadata": {},
   "outputs": [
    {
     "data": {
      "text/plain": [
       "'执行孙悟空算法后得到的结果为：\\n\\n```\\n   x1  x2\\n0   10   30\\n1   20   40\\n```'"
      ]
     },
     "execution_count": 29,
     "metadata": {},
     "output_type": "execute_result"
    }
   ],
   "source": [
    "result.choices[0].message.content"
   ]
  },
  {
   "cell_type": "code",
   "execution_count": 43,
   "metadata": {},
   "outputs": [
    {
     "data": {
      "text/html": [
       "<div>\n",
       "<style scoped>\n",
       "    .dataframe tbody tr th:only-of-type {\n",
       "        vertical-align: middle;\n",
       "    }\n",
       "\n",
       "    .dataframe tbody tr th {\n",
       "        vertical-align: top;\n",
       "    }\n",
       "\n",
       "    .dataframe thead th {\n",
       "        text-align: right;\n",
       "    }\n",
       "</style>\n",
       "<table border=\"1\" class=\"dataframe\">\n",
       "  <thead>\n",
       "    <tr style=\"text-align: right;\">\n",
       "      <th></th>\n",
       "      <th>x1\\n0</th>\n",
       "      <th>10\\n1</th>\n",
       "      <th>20\\n.</th>\n",
       "    </tr>\n",
       "    <tr>\n",
       "      <th>\\n</th>\n",
       "      <th></th>\n",
       "      <th></th>\n",
       "      <th></th>\n",
       "    </tr>\n",
       "  </thead>\n",
       "  <tbody>\n",
       "  </tbody>\n",
       "</table>\n",
       "</div>"
      ],
      "text/plain": [
       "Empty DataFrame\n",
       "Columns: [x1\\n0, 10\\n1, 20\\n.]\n",
       "Index: []"
      ]
     },
     "execution_count": 43,
     "metadata": {},
     "output_type": "execute_result"
    }
   ],
   "source": [
    "# 使用StringIO将字符串转换为文件对象\n",
    "df_str='\\\\n    x1\\\\n0  10\\\\n1  20\\\\n.'\n",
    "data = io.StringIO(df_str)\n",
    "\n",
    "# 使用read_csv()函数读取数据，并设置第一列为索引\n",
    "df_new = pd.read_csv(data, sep='\\s+', index_col=0)\n",
    "df_new"
   ]
  },
  {
   "cell_type": "code",
   "execution_count": null,
   "metadata": {},
   "outputs": [],
   "source": []
  },
  {
   "cell_type": "markdown",
   "metadata": {},
   "source": [
    "# 2. Function Calling函数封装"
   ]
  },
  {
   "cell_type": "code",
   "execution_count": 30,
   "metadata": {},
   "outputs": [],
   "source": [
    "import openai\n",
    "import os\n",
    "import numpy as np\n",
    "import pandas as pd\n",
    "import json\n",
    "import io\n",
    "from openai import OpenAI\n",
    "\n",
    "\n",
    "api_key = os.getenv(\"OPENAI_API_KEY\")\n",
    "api_base=\"https://newone.nxykj.tech/v1\"\n",
    "\n",
    "\n",
    "client = OpenAI(api_key=api_key ,base_url=api_base)"
   ]
  },
  {
   "cell_type": "code",
   "execution_count": 177,
   "metadata": {},
   "outputs": [
    {
     "data": {
      "text/plain": [
       "'JSON Schema 是一种基于文本的开放标准，用于定义和验证JSON（JavaScript Object Notation）数据结构的规范。JSON是一种轻量级的数据交换格式，易于人阅读和编写，同时也易于机器解析和生成。JSON Schema提供了一种清晰的方式来描述JSON格式的数据应该如何组织，以及数据中的哪些字段是必需的，它们的数据类型是什么，以及它们是否符合特定的约束等。\\n\\n以下是JSON Schema的几个关键点：\\n\\n1. **描述性**: 它可以描述数据的结构和验证规则。例如，它可以声明特定的JSON对象必须有哪些字段，每个字段的数据类型是什么，是否可选，以及数据范围或模式。\\n\\n2. **验证**: JSON Schema通常用于数据验证。在数据传输或API调用时，可以使用JSON Schema来确保接收到的数据满足预期的格式。\\n\\n3. **互操作性**: 它是标准化的，这意味着它可以在不同的系统和语言之间提供一致的数据验证逻辑。\\n\\n4. **自文档化**: 由于Schema本身就是JSON格式，它可以用作文档，说明JSON数据的结构和用法。\\n\\n5. **扩展性**: 它可以通过引用其他Schema或定义复杂的数据结构来进行扩展。\\n\\n一个简单的JSON Schema示例可能如下，它描述了一个包含姓名和年龄的对象：\\n\\n```json\\n{\\n  \"$schema\": \"http://json-schema.org/draft-07/schema#\",\\n  \"type\": \"object\",\\n  \"properties\": {\\n    \"name\": {\\n      \"type\": \"string\"\\n    },\\n    \"age\": {\\n      \"type\": \"integer\",\\n      \"minimum\": 0\\n    }\\n  },\\n  \"required\": [\"name\", \"age\"]\\n}\\n```\\n\\n在这个例子中，`type` 定义了数据类型，`properties` 定义了对象可包含的属性及其类型，`required` 定义了必需的属性列表。这个Schema要求数据是一个对象，必须包含名为`name`的字符串类型属性和名为`age`的整数类型属性，且`age`不能是负数。'"
      ]
     },
     "execution_count": 177,
     "metadata": {},
     "output_type": "execute_result"
    }
   ],
   "source": [
    "response = client.chat.completions.create(\n",
    "  model=\"gpt-4-0613\",\n",
    "  messages=[\n",
    "    {\"role\": \"user\", \"content\": \"什么是JSON Schema？\"}\n",
    "  ]\n",
    ")\n",
    "\n",
    "response.choices[0].message.content"
   ]
  },
  {
   "cell_type": "code",
   "execution_count": 31,
   "metadata": {},
   "outputs": [],
   "source": [
    "def sunwukong_function(data):\n",
    "    \"\"\"\n",
    "    孙悟空算法函数，该函数定义了数据集计算过程\n",
    "    :param data: 必要参数，表示带入计算的数据表，用字符串进行表示\n",
    "    :return：sunwukong_function函数计算后的结果，返回结果为表示为JSON格式的Dataframe类型对象\n",
    "    \"\"\"\n",
    "    data = io.StringIO(data)\n",
    "    df_new = pd.read_csv(data, sep='\\s+', index_col=0)\n",
    "    res = df_new * 10\n",
    "    return json.dumps(res.to_string())"
   ]
  },
  {
   "cell_type": "code",
   "execution_count": 32,
   "metadata": {},
   "outputs": [],
   "source": [
    "# 创建一个DataFrame\n",
    "df = pd.DataFrame({'x1':[1, 2], 'x2':[3, 4]})\n",
    "\n",
    "df_str = df.to_string()\n",
    "\n",
    "data = io.StringIO(df_str)\n",
    "\n",
    "df_new = pd.read_csv(data, sep='\\s+', index_col=0)"
   ]
  },
  {
   "cell_type": "code",
   "execution_count": 33,
   "metadata": {},
   "outputs": [],
   "source": [
    "sunwukong={\n",
    "        \"type\": \"function\",\n",
    "        \"function\": {\"name\": \"sunwukong_function\",\n",
    "                      \"description\": \"用于执行孙悟空算法函数，定义了一种特殊的数据集计算过程\",\n",
    "                      \"parameters\": {\"type\": \"object\",\n",
    "                                     \"properties\": {\"data\": {\"type\": \"string\",\n",
    "                                                             \"description\": \"执行孙悟空算法的数据集\"},\n",
    "                                                   },\n",
    "                                     \"required\": [\"data\"],\n",
    "                                    },\n",
    "                     }\n",
    "        }"
   ]
  },
  {
   "cell_type": "code",
   "execution_count": 34,
   "metadata": {},
   "outputs": [],
   "source": [
    "tools = [sunwukong]"
   ]
  },
  {
   "cell_type": "code",
   "execution_count": 35,
   "metadata": {},
   "outputs": [],
   "source": [
    "available_tools =  {\n",
    "    \"sunwukong_function\": sunwukong_function,\n",
    "}"
   ]
  },
  {
   "cell_type": "code",
   "execution_count": 36,
   "metadata": {},
   "outputs": [
    {
     "name": "stdout",
     "output_type": "stream",
     "text": [
      "孙悟空算法函数，该函数定义了数据集计算过程\n",
      ":param data: 必要参数，表示带入计算的数据表，用字符串进行表示\n",
      ":return：sunwukong_function函数计算后的结果，返回结果为表示为JSON格式的Dataframe类型对象\n"
     ]
    }
   ],
   "source": [
    "import inspect\n",
    "\n",
    "print(inspect.getdoc(sunwukong_function))"
   ]
  },
  {
   "cell_type": "code",
   "execution_count": 37,
   "metadata": {},
   "outputs": [],
   "source": [
    "function_description = inspect.getdoc(sunwukong_function)"
   ]
  },
  {
   "cell_type": "code",
   "execution_count": 38,
   "metadata": {},
   "outputs": [
    {
     "data": {
      "text/plain": [
       "'{\\n    \"type\": \"object\",\\n    \"properties\": {\\n        \"data\": {\\n            \"type\": \"string\"\\n        }\\n    },\\n    \"required\": [\"data\"]\\n}'"
      ]
     },
     "execution_count": 38,
     "metadata": {},
     "output_type": "execute_result"
    }
   ],
   "source": [
    "response = client.chat.completions.create(\n",
    "  model=\"gpt-3.5-turbo\",\n",
    "  messages=[\n",
    "    {\"role\": \"system\", \"content\": \"以下是孙悟空函数的函数说明：%s\" % function_description},\n",
    "    {\"role\": \"user\", \"content\": \"请帮我编写一个JSON Schema对象，用于说明孙悟空函数的参数输入规范。输出结果要求是JSON Schema格式的JONS类型对象，不需要任何前后修饰语句。\"}\n",
    "  ]\n",
    ")\n",
    "response.choices[0].message.content"
   ]
  },
  {
   "cell_type": "code",
   "execution_count": 53,
   "metadata": {},
   "outputs": [
    {
     "data": {
      "text/plain": [
       "'{\\n  \"$schema\": \"http://json-schema.org/draft-07/schema#\",\\n  \"type\": \"object\",\\n  \"properties\": {\\n    \"data\": {\\n      \"type\": \"string\"\\n    }\\n  },\\n  \"required\": [\"data\"]\\n}'"
      ]
     },
     "execution_count": 53,
     "metadata": {},
     "output_type": "execute_result"
    }
   ],
   "source": [
    "\n",
    "response.choices[0].message.content\n"
   ]
  },
  {
   "cell_type": "code",
   "execution_count": 40,
   "metadata": {},
   "outputs": [],
   "source": [
    "r=response.choices[0].message.content.replace(\"```\",\"\").replace(\"json\",\"\")"
   ]
  },
  {
   "cell_type": "code",
   "execution_count": 202,
   "metadata": {},
   "outputs": [],
   "source": [
    "s='{\\n  \"$schema\": \"http://json-schema.org/draft-07/schema#\",\\n  \"type\": \"object\",\\n  \"properties\": {\\n    \"data\": {\\n      \"type\": \"string\"\\n    }\\n  },\\n  \"required\": [\"data\"]\\n}'"
   ]
  },
  {
   "cell_type": "code",
   "execution_count": 41,
   "metadata": {},
   "outputs": [
    {
     "data": {
      "text/plain": [
       "{'type': 'object',\n",
       " 'properties': {'data': {'type': 'string'}},\n",
       " 'required': ['data']}"
      ]
     },
     "execution_count": 41,
     "metadata": {},
     "output_type": "execute_result"
    }
   ],
   "source": [
    "json.loads(r)"
   ]
  },
  {
   "cell_type": "code",
   "execution_count": null,
   "metadata": {},
   "outputs": [],
   "source": []
  },
  {
   "cell_type": "code",
   "execution_count": 42,
   "metadata": {},
   "outputs": [
    {
     "data": {
      "text/plain": [
       "{'type': 'function',\n",
       " 'function': {'name': 'sunwukong_function',\n",
       "  'description': '用于执行孙悟空算法函数，定义了一种特殊的数据集计算过程',\n",
       "  'parameters': {'type': 'object',\n",
       "   'properties': {'data': {'type': 'string', 'description': '执行孙悟空算法的数据集'}},\n",
       "   'required': ['data']}}}"
      ]
     },
     "execution_count": 42,
     "metadata": {},
     "output_type": "execute_result"
    }
   ],
   "source": [
    "sunwukong"
   ]
  },
  {
   "cell_type": "code",
   "execution_count": 43,
   "metadata": {},
   "outputs": [
    {
     "data": {
      "text/plain": [
       "{'type': 'object',\n",
       " 'properties': {'data': {'type': 'string', 'description': '执行孙悟空算法的数据集'}},\n",
       " 'required': ['data']}"
      ]
     },
     "execution_count": 43,
     "metadata": {},
     "output_type": "execute_result"
    }
   ],
   "source": [
    "sunwukong['function']['parameters']"
   ]
  },
  {
   "cell_type": "code",
   "execution_count": 44,
   "metadata": {},
   "outputs": [],
   "source": [
    "system_prompt = '以下是某的函数说明：%s' % function_description\n",
    "user_prompt = '根据这个函数的函数说明，请帮我创建一个JSON格式的字典，这个字典有如下5点要求：\\\n",
    "               1.字典总共有三个键值对；\\\n",
    "               2.第一个键值对的Key是字符串name，value是该函数的名字：%s，也是字符串；\\\n",
    "               3.第二个键值对的Key是字符串description，value是该函数的函数的功能说明，也是字符串；\\\n",
    "               4.第三个键值对的Key是字符串parameters，value是一个JSON Schema对象，用于说明该函数的参数输入规范。\\\n",
    "               5.输出结果必须是一个JSON格式的字典，且不需要任何前后修饰语句' % function_name"
   ]
  },
  {
   "cell_type": "code",
   "execution_count": 45,
   "metadata": {},
   "outputs": [
    {
     "data": {
      "text/plain": [
       "'{\\n    \"name\": \"sunwukong_function\",\\n    \"description\": \"孙悟空算法函数，该函数定义了数据集计算过程\",\\n    \"parameters\": {\\n        \"type\": \"object\",\\n        \"properties\": {\\n            \"data\": {\\n                \"type\": \"string\",\\n                \"description\": \"必要参数，表示带入计算的数据表，用字符串进行表示\"\\n            }\\n        },\\n        \"required\": [\"data\"]\\n    }\\n}'"
      ]
     },
     "execution_count": 45,
     "metadata": {},
     "output_type": "execute_result"
    }
   ],
   "source": [
    "response = client.chat.completions.create(\n",
    "  model=\"gpt-3.5-turbo\",\n",
    "  messages=[\n",
    "    {\"role\": \"system\", \"content\": system_prompt},\n",
    "    {\"role\": \"user\", \"content\": user_prompt}\n",
    "  ]\n",
    ")\n",
    "response.choices[0].message.content"
   ]
  },
  {
   "cell_type": "code",
   "execution_count": 46,
   "metadata": {},
   "outputs": [],
   "source": [
    "json_function_description=json.loads(response.choices[0].message.content.replace(\"```\",\"\").replace(\"json\",\"\"))"
   ]
  },
  {
   "cell_type": "code",
   "execution_count": 47,
   "metadata": {},
   "outputs": [
    {
     "data": {
      "text/plain": [
       "{'name': 'sunwukong_function',\n",
       " 'description': '孙悟空算法函数，该函数定义了数据集计算过程',\n",
       " 'parameters': {'type': 'object',\n",
       "  'properties': {'data': {'type': 'string',\n",
       "    'description': '必要参数，表示带入计算的数据表，用字符串进行表示'}},\n",
       "  'required': ['data']}}"
      ]
     },
     "execution_count": 47,
     "metadata": {},
     "output_type": "execute_result"
    }
   ],
   "source": [
    "json_function_description"
   ]
  },
  {
   "cell_type": "code",
   "execution_count": 48,
   "metadata": {},
   "outputs": [
    {
     "data": {
      "text/plain": [
       "{'type': 'function',\n",
       " 'function': {'name': 'sunwukong_function',\n",
       "  'description': '用于执行孙悟空算法函数，定义了一种特殊的数据集计算过程',\n",
       "  'parameters': {'type': 'object',\n",
       "   'properties': {'data': {'type': 'string', 'description': '执行孙悟空算法的数据集'}},\n",
       "   'required': ['data']}}}"
      ]
     },
     "execution_count": 48,
     "metadata": {},
     "output_type": "execute_result"
    }
   ],
   "source": [
    "sunwukong"
   ]
  },
  {
   "cell_type": "code",
   "execution_count": 49,
   "metadata": {},
   "outputs": [
    {
     "data": {
      "text/plain": [
       "{'type': 'function',\n",
       " 'function': {'name': 'sunwukong_function',\n",
       "  'description': '孙悟空算法函数，该函数定义了数据集计算过程',\n",
       "  'parameters': {'type': 'object',\n",
       "   'properties': {'data': {'type': 'string',\n",
       "     'description': '必要参数，表示带入计算的数据表，用字符串进行表示'}},\n",
       "   'required': ['data']}}}"
      ]
     },
     "execution_count": 49,
     "metadata": {},
     "output_type": "execute_result"
    }
   ],
   "source": [
    "json_str={\"type\": \"function\",\"function\":json_function_description}\n",
    "json_str"
   ]
  },
  {
   "cell_type": "code",
   "execution_count": 65,
   "metadata": {},
   "outputs": [
    {
     "data": {
      "text/plain": [
       "{'type': 'function',\n",
       " 'function': {'name': 'sunwukong_function',\n",
       "  'description': '用于执行孙悟空算法函数，定义了一种特殊的数据集计算过程',\n",
       "  'parameters': {'type': 'object',\n",
       "   'properties': {'data': {'type': 'string', 'description': '执行孙悟空算法的数据集'}},\n",
       "   'required': ['data']}}}"
      ]
     },
     "execution_count": 65,
     "metadata": {},
     "output_type": "execute_result"
    }
   ],
   "source": [
    "sunwukong"
   ]
  },
  {
   "cell_type": "markdown",
   "metadata": {},
   "source": [
    "### 定义自动输出function 参数的函数"
   ]
  },
  {
   "cell_type": "code",
   "execution_count": 50,
   "metadata": {},
   "outputs": [],
   "source": [
    "def auto_functions(functions_list):\n",
    "    \"\"\"\n",
    "    Chat模型的functions参数编写函数\n",
    "    :param functions_list: 包含一个或者多个函数对象的列表；\n",
    "    :return：满足Chat模型functions参数要求的functions对象\n",
    "    \"\"\"\n",
    "    def functions_generate(functions_list):\n",
    "        # 创建空列表，用于保存每个函数的描述字典\n",
    "        functions = []\n",
    "        # 对每个外部函数进行循环\n",
    "        for function in functions_list:\n",
    "            # 读取函数对象的函数说明\n",
    "            function_description = inspect.getdoc(function)\n",
    "            # 读取函数的函数名字符串\n",
    "            function_name = function.__name__\n",
    "\n",
    "            system_prompt = '以下是某的函数说明：%s' % function_description\n",
    "            user_prompt = '根据这个函数的函数说明，请帮我创建一个JSON格式的字典，这个字典有如下5点要求：\\\n",
    "                           1.字典总共有三个键值对；\\\n",
    "                           2.第一个键值对的Key是字符串name，value是该函数的名字：%s，也是字符串；\\\n",
    "                           3.第二个键值对的Key是字符串description，value是该函数的函数的功能说明，也是字符串；\\\n",
    "                           4.第三个键值对的Key是字符串parameters，value是一个JSON Schema对象，用于说明该函数的参数输入规范。\\\n",
    "                           5.输出结果必须是一个JSON格式的字典，只输出这个字典即可，前后不需要任何前后修饰或说明的语句' % function_name\n",
    "\n",
    "            response = client.chat.completions.create(\n",
    "                              model=\"gpt-3.5-turbo\",\n",
    "                              messages=[\n",
    "                                {\"role\": \"system\", \"content\": system_prompt},\n",
    "                                {\"role\": \"user\", \"content\": user_prompt}\n",
    "                              ]\n",
    "                            )\n",
    "            json_function_description=json.loads(response.choices[0].message.content.replace(\"```\",\"\").replace(\"json\",\"\"))\n",
    "            json_str={\"type\": \"function\",\"function\":json_function_description}\n",
    "            functions.append(json_str)\n",
    "        return functions\n",
    "    ## 最大可以尝试4次\n",
    "    max_attempts = 4\n",
    "    attempts = 0\n",
    "\n",
    "    while attempts < max_attempts:\n",
    "        try:\n",
    "            functions = functions_generate(functions_list)\n",
    "            break  # 如果代码成功执行，跳出循环\n",
    "        except Exception as e:\n",
    "            attempts += 1  # 增加尝试次数\n",
    "            print(\"发生错误：\", e)\n",
    "            if attempts == max_attempts:\n",
    "                print(\"已达到最大尝试次数，程序终止。\")\n",
    "                raise  # 重新引发最后一个异常\n",
    "            else:\n",
    "                print(\"正在重新运行...\")\n",
    "    return functions"
   ]
  },
  {
   "cell_type": "code",
   "execution_count": 53,
   "metadata": {},
   "outputs": [],
   "source": [
    "functions_list = [sunwukong_function]\n",
    "tools = auto_functions(functions_list)"
   ]
  },
  {
   "cell_type": "code",
   "execution_count": 54,
   "metadata": {},
   "outputs": [
    {
     "data": {
      "text/plain": [
       "[{'type': 'function',\n",
       "  'function': {'name': 'sunwukong_function',\n",
       "   'description': '孙悟空算法函数，该函数定义了数据集计算过程',\n",
       "   'parameters': {'type': 'object',\n",
       "    'properties': {'data': {'type': 'string',\n",
       "      'description': '必要参数，表示带入计算的数据表，用字符串进行表示'}},\n",
       "    'required': ['data'],\n",
       "    'additionalProperties': False}}}]"
      ]
     },
     "execution_count": 54,
     "metadata": {},
     "output_type": "execute_result"
    }
   ],
   "source": [
    "tools"
   ]
  },
  {
   "cell_type": "code",
   "execution_count": 55,
   "metadata": {},
   "outputs": [
    {
     "data": {
      "text/plain": [
       "'   x1  x2\\n0   1   3\\n1   2   4'"
      ]
     },
     "execution_count": 55,
     "metadata": {},
     "output_type": "execute_result"
    }
   ],
   "source": [
    "df_str = pd.DataFrame({'x1':[1, 2], 'x2':[3, 4]}).to_string()\n",
    "df_str"
   ]
  },
  {
   "cell_type": "code",
   "execution_count": 56,
   "metadata": {},
   "outputs": [],
   "source": [
    "messages=[\n",
    "    {\"role\": \"system\", \"content\": \"数据集data：%s，数据集以字符串形式呈现\" % df_str},\n",
    "    {\"role\": \"user\", \"content\": \"请在数据集data上执行孙悟空算法\"}\n",
    "]"
   ]
  },
  {
   "cell_type": "code",
   "execution_count": 57,
   "metadata": {},
   "outputs": [
    {
     "data": {
      "text/plain": [
       "ChatCompletionMessage(content=None, role='assistant', function_call=None, tool_calls=[ChatCompletionMessageToolCall(id='call_u5kK1HsDBQICDX865JLVnuuf', function=Function(arguments='{\"data\":\"   x1  x2\\\\n0   1   3\\\\n1   2   4\"}', name='sunwukong_function'), type='function')])"
      ]
     },
     "execution_count": 57,
     "metadata": {},
     "output_type": "execute_result"
    }
   ],
   "source": [
    "response = client.chat.completions.create(\n",
    "        model=\"gpt-3.5-turbo\",\n",
    "        messages=messages,\n",
    "        tools=tools,\n",
    "        tool_choice=\"auto\",  \n",
    "    )\n",
    "response.choices[0].message"
   ]
  },
  {
   "cell_type": "code",
   "execution_count": 59,
   "metadata": {},
   "outputs": [],
   "source": [
    "def tangseng_function(data):\n",
    "    \"\"\"\n",
    "    唐僧算法函数，该函数定义了数据集计算过程\n",
    "    :param data: 必要参数，表示带入计算的数据表，用字符串进行表示\n",
    "    :return：tangseng_function函数计算后的结果，返回结果为表示为JSON格式的Dataframe类型对象\n",
    "    \"\"\"\n",
    "    data = io.StringIO(data)\n",
    "    df_new = pd.read_csv(data, sep='\\s+', index_col=0)\n",
    "    res = df_new * 1000000\n",
    "    return json.dumps(res.to_string())"
   ]
  },
  {
   "cell_type": "code",
   "execution_count": 80,
   "metadata": {},
   "outputs": [],
   "source": [
    "functions_list=[sunwukong_function,tangseng_function]"
   ]
  },
  {
   "cell_type": "code",
   "execution_count": 98,
   "metadata": {},
   "outputs": [
    {
     "data": {
      "text/plain": [
       "[{'type': 'function',\n",
       "  'function': {'name': 'sunwukong_function',\n",
       "   'description': '孙悟空算法函数，该函数定义了数据集计算过程',\n",
       "   'parameters': {'type': 'object',\n",
       "    'properties': {'data': {'type': 'string',\n",
       "      'description': '必要参数，表示带入计算的数据表，用字符串进行表示'}},\n",
       "    'required': ['data']}}},\n",
       " {'type': 'function',\n",
       "  'function': {'name': 'tangseng_function',\n",
       "   'description': '唐僧算法函数，该函数定义了数据集计算过程',\n",
       "   'parameters': {'type': 'object',\n",
       "    'properties': {'data': {'type': 'string', 'description': '表示带入计算的数据表'}},\n",
       "    'required': ['data'],\n",
       "    'additionalProperties': False}}}]"
      ]
     },
     "execution_count": 98,
     "metadata": {},
     "output_type": "execute_result"
    }
   ],
   "source": [
    "tools = auto_functions(functions_list)\n",
    "tools"
   ]
  },
  {
   "cell_type": "code",
   "execution_count": 62,
   "metadata": {},
   "outputs": [
    {
     "data": {
      "text/plain": [
       "ChatCompletionMessage(content=None, role='assistant', function_call=None, tool_calls=[ChatCompletionMessageToolCall(id='call_qsPKQXispR44I1iXNLe1imzF', function=Function(arguments='{\"data\":\"x1  x2\\\\n0   1   3\\\\n1   2   4\"}', name='tangseng_function'), type='function')])"
      ]
     },
     "execution_count": 62,
     "metadata": {},
     "output_type": "execute_result"
    }
   ],
   "source": [
    "messages=[\n",
    "    {\"role\": \"system\", \"content\": \"数据集data：%s，数据集以字符串形式呈现\" % df_str},\n",
    "    {\"role\": \"user\", \"content\": \"请在数据集data上执行唐僧算法函数\"}\n",
    "]\n",
    "response = client.chat.completions.create(\n",
    "        model=\"gpt-3.5-turbo\",\n",
    "        messages=messages,\n",
    "        tools=tools,\n",
    "        tool_choice=\"auto\", \n",
    "    )\n",
    "response.choices[0].message\n"
   ]
  },
  {
   "cell_type": "markdown",
   "metadata": {},
   "source": [
    "# 3. 封装调用2轮response的函数"
   ]
  },
  {
   "cell_type": "code",
   "execution_count": 63,
   "metadata": {},
   "outputs": [
    {
     "data": {
      "text/plain": [
       "[<function __main__.sunwukong_function(data)>,\n",
       " <function __main__.tangseng_function(data)>]"
      ]
     },
     "execution_count": 63,
     "metadata": {},
     "output_type": "execute_result"
    }
   ],
   "source": [
    "functions_list"
   ]
  },
  {
   "cell_type": "code",
   "execution_count": 103,
   "metadata": {},
   "outputs": [],
   "source": [
    "def run_conversation(messages, functions_list=None, model=\"gpt-3.5-turbo\"):\n",
    "    \"\"\"\n",
    "    能够自动执行外部函数调用的对话模型\n",
    "    :param messages: 必要参数，字典类型，输入到Chat模型的messages参数对象\n",
    "    :param functions_list: 可选参数，默认为None，可以设置为包含全部外部函数的列表对象\n",
    "    :param model: Chat模型，可选参数，默认模型为gpt-3.5-turbo\n",
    "    :return：Chat模型输出结果\n",
    "    \"\"\"\n",
    "    # 如果没有外部函数库，则执行普通的对话任务\n",
    "    if functions_list == None:\n",
    "        response = client.chat.completions.create(\n",
    "                        model=model,\n",
    "                        messages=messages,\n",
    "                        )\n",
    "        response_message = response.choices[0].message\n",
    "        final_response = response_message.content\n",
    "        \n",
    "    # 若存在外部函数库，则需要灵活选取外部函数并进行回答\n",
    "    else:\n",
    "        # 创建functions对象\n",
    "        tools = auto_functions(functions_list)\n",
    "\n",
    "        # 创建外部函数库字典\n",
    "        available_functions = {func.__name__: func for func in functions_list}\n",
    "\n",
    "        # 第一次调用大模型\n",
    "        response = client.chat.completions.create(\n",
    "                        model=model,\n",
    "                        messages=messages,\n",
    "                        tools=tools,\n",
    "                        tool_choice=\"auto\", )\n",
    "        response_message = response.choices[0].message\n",
    "\n",
    "\n",
    "        tool_calls = response_message.tool_calls\n",
    "\n",
    "        if tool_calls:\n",
    "\n",
    "            messages.append(response_message) \n",
    "            for tool_call in tool_calls:\n",
    "                function_name = tool_call.function.name\n",
    "                function_to_call = available_functions[function_name]\n",
    "                function_args = json.loads(tool_call.function.arguments)\n",
    "                ## 真正执行外部函数的就是这儿的代码\n",
    "                function_response = function_to_call(**function_args)\n",
    "                messages.append(\n",
    "                    {\n",
    "                        \"tool_call_id\": tool_call.id,\n",
    "                        \"role\": \"tool\",\n",
    "                        \"name\": function_name,\n",
    "                        \"content\": function_response,\n",
    "                    }\n",
    "                ) \n",
    "            ## 第二次调用模型\n",
    "            second_response = client.chat.completions.create(\n",
    "                model=model,\n",
    "                messages=messages,\n",
    "            ) \n",
    "            # 获取最终结果\n",
    "            final_response = second_response.choices[0].message.content\n",
    "        else:\n",
    "            final_response = response_message.content\n",
    "                \n",
    "    return final_response"
   ]
  },
  {
   "cell_type": "code",
   "execution_count": 118,
   "metadata": {},
   "outputs": [
    {
     "data": {
      "text/plain": [
       "'   x1  x2\\n0   1   3\\n1   2   4'"
      ]
     },
     "execution_count": 118,
     "metadata": {},
     "output_type": "execute_result"
    }
   ],
   "source": [
    "df_str = pd.DataFrame({'x1':[1, 2], 'x2':[3, 4]}).to_string()\n",
    "df_str"
   ]
  },
  {
   "cell_type": "code",
   "execution_count": 127,
   "metadata": {},
   "outputs": [],
   "source": [
    "## 测试一下函数（1）\n",
    "messages = [\n",
    "        {\"role\": \"system\", \"content\": \"数据集data：%s，数据集以字符串形式呈现\" % df_str},\n",
    "        {\"role\": \"user\", \"content\": '请在data上执行唐僧算法函数'}]\n"
   ]
  },
  {
   "cell_type": "code",
   "execution_count": 131,
   "metadata": {},
   "outputs": [
    {
     "data": {
      "text/plain": [
       "'唐僧算法函数已经成功应用于数据集data，得到的结果如下：\\n\\n```\\n        x1       x2\\n0  1000000  3000000\\n1  2000000  4000000\\n```'"
      ]
     },
     "execution_count": 131,
     "metadata": {},
     "output_type": "execute_result"
    }
   ],
   "source": [
    "run_conversation(messages = messages, functions_list = functions_list)"
   ]
  },
  {
   "cell_type": "code",
   "execution_count": 80,
   "metadata": {},
   "outputs": [],
   "source": [
    "## 测试一下函数（2）\n",
    "\n",
    "messages = [\n",
    "        {\"role\": \"system\", \"content\": \"数据集data：%s，数据集以字符串形式呈现\" % df_str},\n",
    "        {\"role\": \"user\", \"content\": '请在data上执行孙悟空算法函数'}]"
   ]
  },
  {
   "cell_type": "code",
   "execution_count": 81,
   "metadata": {},
   "outputs": [
    {
     "data": {
      "text/plain": [
       "'已在数据集上成功执行了孙悟空算法函数，修改后的数据集为：\\n\\n```\\n   x1  x2\\n0  10  30\\n1  20  40\\n```'"
      ]
     },
     "execution_count": 81,
     "metadata": {},
     "output_type": "execute_result"
    }
   ],
   "source": [
    "run_conversation(messages = messages, functions_list = functions_list)"
   ]
  },
  {
   "cell_type": "markdown",
   "metadata": {},
   "source": [
    "'已在数据集上成功执行了孙悟空算法函数，修改后的数据集为：\\n\\n```\\n   x1  x2\\n0  10  30\\n1  20  40\\n```'"
   ]
  },
  {
   "cell_type": "code",
   "execution_count": 82,
   "metadata": {},
   "outputs": [],
   "source": [
    "## 测试一下函数（3）\n",
    "\n",
    "messages = [\n",
    "        {\"role\": \"system\", \"content\": \"数据集data：%s，数据集以字符串形式呈现\" % df_str},\n",
    "        {\"role\": \"user\", \"content\": '请解释一下data数据集'}]"
   ]
  },
  {
   "cell_type": "code",
   "execution_count": 83,
   "metadata": {},
   "outputs": [
    {
     "data": {
      "text/plain": [
       "'数据集data是一个包含两列x1和x2的数据集，每一行表示一个数据点。例如，第一行的数据是x1=1，x2=3，第二行的数据是x1=2，x2=4。数据集以字符串形式呈现，可以使用这些数据点进行进一步的计算和分析。'"
      ]
     },
     "execution_count": 83,
     "metadata": {},
     "output_type": "execute_result"
    }
   ],
   "source": [
    "run_conversation(messages = messages, functions_list = functions_list)"
   ]
  },
  {
   "cell_type": "markdown",
   "metadata": {},
   "source": [
    "# 增加多轮对话的效果（附加代码练习）"
   ]
  },
  {
   "cell_type": "code",
   "execution_count": 1,
   "metadata": {},
   "outputs": [],
   "source": [
    "import openai\n",
    "import os\n",
    "import numpy as np\n",
    "import pandas as pd\n",
    "import json\n",
    "import io\n",
    "from openai import OpenAI\n",
    "import inspect\n",
    "\n",
    "api_key = os.getenv(\"OPENAI_API_KEY\")\n",
    "api_base=\"https://newone.nxykj.tech/v1\"\n",
    "\n",
    "\n",
    "client = OpenAI(api_key=api_key ,base_url=api_base)"
   ]
  },
  {
   "cell_type": "code",
   "execution_count": 9,
   "metadata": {},
   "outputs": [],
   "source": [
    "def sunwukong_function(data):\n",
    "    \"\"\"\n",
    "    孙悟空算法函数，该函数定义了数据集计算过程\n",
    "    :param data: 必要参数，表示带入计算的数据表，用字符串进行表示\n",
    "    :return：sunwukong_function函数计算后的结果，返回结果为表示为JSON格式的Dataframe类型对象\n",
    "    \"\"\"\n",
    "    data = io.StringIO(data)\n",
    "    df_new = pd.read_csv(data, sep='\\s+', index_col=0)\n",
    "    res = df_new * 10\n",
    "    return json.dumps(res.to_string())"
   ]
  },
  {
   "cell_type": "code",
   "execution_count": 3,
   "metadata": {},
   "outputs": [],
   "source": [
    "def tangseng_function(data):\n",
    "    \"\"\"\n",
    "    唐僧算法函数，该函数定义了数据集计算过程\n",
    "    :param data: 必要参数，表示带入计算的数据表，用字符串进行表示\n",
    "    :return：tangseng_function函数计算后的结果，返回结果为表示为JSON格式的Dataframe类型对象\n",
    "    \"\"\"\n",
    "    data = io.StringIO(data)\n",
    "    df_new = pd.read_csv(data, sep='\\s+', index_col=0)\n",
    "    res = df_new * 1000000\n",
    "    return json.dumps(res.to_string())"
   ]
  },
  {
   "cell_type": "code",
   "execution_count": 5,
   "metadata": {},
   "outputs": [],
   "source": [
    "def auto_functions(functions_list):\n",
    "    \"\"\"\n",
    "    Chat模型的functions参数编写函数\n",
    "    :param functions_list: 包含一个或者多个函数对象的列表；\n",
    "    :return：满足Chat模型functions参数要求的functions对象\n",
    "    \"\"\"\n",
    "    def functions_generate(functions_list):\n",
    "        # 创建空列表，用于保存每个函数的描述字典\n",
    "        functions = []\n",
    "        # 对每个外部函数进行循环\n",
    "        for function in functions_list:\n",
    "            # 读取函数对象的函数说明\n",
    "            function_description = inspect.getdoc(function)\n",
    "            # 读取函数的函数名字符串\n",
    "            function_name = function.__name__\n",
    "\n",
    "            system_prompt = '以下是某的函数说明：%s' % function_description\n",
    "            user_prompt = '根据这个函数的函数说明，请帮我创建一个JSON格式的字典，这个字典有如下5点要求：\\\n",
    "                           1.字典总共有三个键值对；\\\n",
    "                           2.第一个键值对的Key是字符串name，value是该函数的名字：%s，也是字符串；\\\n",
    "                           3.第二个键值对的Key是字符串description，value是该函数的函数的功能说明，也是字符串；\\\n",
    "                           4.第三个键值对的Key是字符串parameters，value是一个JSON Schema对象，用于说明该函数的参数输入规范。\\\n",
    "                           5.输出结果必须是一个JSON格式的字典，只输出这个字典即可，前后不需要任何前后修饰或说明的语句' % function_name\n",
    "\n",
    "            response = client.chat.completions.create(\n",
    "                              model=\"gpt-3.5-turbo\",\n",
    "                              messages=[\n",
    "                                {\"role\": \"system\", \"content\": system_prompt},\n",
    "                                {\"role\": \"user\", \"content\": user_prompt}\n",
    "                              ]\n",
    "                            )\n",
    "            json_function_description=json.loads(response.choices[0].message.content.replace(\"```\",\"\").replace(\"json\",\"\"))\n",
    "            json_str={\"type\": \"function\",\"function\":json_function_description}\n",
    "            functions.append(json_str)\n",
    "        return functions\n",
    "    ## 最大可以尝试4次\n",
    "    max_attempts = 4\n",
    "    attempts = 0\n",
    "\n",
    "    while attempts < max_attempts:\n",
    "        try:\n",
    "            functions = functions_generate(functions_list)\n",
    "            break  # 如果代码成功执行，跳出循环\n",
    "        except Exception as e:\n",
    "            attempts += 1  # 增加尝试次数\n",
    "            print(\"发生错误：\", e)\n",
    "            if attempts == max_attempts:\n",
    "                print(\"已达到最大尝试次数，程序终止。\")\n",
    "                raise  # 重新引发最后一个异常\n",
    "            else:\n",
    "                print(\"正在重新运行...\")\n",
    "    return functions"
   ]
  },
  {
   "cell_type": "code",
   "execution_count": 6,
   "metadata": {},
   "outputs": [],
   "source": [
    "def run_conversation(messages, functions_list=None, model=\"gpt-3.5-turbo\"):\n",
    "    \"\"\"\n",
    "    能够自动执行外部函数调用的对话模型\n",
    "    :param messages: 必要参数，字典类型，输入到Chat模型的messages参数对象\n",
    "    :param functions_list: 可选参数，默认为None，可以设置为包含全部外部函数的列表对象\n",
    "    :param model: Chat模型，可选参数，默认模型为gpt-3.5-turbo\n",
    "    :return：Chat模型输出结果\n",
    "    \"\"\"\n",
    "    # 如果没有外部函数库，则执行普通的对话任务\n",
    "    if functions_list == None:\n",
    "        response = client.chat.completions.create(\n",
    "                        model=model,\n",
    "                        messages=messages,\n",
    "                        )\n",
    "        response_message = response.choices[0].message\n",
    "        final_response = response_message.content\n",
    "        \n",
    "    # 若存在外部函数库，则需要灵活选取外部函数并进行回答\n",
    "    else:\n",
    "        # 创建functions对象\n",
    "        tools = auto_functions(functions_list)\n",
    "\n",
    "        # 创建外部函数库字典\n",
    "        available_functions = {func.__name__: func for func in functions_list}\n",
    "\n",
    "        # 第一次调用大模型\n",
    "        response = client.chat.completions.create(\n",
    "                        model=model,\n",
    "                        messages=messages,\n",
    "                        tools=tools,\n",
    "                        tool_choice=\"auto\", )\n",
    "        response_message = response.choices[0].message\n",
    "\n",
    "\n",
    "        tool_calls = response_message.tool_calls\n",
    "\n",
    "        if tool_calls:\n",
    "\n",
    "            messages.append(response_message) \n",
    "            for tool_call in tool_calls:\n",
    "                function_name = tool_call.function.name\n",
    "                function_to_call = available_functions[function_name]\n",
    "                function_args = json.loads(tool_call.function.arguments)\n",
    "                ## 真正执行外部函数的就是这儿的代码\n",
    "                function_response = function_to_call(**function_args)\n",
    "                messages.append(\n",
    "                    {\n",
    "                        \"tool_call_id\": tool_call.id,\n",
    "                        \"role\": \"tool\",\n",
    "                        \"name\": function_name,\n",
    "                        \"content\": function_response,\n",
    "                    }\n",
    "                ) \n",
    "            ## 第二次调用模型\n",
    "            second_response = client.chat.completions.create(\n",
    "                model=model,\n",
    "                messages=messages,\n",
    "            ) \n",
    "            # 获取最终结果\n",
    "            final_response = second_response.choices[0].message.content\n",
    "        else:\n",
    "            final_response = response_message.content\n",
    "                \n",
    "    return final_response"
   ]
  },
  {
   "cell_type": "code",
   "execution_count": 7,
   "metadata": {},
   "outputs": [],
   "source": [
    "def chat_with_model(functions_list=None, \n",
    "                    prompt=\"你好\", \n",
    "                    model=\"gpt-3.5-turbo\", \n",
    "                    system_message=[{\"role\": \"system\", \"content\": \"你是小智助手。\"}]):\n",
    "    \n",
    "    messages = system_message\n",
    "    messages.append({\"role\": \"user\", \"content\": prompt})\n",
    "    \n",
    "    while True:           \n",
    "        answer = run_conversation(messages=messages, \n",
    "                                    functions_list=functions_list, \n",
    "                                    model=model)\n",
    "        \n",
    "        print(f\"智能助手回答: {answer}\")\n",
    "        \n",
    "        \n",
    "        # 询问用户是否还有其他问题\n",
    "        user_input = input(\"您还有其他问题吗？(输入退出以结束对话): \")\n",
    "        if user_input == \"退出\":\n",
    "            break\n",
    "\n",
    "        # 记录用户回答\n",
    "        messages.append({\"role\": \"user\", \"content\": user_input})"
   ]
  },
  {
   "cell_type": "code",
   "execution_count": 10,
   "metadata": {},
   "outputs": [],
   "source": [
    "functions_list=[sunwukong_function,tangseng_function]"
   ]
  },
  {
   "cell_type": "code",
   "execution_count": 12,
   "metadata": {},
   "outputs": [],
   "source": [
    "chat_with_model(functions_list,prompt=\"你好\")"
   ]
  },
  {
   "cell_type": "code",
   "execution_count": 1,
   "metadata": {},
   "outputs": [],
   "source": [
    "user_input = input(\"您还有其他问题吗？(输入退出以结束对话): \")"
   ]
  }
 ],
 "metadata": {
  "kernelspec": {
   "display_name": "base",
   "language": "python",
   "name": "python3"
  },
  "language_info": {
   "codemirror_mode": {
    "name": "ipython",
    "version": 3
   },
   "file_extension": ".py",
   "mimetype": "text/x-python",
   "name": "python",
   "nbconvert_exporter": "python",
   "pygments_lexer": "ipython3",
   "version": "3.11.5"
  }
 },
 "nbformat": 4,
 "nbformat_minor": 2
}
