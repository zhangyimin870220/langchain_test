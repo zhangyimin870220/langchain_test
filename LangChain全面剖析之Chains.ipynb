{
 "cells": [
  {
   "cell_type": "markdown",
   "id": "6ae89f92-705f-446c-a94f-2c3a6b99b811",
   "metadata": {},
   "source": [
    "# LangChain全面剖析之Chains"
   ]
  },
  {
   "cell_type": "markdown",
   "id": "c64d1f4e-b4ab-48a5-a553-e761c2c7ad79",
   "metadata": {},
   "source": [
    "## 1. Chains的设计理念"
   ]
  },
  {
   "cell_type": "markdown",
   "id": "3d24abfe-b0ea-4d4b-8d5a-a2e710cdd6a9",
   "metadata": {},
   "source": [
    "### 1.1 Chains的设计理念"
   ]
  },
  {
   "cell_type": "markdown",
   "id": "f8664450-db20-415d-8312-70086389c474",
   "metadata": {},
   "source": [
    "&emsp;&emsp;举个例子，网站登录模块的设计，这是一个常见的应用开发任务。在最简单的形式中，登录流程可能仅涉及用户输入手机号码并接收验证码以登录。这个过程看似直接，实际上却需要后台执行一系列操作，如验证手机号码的有效性、生成并发送验证码、以及最终验证用户输入的验证码是否正确。而更复杂的设计，登录模块就还需要进行额外的验证步骤，比如确认手机号码是否已经注册、是否与用户的账户信息匹配、甚至检查账户是否存在安全问题。在这种情况下，开发者可能需要设计更复杂的输入模板和逻辑流程。"
   ]
  },
  {
   "cell_type": "markdown",
   "id": "c5fc2e60-32f1-4ebe-9b55-43e40fe12cb8",
   "metadata": {
    "tags": []
   },
   "source": [
    "&emsp;&emsp;所以能够预见到，即使是看似简单的登录模块，也包含了多个子逻辑的串联，每个步骤都需要经过精心设计的输入模板和输出选择，可以理解为每个子逻辑都会包含一个或多个Model I/O的设计。那么多个子逻辑如何去链接成一整个有效的通路，这就是LangChain中Chains抽象模块要解决的核心问题。"
   ]
  },
  {
   "cell_type": "markdown",
   "id": "61b2b04b-9fad-418b-af75-5bd2ee53fa3f",
   "metadata": {},
   "source": [
    "### 1.2 最简单的Chain"
   ]
  },
  {
   "cell_type": "code",
   "id": "2115f179-513f-414e-aa3b-b2ea689af4cd",
   "metadata": {
    "tags": [],
    "ExecuteTime": {
     "end_time": "2025-01-20T06:36:44.234353Z",
     "start_time": "2025-01-20T06:36:43.952951Z"
    }
   },
   "source": [
    "import openai\n",
    "import os\n",
    "from langchain_openai import ChatOpenAI\n",
    "from openai import OpenAI\n",
    "# openai.api_key = os.getenv(\"OPENAI_API_KEY\")\n",
    "# openai.api_base=\"https://newone.nxykj.tech/v1\"\n",
    "openai.api_key = os.getenv(\"DEEPSEEK_API_KEY\")\n",
    "openai.api_base = \"https://api.deepseek.com\"\n",
    "llm = ChatOpenAI(model_name=\"deepseek-chat\",api_key=openai.api_key ,base_url=openai.api_base)"
   ],
   "outputs": [],
   "execution_count": 12
  },
  {
   "cell_type": "code",
   "id": "7d644932-08ff-4356-8c62-288980899a8a",
   "metadata": {
    "tags": [],
    "ExecuteTime": {
     "end_time": "2025-01-20T06:36:46.805915Z",
     "start_time": "2025-01-20T06:36:46.803081Z"
    }
   },
   "source": [
    "from langchain_core.prompts import ChatPromptTemplate\n",
    "\n",
    "func_template = ChatPromptTemplate.from_messages(\n",
    "    [\n",
    "        (\"system\", \"你是一个{language}代码编辑器，你的功能是根据自然语言的输入描述，输出对应的函数代码，无需输出任何解释，且务必不要输出任何与代码无关的内容\"),\n",
    "        (\"human\", \"当前的题目要求是：{user_input}\"),\n",
    "    ]\n",
    ")"
   ],
   "outputs": [],
   "execution_count": 13
  },
  {
   "cell_type": "code",
   "id": "c41193fc-cec7-45ef-8580-d0b13270ec6d",
   "metadata": {
    "tags": [],
    "ExecuteTime": {
     "end_time": "2025-01-20T06:36:48.763647Z",
     "start_time": "2025-01-20T06:36:48.760592Z"
    }
   },
   "source": [
    "func_chains = func_template | llm"
   ],
   "outputs": [],
   "execution_count": 14
  },
  {
   "cell_type": "code",
   "id": "dfbb6e39-801a-4feb-be95-62b8ace1a89d",
   "metadata": {
    "tags": [],
    "ExecuteTime": {
     "end_time": "2025-01-20T06:36:52.370973Z",
     "start_time": "2025-01-20T06:36:49.484251Z"
    }
   },
   "source": [
    "func_chains_reponse = func_chains.invoke({\"language\":\"java\",\n",
    "                                          \"user_input\":\"给定一个整数数组 nums 和一个整数目标值 target，请你在该数组中找出 和为目标值 target  的那 两个 整数，并返回它们的数组下标。\\\n",
    "                                          你可以假设每种输入只会对应一个答案。但是，数组中同一个元素在答案里不能重复出现。你可以按任意顺序返回答案。\"\n",
    "                                            }\n",
    "                                               ) "
   ],
   "outputs": [],
   "execution_count": 15
  },
  {
   "cell_type": "code",
   "id": "9b24ff4c-b3c7-4101-b253-da229bca62a7",
   "metadata": {
    "tags": [],
    "ExecuteTime": {
     "end_time": "2025-01-20T06:36:53.522263Z",
     "start_time": "2025-01-20T06:36:53.518710Z"
    }
   },
   "source": [
    "print(func_chains_reponse.content)"
   ],
   "outputs": [
    {
     "name": "stdout",
     "output_type": "stream",
     "text": [
      "```java\n",
      "public int[] twoSum(int[] nums, int target) {\n",
      "    Map<Integer, Integer> map = new HashMap<>();\n",
      "    for (int i = 0; i < nums.length; i++) {\n",
      "        int complement = target - nums[i];\n",
      "        if (map.containsKey(complement)) {\n",
      "            return new int[] { map.get(complement), i };\n",
      "        }\n",
      "        map.put(nums[i], i);\n",
      "    }\n",
      "    throw new IllegalArgumentException(\"No two sum solution\");\n",
      "}\n",
      "```\n"
     ]
    }
   ],
   "execution_count": 16
  },
  {
   "cell_type": "markdown",
   "id": "7eda733e-5cf9-4d5e-b541-364c23500c4e",
   "metadata": {},
   "source": [
    "## 2 LangChain提供的Chains的类型"
   ]
  },
  {
   "cell_type": "markdown",
   "id": "23a9d96e-3df7-4efa-95d1-1ea2b7f1c082",
   "metadata": {},
   "source": [
    "### 2.1 基于LCEC语言构建的Chains的类型"
   ]
  },
  {
   "cell_type": "markdown",
   "id": "8dda4648-c7c8-46d8-8e9e-6b6230361caa",
   "metadata": {
    "tags": []
   },
   "source": [
    "```python\n",
    "create_stuff_documents_chain\n",
    "create_openai_fn_runnable\n",
    "create_structured_output_runnable\n",
    "load_query_constructor_runnable\n",
    "create_sql_query_chain\n",
    "create_history_aware_retriever\n",
    "create_retrieval_chain\n",
    "```"
   ]
  },
  {
   "cell_type": "markdown",
   "id": "c88d671c-a8d1-499a-b170-cf0db7dba387",
   "metadata": {},
   "source": [
    "#### create_sql_query_chain"
   ]
  },
  {
   "cell_type": "markdown",
   "id": "6b4203d1-6d8a-41a6-91a0-5ac289b418f7",
   "metadata": {},
   "source": [
    "```python\n",
    "# pip install -U langchain langchain-community langchain-openai\n",
    "from langchain_openai import ChatOpenAI\n",
    "from langchain.chains import create_sql_query_chain\n",
    "from langchain_community.utilities import SQLDatabase\n",
    "\n",
    "db = SQLDatabase.from_uri(\"sqlite:///Chinook.db\")\n",
    "llm = ChatOpenAI(model=\"gpt-3.5-turbo\", temperature=0)\n",
    "chain = create_sql_query_chain(llm, db)\n",
    "response = chain.invoke({\"question\": \"How many employees are there\"})\n",
    "```"
   ]
  },
  {
   "cell_type": "markdown",
   "id": "95a303e2-1fa5-48e1-8d45-65a73092984f",
   "metadata": {},
   "source": [
    "#### create_openai_fn_runnable"
   ]
  },
  {
   "cell_type": "code",
   "execution_count": 4,
   "id": "5887c93c-78ae-4b41-be7d-b4b487dab44b",
   "metadata": {
    "tags": []
   },
   "outputs": [],
   "source": [
    "from typing import Optional\n",
    "\n",
    "from langchain.chains.structured_output import create_openai_fn_runnable\n",
    "from langchain_openai import ChatOpenAI\n",
    "from langchain_core.pydantic_v1 import BaseModel, Field"
   ]
  },
  {
   "cell_type": "code",
   "execution_count": 5,
   "id": "bc5b38a2-de36-4fb0-9120-a15661e810bd",
   "metadata": {
    "tags": []
   },
   "outputs": [],
   "source": [
    "from typing import Optional\n",
    "from pydantic import BaseModel, Field\n",
    "\n",
    "class RecordPerson(BaseModel):\n",
    "    '''记录关于一个人的一些识别信息。'''\n",
    "\n",
    "    name: str = Field(..., description=\"这个人的名字\")\n",
    "    age: int = Field(..., description=\"这个人的年龄\")\n",
    "    fav_food: Optional[str] = Field(None, description=\"这个人最喜欢的食物\")\n",
    "\n",
    "\n",
    "class RecordDog(BaseModel):\n",
    "    '''记录关于一只狗的一些识别信息。'''\n",
    "\n",
    "    name: str = Field(..., description=\"这只狗的名字\")\n",
    "    color: str = Field(..., description=\"这只狗的颜色\")\n",
    "    fav_food: Optional[str] = Field(None, description=\"这只狗最喜欢的食物\")"
   ]
  },
  {
   "cell_type": "code",
   "execution_count": 11,
   "id": "ce7cbb62-9367-4198-9aeb-3274aff6fd7f",
   "metadata": {
    "tags": []
   },
   "outputs": [],
   "source": [
    "import openai\n",
    "from langchain_openai import ChatOpenAI\n",
    "from openai import OpenAI\n",
    "openai.api_key = os.getenv(\"OPENAI_API_KEY\")\n",
    "openai.api_base=\"https://newone.nxykj.tech/v1\"\n",
    "\n",
    "llm = ChatOpenAI(model_name=\"gpt-4\",api_key=openai.api_key ,base_url=openai.api_base)"
   ]
  },
  {
   "cell_type": "code",
   "execution_count": 13,
   "id": "741d2f09-bb73-4fdf-929e-baa51a0f73ac",
   "metadata": {
    "tags": []
   },
   "outputs": [
    {
     "data": {
      "text/plain": [
       "{'arguments': {'name': '哈里', 'color': '棕色'}, 'name': 'RecordDog'}"
      ]
     },
     "execution_count": 13,
     "metadata": {},
     "output_type": "execute_result"
    }
   ],
   "source": [
    "chain = create_openai_fn_runnable([RecordPerson, RecordDog], llm)\n",
    "chain.invoke(\"哈里是一只胖乎乎的棕色比格犬，非常喜欢吃鸡肉。\")"
   ]
  },
  {
   "cell_type": "code",
   "execution_count": 15,
   "id": "363b0e81-7680-4503-a9b0-5d3aa4bf1aa1",
   "metadata": {
    "tags": []
   },
   "outputs": [
    {
     "data": {
      "text/plain": [
       "{'arguments': {'name': '王大美', 'age': 19}, 'name': 'RecordPerson'}"
      ]
     },
     "execution_count": 15,
     "metadata": {},
     "output_type": "execute_result"
    }
   ],
   "source": [
    "chain = create_openai_fn_runnable([RecordPerson, RecordDog], llm)\n",
    "chain.invoke(\"我有一个朋友，今年19岁，名字叫王大美\")"
   ]
  },
  {
   "cell_type": "markdown",
   "id": "ab7f6a56-be0e-4a2f-adc3-1ccd765eecd6",
   "metadata": {},
   "source": [
    "&emsp;&emsp;通过上面两个例子，我们可以看到，当输入与狗相关的Prompt时（哈里是一只胖乎乎的棕色比格犬，非常喜欢吃鸡肉。），该流程会执行`RecordDog`类的功能逻辑，自动记录狗的名字和颜色。相反，若输入涉及人的信息（我有一个朋友，今年19岁，名字叫王大美），则`RecordPerson`类的逻辑将被执行，实现对人的信息的自动记录。实现对不同输入的自动识别和相应外部函数的匹配逻辑。"
   ]
  },
  {
   "cell_type": "code",
   "execution_count": 16,
   "id": "a467c5e2-ed42-45a9-915b-c7d7cf506d63",
   "metadata": {
    "tags": []
   },
   "outputs": [],
   "source": [
    "from langchain_core.tools import tool\n",
    "\n",
    "import requests\n",
    "import json"
   ]
  },
  {
   "cell_type": "code",
   "execution_count": 17,
   "id": "d43cdf14-2a44-4799-8e5a-2e7ebb67f451",
   "metadata": {
    "tags": []
   },
   "outputs": [],
   "source": [
    "open_weather_key = \"5c939a7cc59eb8696f4cd77bf75c5a9a\""
   ]
  },
  {
   "cell_type": "code",
   "execution_count": 18,
   "id": "aa68aacd-4ff8-4b95-abf2-92bfbcc7dbef",
   "metadata": {
    "tags": []
   },
   "outputs": [],
   "source": [
    "@tool\n",
    "def get_weather(loc:str):\n",
    "    \"\"\"\n",
    "    查询即时天气函数\n",
    "    :param loc: 必要参数，字符串类型，用于表示查询天气的具体城市名称，\\\n",
    "    注意，中国的城市需要用对应城市的英文名称代替，例如如果需要查询北京市天气，则loc参数需要输入'Beijing'；\n",
    "    :return：OpenWeather API查询即时天气的结果，具体URL请求地址为：https://api.openweathermap.org/data/2.5/weather\\\n",
    "    返回结果对象类型为解析之后的JSON格式对象，并用字符串形式进行表示，其中包含了全部重要的天气信息\n",
    "    \"\"\"\n",
    "    # Step 1.构建请求\n",
    "    url = \"https://api.openweathermap.org/data/2.5/weather\"\n",
    "\n",
    "    # Step 2.设置查询参数\n",
    "    params = {\n",
    "        \"q\": loc,               \n",
    "        \"appid\": open_weather_key,    # 输入API key\n",
    "        \"units\": \"metric\",            # 使用摄氏度而不是华氏度\n",
    "        \"lang\":\"zh_cn\"                # 输出语言为简体中文\n",
    "    }\n",
    "\n",
    "    # Step 3.发送GET请求\n",
    "    response = requests.get(url, params=params)\n",
    "    \n",
    "    # Step 4.解析响应\n",
    "    data = response.json()\n",
    "    return json.dumps(data)"
   ]
  },
  {
   "cell_type": "code",
   "execution_count": null,
   "id": "2cf205bc-80ff-4d97-b3b1-f1f84e601c52",
   "metadata": {},
   "outputs": [],
   "source": []
  },
  {
   "cell_type": "code",
   "execution_count": 19,
   "id": "d84045a8-53ff-4b86-b268-41f34f6ed7ee",
   "metadata": {
    "tags": []
   },
   "outputs": [],
   "source": [
    "functions = [get_weather]"
   ]
  },
  {
   "cell_type": "code",
   "execution_count": 20,
   "id": "6d3ec2db-7a95-4116-b991-9cf12a5b0089",
   "metadata": {
    "tags": []
   },
   "outputs": [
    {
     "data": {
      "text/plain": [
       "[{'name': 'get_weather',\n",
       "  'description': \"get_weather(loc: str) - 查询即时天气函数\\n    :param loc: 必要参数，字符串类型，用于表示查询天气的具体城市名称，    注意，中国的城市需要用对应城市的英文名称代替，例如如果需要查询北京市天气，则loc参数需要输入'Beijing'；\\n    :return：OpenWeather API查询即时天气的结果，具体URL请求地址为：https://api.openweathermap.org/data/2.5/weather    返回结果对象类型为解析之后的JSON格式对象，并用字符串形式进行表示，其中包含了全部重要的天气信息\",\n",
       "  'parameters': {'type': 'object',\n",
       "   'properties': {'loc': {'type': 'string'}},\n",
       "   'required': ['loc']}}]"
      ]
     },
     "execution_count": 20,
     "metadata": {},
     "output_type": "execute_result"
    }
   ],
   "source": [
    "from langchain_core.utils.function_calling import convert_to_openai_function\n",
    "\n",
    "openai_functions = [convert_to_openai_function(f) for f in functions]  # 这行代码来源于create_openai_fn_runnable源码流程\n",
    "openai_functions"
   ]
  },
  {
   "cell_type": "code",
   "execution_count": 21,
   "id": "c2b53f25-ab4b-447c-8659-ba4f61f54908",
   "metadata": {
    "tags": []
   },
   "outputs": [
    {
     "data": {
      "text/plain": [
       "{'loc': 'Beijing'}"
      ]
     },
     "execution_count": 21,
     "metadata": {},
     "output_type": "execute_result"
    }
   ],
   "source": [
    "chain = create_openai_fn_runnable([get_weather], llm)\n",
    "chain.invoke(\"北京今天的天气怎么样？\")"
   ]
  },
  {
   "cell_type": "code",
   "execution_count": 23,
   "id": "814ff8c6-739e-4505-8016-457def0be957",
   "metadata": {
    "tags": []
   },
   "outputs": [
    {
     "data": {
      "text/plain": [
       "{'loc': 'Shanghai'}"
      ]
     },
     "execution_count": 23,
     "metadata": {},
     "output_type": "execute_result"
    }
   ],
   "source": [
    "chain = create_openai_fn_runnable([get_weather], llm)\n",
    "chain.invoke(\"上海今天天气怎么样？\")"
   ]
  },
  {
   "cell_type": "code",
   "execution_count": null,
   "id": "ff4d36ea-89d6-471b-a980-2615c878c071",
   "metadata": {},
   "outputs": [],
   "source": []
  },
  {
   "cell_type": "code",
   "execution_count": 50,
   "id": "dc770c0b-e678-43eb-9d5b-ba1005122975",
   "metadata": {
    "tags": []
   },
   "outputs": [],
   "source": [
    "@tool\n",
    "def getStockInfor(companyName: str) -> str:\n",
    "    \"\"\"\n",
    "    获取股票信息\n",
    "    :param companyName: 必要参数，字符串类型，用于表示被查询股票的公司名称。\n",
    "    :return：股票查询的结果结果，\n",
    "    \"\"\"\n",
    "    return companyName+\"的股票今天走势非常好！\""
   ]
  },
  {
   "cell_type": "code",
   "execution_count": 51,
   "id": "3c1e073c-23e5-4bc7-9eda-bcad38236b61",
   "metadata": {
    "tags": []
   },
   "outputs": [],
   "source": [
    "functions = [get_weather, getStockInfor]"
   ]
  },
  {
   "cell_type": "code",
   "execution_count": 52,
   "id": "02febb1a-7fa7-4d9a-b5f5-730766881293",
   "metadata": {
    "tags": []
   },
   "outputs": [
    {
     "data": {
      "text/plain": [
       "[{'name': 'get_weather',\n",
       "  'description': \"get_weather(loc: str) - 查询即时天气函数\\n    :param loc: 必要参数，字符串类型，用于表示查询天气的具体城市名称，    注意，中国的城市需要用对应城市的英文名称代替，例如如果需要查询北京市天气，则loc参数需要输入'Beijing'；\\n    :return：OpenWeather API查询即时天气的结果，具体URL请求地址为：https://api.openweathermap.org/data/2.5/weather    返回结果对象类型为解析之后的JSON格式对象，并用字符串形式进行表示，其中包含了全部重要的天气信息\",\n",
       "  'parameters': {'type': 'object',\n",
       "   'properties': {'loc': {'type': 'string'}},\n",
       "   'required': ['loc']}},\n",
       " {'name': 'getStockInfor',\n",
       "  'description': 'getStockInfor(companyName: str) -> str - 获取股票信息\\n    :param companyName: 必要参数，字符串类型，用于表示被查询股票的公司名称。\\n    :return：股票查询的结果结果，',\n",
       "  'parameters': {'type': 'object',\n",
       "   'properties': {'companyName': {'type': 'string'}},\n",
       "   'required': ['companyName']}}]"
      ]
     },
     "execution_count": 52,
     "metadata": {},
     "output_type": "execute_result"
    }
   ],
   "source": [
    "from langchain_core.utils.function_calling import convert_to_openai_function\n",
    "\n",
    "openai_functions = [convert_to_openai_function(f) for f in functions]  # 这行代码来源于create_openai_fn_runnable源码流程\n",
    "openai_functions"
   ]
  },
  {
   "cell_type": "code",
   "execution_count": 29,
   "id": "5b0261ab-39fa-45af-90f2-eb115c01d6b5",
   "metadata": {
    "tags": []
   },
   "outputs": [
    {
     "data": {
      "text/plain": [
       "{'arguments': {'loc': 'Beijing'}, 'name': 'get_weather'}"
      ]
     },
     "execution_count": 29,
     "metadata": {},
     "output_type": "execute_result"
    }
   ],
   "source": [
    "chain = create_openai_fn_runnable([get_weather, getStockInfor], llm)\n",
    "chain.invoke(\"北京今天的天气怎么样？\")"
   ]
  },
  {
   "cell_type": "code",
   "execution_count": 53,
   "id": "3178ca70-4afe-4acc-82c4-1dd70d0482f8",
   "metadata": {
    "tags": []
   },
   "outputs": [
    {
     "data": {
      "text/plain": [
       "{'arguments': {'companyName': 'Amazon'}, 'name': 'getStockInfor'}"
      ]
     },
     "execution_count": 53,
     "metadata": {},
     "output_type": "execute_result"
    }
   ],
   "source": [
    "chain = create_openai_fn_runnable([get_weather, getStockInfor], llm)\n",
    "chain.invoke(\"亚马逊公司的今天股票如何？\")"
   ]
  },
  {
   "cell_type": "markdown",
   "id": "37def57d-865a-40bf-935a-59014cc5b9ee",
   "metadata": {},
   "source": [
    "&emsp;&emsp;`itemgetter(\"arguments\")`会解析经过`create_openai_fn_runnable([get_weather, multiply], llm)`输出的结果，识别到StructuredTool列表，而后如果再通过 | + 具体函数名称的方式，即可实现执行具体函数内部逻辑的功能。比如我们传入 `get_weather`，就是执行 `get_weather`函数去查询实时的天气。"
   ]
  },
  {
   "cell_type": "code",
   "execution_count": 33,
   "id": "6cdca1f9-3f7c-420e-9b15-896787f461b7",
   "metadata": {
    "tags": []
   },
   "outputs": [
    {
     "data": {
      "text/plain": [
       "'{\"coord\": {\"lon\": 116.3972, \"lat\": 39.9075}, \"weather\": [{\"id\": 800, \"main\": \"Clear\", \"description\": \"\\\\u6674\", \"icon\": \"01n\"}], \"base\": \"stations\", \"main\": {\"temp\": 26.94, \"feels_like\": 25.9, \"temp_min\": 26.94, \"temp_max\": 26.94, \"pressure\": 1005, \"humidity\": 14, \"sea_level\": 1005, \"grnd_level\": 999}, \"visibility\": 10000, \"wind\": {\"speed\": 5.54, \"deg\": 201, \"gust\": 12.43}, \"clouds\": {\"all\": 3}, \"dt\": 1715602742, \"sys\": {\"type\": 1, \"id\": 9609, \"country\": \"CN\", \"sunrise\": 1715547683, \"sunset\": 1715599215}, \"timezone\": 28800, \"id\": 1816670, \"name\": \"Beijing\", \"cod\": 200}'"
      ]
     },
     "execution_count": 33,
     "metadata": {},
     "output_type": "execute_result"
    }
   ],
   "source": [
    "from operator import itemgetter\n",
    "\n",
    "chain = create_openai_fn_runnable([get_weather, getStockInfor], llm) | itemgetter(\"arguments\") | get_weather\n",
    "chain.invoke(\"北京今天的天气怎么样？\")"
   ]
  },
  {
   "cell_type": "code",
   "execution_count": 56,
   "id": "9d2287d3-569f-4311-8a44-10b18e90591e",
   "metadata": {
    "tags": []
   },
   "outputs": [
    {
     "data": {
      "text/plain": [
       "'Amazon的股票今天走势非常好！'"
      ]
     },
     "execution_count": 56,
     "metadata": {},
     "output_type": "execute_result"
    }
   ],
   "source": [
    "chain = create_openai_fn_runnable([get_weather, getStockInfor], llm) | itemgetter(\"arguments\") | getStockInfor\n",
    "chain.invoke(\"亚马逊公司的今天股票如何？\")"
   ]
  },
  {
   "cell_type": "markdown",
   "id": "a4c51e32-e94e-4360-bf47-d69511948ded",
   "metadata": {},
   "source": [
    "&emsp;&emsp;从结果上看，确实是能够得到函数执行的最终数据，那么这个过程，我们就可以封装成输出解析器（OutPut Parser），结合`create_openai_fn_runnable`返回最终函数执行的结果。输出解析器执行逻辑如下："
   ]
  },
  {
   "cell_type": "code",
   "execution_count": 57,
   "id": "f8c449c8-48d2-4f5c-b8a3-cf7634804f73",
   "metadata": {
    "tags": []
   },
   "outputs": [],
   "source": [
    "from langchain_core.messages import AIMessage\n",
    "from langchain_core.prompts import ChatPromptTemplate\n",
    "from langchain_openai import ChatOpenAI\n",
    "import json\n",
    "\n",
    "def final_resonse(ai_message: AIMessage) -> str:\n",
    "    \n",
    "    # 接受外部工具列表\n",
    "    tools = [get_weather, getStockInfor]\n",
    "    \n",
    "    # 格式化处理\n",
    "    tool_map = {tool.name: tool for tool in tools}\n",
    "    \n",
    "    # 提取经过create_openai_fn_runnable过程中识别到的函数名称\n",
    "    chosen_tool = tool_map[ai_message[\"name\"]]\n",
    "\n",
    "    # 返回执行结果\n",
    "    return itemgetter(\"arguments\") | chosen_tool"
   ]
  },
  {
   "cell_type": "code",
   "execution_count": null,
   "id": "acb84e0a-76ad-4cda-acb9-aaf86f7125da",
   "metadata": {},
   "outputs": [],
   "source": []
  },
  {
   "cell_type": "code",
   "execution_count": 58,
   "id": "e9b81261-621e-424e-83b9-b800a7737dad",
   "metadata": {
    "tags": []
   },
   "outputs": [
    {
     "data": {
      "text/plain": [
       "'{\"coord\": {\"lon\": 116.3972, \"lat\": 39.9075}, \"weather\": [{\"id\": 800, \"main\": \"Clear\", \"description\": \"\\\\u6674\", \"icon\": \"01n\"}], \"base\": \"stations\", \"main\": {\"temp\": 26.94, \"feels_like\": 25.9, \"temp_min\": 26.94, \"temp_max\": 26.94, \"pressure\": 1005, \"humidity\": 14, \"sea_level\": 1005, \"grnd_level\": 999}, \"visibility\": 10000, \"wind\": {\"speed\": 5.54, \"deg\": 201, \"gust\": 12.43}, \"clouds\": {\"all\": 3}, \"dt\": 1715603380, \"sys\": {\"type\": 1, \"id\": 9609, \"country\": \"CN\", \"sunrise\": 1715547683, \"sunset\": 1715599215}, \"timezone\": 28800, \"id\": 1816670, \"name\": \"Beijing\", \"cod\": 200}'"
      ]
     },
     "execution_count": 58,
     "metadata": {},
     "output_type": "execute_result"
    }
   ],
   "source": [
    "structured_llm = create_openai_fn_runnable([get_weather, getStockInfor], llm) | final_resonse\n",
    "structured_llm.invoke(\"北京今天的天气怎么样？\")"
   ]
  },
  {
   "cell_type": "markdown",
   "id": "59f87778-ff51-4140-a6ba-6563dab56b8a",
   "metadata": {},
   "source": [
    "### 2.2 传统的Chain"
   ]
  },
  {
   "cell_type": "markdown",
   "id": "01119011-4762-48be-a49a-a039b857b88b",
   "metadata": {},
   "source": [
    "API地址：https://api.python.langchain.com/en/latest/langchain_api_reference.html#module-langchain.chains"
   ]
  },
  {
   "cell_type": "markdown",
   "id": "3f5b2b39-289d-47a2-a0cb-f8ee49e62472",
   "metadata": {},
   "source": [
    "#### 最简单的Chain"
   ]
  },
  {
   "cell_type": "code",
   "execution_count": 67,
   "id": "3bc8d4f0-1767-4dec-ac1c-01973658f8fb",
   "metadata": {
    "tags": []
   },
   "outputs": [],
   "source": [
    "import openai\n",
    "from langchain_openai import ChatOpenAI\n",
    "from openai import OpenAI\n",
    "llm = ChatOpenAI(model_name=\"gpt-4\",api_key=openai.api_key ,base_url=openai.api_base)"
   ]
  },
  {
   "cell_type": "code",
   "execution_count": 68,
   "id": "a54206ee-b435-4cbf-beeb-9d2b6a857e61",
   "metadata": {
    "tags": []
   },
   "outputs": [],
   "source": [
    "from langchain_core.prompts import ChatPromptTemplate\n",
    "\n",
    "chat_template = ChatPromptTemplate.from_messages(\n",
    "    [\n",
    "        (\"human\", \"给我讲一个 {adjective} 笑话\"),\n",
    "    ]\n",
    ")"
   ]
  },
  {
   "cell_type": "code",
   "execution_count": 69,
   "id": "6039f771-a9bd-446a-8a4d-f3f468fcedd8",
   "metadata": {
    "tags": []
   },
   "outputs": [],
   "source": [
    "# 导入LLMChain模块\n",
    "from langchain.chains import LLMChain\n",
    "\n",
    "chatmodel_chain = LLMChain(llm=llm, \n",
    "                           prompt=chat_template)"
   ]
  },
  {
   "cell_type": "code",
   "execution_count": 70,
   "id": "15e8a355-8bda-4fc5-a779-42767b36bb1b",
   "metadata": {
    "tags": []
   },
   "outputs": [
    {
     "data": {
      "text/plain": [
       "{'adjective': '悲伤的',\n",
       " 'text': '有一天，一个人去医生那儿做检查，医生告诉他：“我有两个消息要告诉你，一个好消息，一个坏消息，你要先听哪个？” \\n\\n这个人想了一下说：“我先听好消息吧。” \\n\\n医生说：“好消息是，你的病已经找到了，你得的是失忆症。”\\n\\n这个人松了一口气说：“那坏消息呢？” \\n\\n医生说：“坏消息是，你明天又会忘记我告诉你这个消息。”'}"
      ]
     },
     "execution_count": 70,
     "metadata": {},
     "output_type": "execute_result"
    }
   ],
   "source": [
    "chatmodel_chain.invoke({\"adjective\":\"悲伤的\"})"
   ]
  },
  {
   "cell_type": "markdown",
   "id": "fc5fa1f9-b2cb-45ac-b47b-7d892a27f9ed",
   "metadata": {},
   "source": [
    "&emsp;&emsp;这里我们可以整理如下：\n",
    "\n",
    "| 参数名            | 类型                                                       | 默认值 | 必填 | 说明                                                                                                                  |\n",
    "|----------------|----------------------------------------------------------|-----|----|---------------------------------------------------------------------------------------------------------------------|\n",
    "| callback_manager | Optional[BaseCallbackManager]                            | None | 否  | 【已弃用】请改用`callbacks`。                                                                                           |\n",
    "| callbacks      | Callbacks                                                 | None | 否  | 可选的回调处理器列表或回调管理器。在调用链的生命周期中的不同阶段被调用，从`on_chain_start`开始，到`on_chain_end`或`on_chain_error`结束。自定义链可以选择调用额外的回调方法。详见回调文档。 |\n",
    "| llm            | Union[Runnable[LanguageModelInput, str], Runnable[LanguageModelInput, BaseMessage]] | -   | 是 | 要调用的语言模型。                                                                                                      |\n",
    "| llm_kwargs     | dict                                                     | -   | 否  | 语言模型的关键字参数字典。                                                                                                  |\n",
    "| memory         | Optional[BaseMemory]                                     | None | 否  | 可选的记忆对象。默认为None。记忆是一个在每个链的开始和结束时被调用的类。开始时，记忆加载变量并在链中传递。结束时，它保存任何返回的变量。有许多不同类型的内存，请查看内存文档获取完整目录。 |\n",
    "| metadata       | Optional[Dict[str, Any]]                                 | None | 否  | 与链相关联的可选元数据。默认为None。这些元数据将与调用此链的每次调用相关联，并作为参数传递给`callbacks`中定义的处理程序。您可以使用这些来识别链的特定实例及其用例。                   |\n",
    "| output_parser  | BaseLLMOutputParser                                      | -   | 否  | 要使用的输出解析器。默认为StrOutputParser。                                                                                   |\n",
    "| prompt         | BasePromptTemplate                                       | -   | 是 | 要使用的提示对象。                                                                                                        |\n",
    "| return_final_only | bool                                                    | True | 否 | 是否只返回最终解析结果。默认为True。如果为False，将返回关于生成的额外信息。                                                                                  |\n",
    "| tags           | Optional[List[str]]                                      | None | 否  | 与链相关联的可选标签列表。默认为None。这些标签将与调用此链的每次调用相关联，并作为参数传递给`callbacks`中定义的处理程序。您可以使用这些来识别链的特定实例及其用例。                |\n",
    "| verbose        | bool                                                     | False   | 否  | 是否以详细模式运行。在详细模式下，一些中间日志将被打印到控制台。默认使用全局详细设置，可通过`langchain.globals.get_verbose()`访问。                             |\n"
   ]
  },
  {
   "cell_type": "code",
   "execution_count": 71,
   "id": "d5d86046-8855-48ea-a97c-532b2f82602f",
   "metadata": {
    "tags": []
   },
   "outputs": [
    {
     "name": "stdout",
     "output_type": "stream",
     "text": [
      "\n",
      "\n",
      "\u001B[1m> Entering new LLMChain chain...\u001B[0m\n",
      "Prompt after formatting:\n",
      "\u001B[32;1m\u001B[1;3mHuman: 给我讲一个 上班的 笑话\u001B[0m\n",
      "\n",
      "\u001B[1m> Finished chain.\u001B[0m\n"
     ]
    },
    {
     "data": {
      "text/plain": [
       "{'adjective': '上班的',\n",
       " 'text': '老板对新员工说：“在这儿，我们像一个大家庭一样。我是父亲，我的秘书是母亲，其他的员工就是我们的孩子。”\\n\\n新员工问：“那我是谁呢？”\\n\\n老板答：“你就是我们正在等待的那个孩子。” \\n\\n新员工：“哦，我明白了，所以我可以随时晚到。”'}"
      ]
     },
     "execution_count": 71,
     "metadata": {},
     "output_type": "execute_result"
    }
   ],
   "source": [
    "llm_chain = LLMChain(llm=llm, \n",
    "                     prompt=chat_template, \n",
    "                     verbose=True)\n",
    "\n",
    "response = llm_chain.invoke({\"adjective\":\"上班的\"})\n",
    "response"
   ]
  },
  {
   "cell_type": "markdown",
   "id": "aa427b1b-bb93-494c-a2a7-528cf1289e31",
   "metadata": {},
   "source": [
    "#### 添加输出解析器"
   ]
  },
  {
   "cell_type": "code",
   "execution_count": 72,
   "id": "849c29cb-4076-45f8-a43a-3c83e4c3c749",
   "metadata": {
    "tags": []
   },
   "outputs": [],
   "source": [
    "from langchain_core.output_parsers.transform import BaseTransformOutputParser\n",
    "\n",
    "class StrToJsonOutputParser(BaseTransformOutputParser):\n",
    "    \"\"\"解析字符串为JSON对象的输出解析器。\"\"\"\n",
    "\n",
    "    def parse(self, text: str) -> dict:\n",
    "        \"\"\"将输入文件转化为JSON对象\"\"\"\n",
    "        # 将输入文本转换为字典格式，这里我们简化处理，直接将整个文本作为一个字段的值\n",
    "        json_output = {\n",
    "            \"description\": text\n",
    "        }\n",
    "        return json_output"
   ]
  },
  {
   "cell_type": "code",
   "execution_count": 73,
   "id": "fcd1f0c3-4eff-44e0-8caf-efac208e3beb",
   "metadata": {
    "tags": []
   },
   "outputs": [],
   "source": [
    "llm_chain = LLMChain(llm=llm, \n",
    "                     prompt=chat_template, \n",
    "                     output_parser= StrToJsonOutputParser(),\n",
    "                     verbose=True,\n",
    "                    )"
   ]
  },
  {
   "cell_type": "code",
   "execution_count": 74,
   "id": "6dc42472-881b-4767-960b-1fdb39d5659d",
   "metadata": {
    "tags": []
   },
   "outputs": [
    {
     "name": "stdout",
     "output_type": "stream",
     "text": [
      "\n",
      "\n",
      "\u001B[1m> Entering new LLMChain chain...\u001B[0m\n",
      "Prompt after formatting:\n",
      "\u001B[32;1m\u001B[1;3mHuman: 给我讲一个 上班的 笑话\u001B[0m\n",
      "\n",
      "\u001B[1m> Finished chain.\u001B[0m\n",
      "{'adjective': '上班的', 'text': {'description': '有一天，小张迟到了，赶到办公室时，气喘吁吁地对老板说：“老板，对不起，我迟到了。”\\n\\n老板瞪了他一眼，冷冷地回答：“没事，我还以为你今天打算不来了呢。”\\n\\n小张松了口气，笑着说：“那太好了，我以为您会生气呢。”\\n\\n老板笑着回答：“我当然不会生气，反正你迟到已经成为了我们部门的早会内容。”'}}\n"
     ]
    }
   ],
   "source": [
    "resonse = llm_chain.invoke({'adjective':\"上班的\"})\n",
    "print(resonse)"
   ]
  },
  {
   "cell_type": "markdown",
   "id": "3f52a2ef-638f-4ec6-976a-49f7fc510747",
   "metadata": {},
   "source": [
    "#### 多个参数"
   ]
  },
  {
   "cell_type": "code",
   "execution_count": 75,
   "id": "a328182c-145f-4add-aef6-e53e970e1c89",
   "metadata": {
    "tags": []
   },
   "outputs": [
    {
     "data": {
      "text/plain": [
       "ChatPromptTemplate(input_variables=['adjective', 'area'], messages=[SystemMessagePromptTemplate(prompt=PromptTemplate(input_variables=['area'], template='你是一位{area}领域具备丰富经验的高端技术人才')), HumanMessagePromptTemplate(prompt=PromptTemplate(input_variables=['adjective'], template='给我讲一个 {adjective} 笑话'))])"
      ]
     },
     "execution_count": 75,
     "metadata": {},
     "output_type": "execute_result"
    }
   ],
   "source": [
    "chat_template = ChatPromptTemplate.from_messages(\n",
    "    [\n",
    "        (\"system\",\"你是一位{area}领域具备丰富经验的高端技术人才\"),\n",
    "        (\"human\", \"给我讲一个 {adjective} 笑话\"),\n",
    "    ]\n",
    ")\n",
    "\n",
    "chat_template"
   ]
  },
  {
   "cell_type": "code",
   "execution_count": 76,
   "id": "fde5dabc-a07f-4473-852f-092baaf8ab89",
   "metadata": {
    "tags": []
   },
   "outputs": [
    {
     "name": "stdout",
     "output_type": "stream",
     "text": [
      "\n",
      "\n",
      "\u001B[1m> Entering new LLMChain chain...\u001B[0m\n",
      "Prompt after formatting:\n",
      "\u001B[32;1m\u001B[1;3mSystem: 你是一位互联网领域具备丰富经验的高端技术人才\n",
      "Human: 给我讲一个 上班的 笑话\u001B[0m\n",
      "\n",
      "\u001B[1m> Finished chain.\u001B[0m\n",
      "{'area': '互联网', 'adjective': '上班的', 'text': '有一天，一位员工迟到了，经理问他为什么这么晚才来。\\n\\n员工回答： \"我梦见我被放假了，所以我就在家享受我的假期。\"\\n\\n经理回答： \"那你为什么醒来了？\"\\n\\n员工答： \"我梦见您来找我回公司上班了。\"'}\n"
     ]
    }
   ],
   "source": [
    "llm_chain = LLMChain(llm=llm, prompt=chat_template, verbose=True)\n",
    "response = llm_chain.invoke({\n",
    "                            \"area\":\"互联网\",\n",
    "                            'adjective':\"上班的\"\n",
    "                            }\n",
    "                )\n",
    "print(response)"
   ]
  },
  {
   "cell_type": "markdown",
   "id": "99267b59-b22d-4811-ba25-978c53e23ed8",
   "metadata": {},
   "source": [
    "### 2.3 SequentialChain"
   ]
  },
  {
   "cell_type": "markdown",
   "id": "e98d1512-9427-4988-9c4e-b720a4b1d043",
   "metadata": {},
   "source": [
    "&emsp;&emsp;SequentialChain，即顺序链。实现的是将一个模块的输出作为另一个模块的输入，允许用户连接多个链并将它们组合成执行特定场景的流水线（Pipeline），主要实现了两种：\n",
    "- SimpleSequentialChain：最简单顺序链，可以实现单输入 - > 输出的过程，其前一个模块的输出是下一个模块的输入；\n",
    "                                          API:https://api.python.langchain.com/en/latest/chains/langchain.chains.sequential.SimpleSequentialChain.html#langchain.chains.sequential.SimpleSequentialChain\n",
    "- SequentialChain：最通用的顺序链，允许多个输入/输出；\n",
    "API:https://api.python.langchain.com/en/latest/chains/langchain.chains.sequential.SequentialChain.html#langchain.chains.sequential.SequentialChain\n"
   ]
  },
  {
   "cell_type": "code",
   "execution_count": 78,
   "id": "86db030f-346d-49bd-845b-f4b374f40b56",
   "metadata": {
    "tags": []
   },
   "outputs": [],
   "source": [
    "from langchain_core.prompts import ChatPromptTemplate\n",
    "\n",
    "chainA_template = ChatPromptTemplate.from_messages(\n",
    "    [\n",
    "        (\"system\", \"你是一位精通各领域知识的知名教授\"),\n",
    "        (\"human\", \"请你尽可能详细的解释一下：{knowledge}\"),\n",
    "    ]\n",
    ")"
   ]
  },
  {
   "cell_type": "code",
   "execution_count": 79,
   "id": "d1b1ccca-3f38-4d55-87ed-334882c7d819",
   "metadata": {
    "tags": []
   },
   "outputs": [],
   "source": [
    "from langchain.chains import LLMChain\n",
    "\n",
    "chainA_chains = LLMChain(llm=llm,\n",
    "                         prompt=chainA_template,\n",
    "                         verbose=True\n",
    "                        )"
   ]
  },
  {
   "cell_type": "code",
   "execution_count": 80,
   "id": "40774806-6efc-4c73-802f-034bff7d5166",
   "metadata": {
    "tags": []
   },
   "outputs": [
    {
     "name": "stdout",
     "output_type": "stream",
     "text": [
      "\n",
      "\n",
      "\u001B[1m> Entering new LLMChain chain...\u001B[0m\n",
      "Prompt after formatting:\n",
      "\u001B[32;1m\u001B[1;3mSystem: 你是一位精通各领域知识的知名教授\n",
      "Human: 请你尽可能详细的解释一下：什么是LangChain？\u001B[0m\n",
      "\n",
      "\u001B[1m> Finished chain.\u001B[0m\n"
     ]
    },
    {
     "data": {
      "text/plain": [
       "{'knowledge': '什么是LangChain？',\n",
       " 'text': 'LangChain 是一个开源的库，专门用于构建和部署基于语言的AI应用程序。它提供了一系列工具和接口，使开发者能够更容易地整合和使用语言模型，例如聊天机器人、自动化文本生成和其他基于NLP（自然语言处理）的功能。\\n\\nLangChain 的目标是降低构建语言应用程序的复杂性和成本，使开发者能够更专注于创造性的部分，而不是底层技术的细节。它支持多种语言模型和技术栈，使其适用于各种规模和类型的项目。此外，LangChain 也强调易用性和灵活性，提供了丰富的文档和社区支持，帮助用户快速上手和解决开发中的问题。\\n\\n总的来说，LangChain 是一个强大的工具，适用于任何需要利用语言模型来增强其产品或服务的开发者或公司。'}"
      ]
     },
     "execution_count": 80,
     "metadata": {},
     "output_type": "execute_result"
    }
   ],
   "source": [
    "chainA_chains.invoke({\"knowledge\":\"什么是LangChain？\"})"
   ]
  },
  {
   "cell_type": "code",
   "execution_count": 82,
   "id": "7869f1e6-e175-48db-96c5-918a5a6330fb",
   "metadata": {
    "tags": []
   },
   "outputs": [],
   "source": [
    "from langchain_core.prompts import ChatPromptTemplate\n",
    "\n",
    "chainB_template = ChatPromptTemplate.from_messages(\n",
    "    [\n",
    "        (\"system\", \"你非常善于提取文本中的重要信息，并做出简短的总结\"),\n",
    "        (\"human\", \"这是针对一个提问完整的解释说明内容：{description}\"),\n",
    "        (\"human\", \"请你根据上述说明，尽可能简短的输出重要的结论，请控制在20个字以内\"),\n",
    "    ]\n",
    ")"
   ]
  },
  {
   "cell_type": "code",
   "execution_count": 83,
   "id": "41c5fd8c-7818-4d73-ade5-21ca142ec44e",
   "metadata": {
    "tags": []
   },
   "outputs": [],
   "source": [
    "from langchain.chains import LLMChain\n",
    "\n",
    "chainB_chains = LLMChain(llm=llm,\n",
    "                         prompt=chainB_template,\n",
    "                         verbose=True\n",
    "                        )"
   ]
  },
  {
   "cell_type": "code",
   "execution_count": 84,
   "id": "e460db32-25ef-4199-8798-bf2dd7f5859f",
   "metadata": {
    "tags": []
   },
   "outputs": [],
   "source": [
    "# 导入SimpleSequentialChain\n",
    "from langchain.chains import SimpleSequentialChain\n",
    "\n",
    "# 在chains参数中，按顺序传入LLMChain A 和LLMChain B\n",
    "full_chain = SimpleSequentialChain(chains=[chainA_chains, chainB_chains], verbose=True)"
   ]
  },
  {
   "cell_type": "markdown",
   "id": "31fd4e4b-ce34-4c60-80f6-5ee796de94eb",
   "metadata": {},
   "source": [
    "&emsp;&emsp;在这个过程中，因为`SimpleSequentialChain`定义的是顺序链，所以在`chains`参数中传递的列表要按照顺序来进行传入，即LLMChain A 要在LLMChain B之前。同时，在调用时，不再使用LLMChain A 中定义的`{knowledge}` 参数，也不是LLMChain B中定义的`{description}`参数，而是要使用 `input`进行变量的传递。\n",
    "\n",
    "```python\n",
    "class SimpleSequentialChain(Chain):\n",
    "    \"\"\"Simple chain where the outputs of one step feed directly into next.\"\"\"\n",
    "\n",
    "    chains: List[Chain]\n",
    "    strip_outputs: bool = False\n",
    "    input_key: str = \"input\"  #: :meta private:\n",
    "    output_key: str = \"output\"  #: :meta private:\n",
    "```"
   ]
  },
  {
   "cell_type": "code",
   "execution_count": 85,
   "id": "013dc07a-21e2-438b-bd57-32d30f21579f",
   "metadata": {
    "tags": []
   },
   "outputs": [
    {
     "name": "stdout",
     "output_type": "stream",
     "text": [
      "\n",
      "\n",
      "\u001B[1m> Entering new SimpleSequentialChain chain...\u001B[0m\n",
      "\n",
      "\n",
      "\u001B[1m> Entering new LLMChain chain...\u001B[0m\n",
      "Prompt after formatting:\n",
      "\u001B[32;1m\u001B[1;3mSystem: 你是一位精通各领域知识的知名教授\n",
      "Human: 请你尽可能详细的解释一下：什么是langChain？\u001B[0m\n",
      "\n",
      "\u001B[1m> Finished chain.\u001B[0m\n",
      "\u001B[36;1m\u001B[1;3mLangChain是一种基于区块链技术的语言交换平台。这种平台的目标是通过利用区块链和人工智能技术，为全球用户提供语言学习和翻译服务。\n",
      "\n",
      "LangChain利用区块链的分布式特性，将语言学习资料和资源分散在全球范围内，而不是集中在单一的服务器或公司。这样可以有效防止数据的中心化和垄断，确保公平和透明。\n",
      "\n",
      "在LangChain平台上，用户可以提供或获取语言学习和翻译服务。例如，一位英语母语的用户可以提供英语教学服务，获取LangChain的代币作为报酬。反过来，一位需要学习英语的用户可以用LangChain的代币购买这种服务。\n",
      "\n",
      "此外，LangChain还结合了人工智能技术，例如机器学习和自然语言处理，以提供更高效和准确的翻译服务。这种服务不仅可以应用于文本翻译，还可以应用于语音翻译和实时对话翻译。\n",
      "\n",
      "总的来说，LangChain是一种利用区块链和人工智能技术，提供去中心化的语言学习和翻译服务的创新平台。\u001B[0m\n",
      "\n",
      "\n",
      "\u001B[1m> Entering new LLMChain chain...\u001B[0m\n",
      "Prompt after formatting:\n",
      "\u001B[32;1m\u001B[1;3mSystem: 你非常善于提取文本中的重要信息，并做出简短的总结\n",
      "Human: 这是针对一个提问完整的解释说明内容：LangChain是一种基于区块链技术的语言交换平台。这种平台的目标是通过利用区块链和人工智能技术，为全球用户提供语言学习和翻译服务。\n",
      "\n",
      "LangChain利用区块链的分布式特性，将语言学习资料和资源分散在全球范围内，而不是集中在单一的服务器或公司。这样可以有效防止数据的中心化和垄断，确保公平和透明。\n",
      "\n",
      "在LangChain平台上，用户可以提供或获取语言学习和翻译服务。例如，一位英语母语的用户可以提供英语教学服务，获取LangChain的代币作为报酬。反过来，一位需要学习英语的用户可以用LangChain的代币购买这种服务。\n",
      "\n",
      "此外，LangChain还结合了人工智能技术，例如机器学习和自然语言处理，以提供更高效和准确的翻译服务。这种服务不仅可以应用于文本翻译，还可以应用于语音翻译和实时对话翻译。\n",
      "\n",
      "总的来说，LangChain是一种利用区块链和人工智能技术，提供去中心化的语言学习和翻译服务的创新平台。\n",
      "Human: 请你根据上述说明，尽可能简短的输出重要的结论，请控制在20个字以内\u001B[0m\n",
      "\n",
      "\u001B[1m> Finished chain.\u001B[0m\n",
      "\u001B[33;1m\u001B[1;3mLangChain是一个结合区块链和AI的去中心化语言学习和翻译平台。\u001B[0m\n",
      "\n",
      "\u001B[1m> Finished chain.\u001B[0m\n"
     ]
    },
    {
     "data": {
      "text/plain": [
       "{'input': '什么是langChain？', 'output': 'LangChain是一个结合区块链和AI的去中心化语言学习和翻译平台。'}"
      ]
     },
     "execution_count": 85,
     "metadata": {},
     "output_type": "execute_result"
    }
   ],
   "source": [
    "full_chain.invoke({\"input\":\"什么是langChain？\"})"
   ]
  },
  {
   "cell_type": "markdown",
   "id": "c0e35ea5-2ea8-4ca6-a8b3-cb51c5725006",
   "metadata": {},
   "source": [
    "### 2.4 SequentialChain"
   ]
  },
  {
   "cell_type": "markdown",
   "id": "6f0fc247-6d12-445b-936d-0eaa25ef0f31",
   "metadata": {},
   "source": [
    "&emsp;&emsp;关于`SequentialChain`的使用方式，还是先看API文档，匹配出SequentialChain类在构造时定义的参数：https://api.python.langchain.com/en/latest/chains/langchain.chains.sequential.SequentialChain.html#langchain.chains.sequential.SequentialChain"
   ]
  },
  {
   "cell_type": "markdown",
   "id": "319411eb-58fe-4e7d-9578-18e688356217",
   "metadata": {},
   "source": [
    "&emsp;&emsp;其对应的参数说明如下：\n",
    "\n",
    "| 参数名            | 类型                              | 是否必须    | 默认值                                      | 描述                                                                                                                                                                                                   |\n",
    "|-----------------|---------------------------------|---------|-------------------------------------------|------------------------------------------------------------------------------------------------------------------------------------------------------------------------------------------------------|\n",
    "| callback_manager | Optional[BaseCallbackManager]   | 否       | None                                       | [已弃用] 使用callbacks代替。                                                                                                                                                                          |\n",
    "| callbacks       | Callbacks                       | 否       | None                                       | 可选的回调处理程序列表（或回调管理器）。默认为None。回调处理程序在调用链的整个生命周期中被调用，从on_chain_start开始，到on_chain_end或on_chain_error结束。每个自定义链可以选择性地调用额外的回调方法，详见回调文档。                |\n",
    "| chains          | List[Chain]                     | 是       | -                                          | 需要的链列表。                                                                                                                                                                                       |\n",
    "| input_variables | List[str]                       | 是       | -                                          | 需要的输入变量列表。                                                                                                                                                                                 |\n",
    "| memory          | Optional[BaseMemory]            | 否       | None                                       | 可选的内存对象。默认为None。内存是在每个链的开始和结束时被调用的类。在开始时，内存加载变量并在链中传递它们。在结束时，它保存任何返回的变量。有许多不同类型的内存，请查阅内存文档了解完整目录。                                    |\n",
    "| metadata        | Optional[Dict[str, Any]]        | 否       | None                                       | 与链相关联的可选元数据。默认为None。这些元数据将与对这个链的每次调用关联，并作为参数传递给在callbacks中定义的处理程序。您可以使用这些信息来识别链的特定实例及其用例。                                                             |\n",
    "| return_all      | bool                            | 否       | False                                      | 是否返回所有输出。                                                                                                                                                                                   |\n",
    "| tags            | Optional[List[str]]             | 否       | None                                       | 与链关联的可选标签列表。默认为None。这些标签将与对这个链的每次调用关联，并作为参数传递给在callbacks中定义的处理程序。您可以使用这些来识别链的特定实例及其用例。                                      |\n",
    "| verbose         | bool [Optional]                 | 否       | 通过langchain.globals.get_verbose()获取的全局verbose值  | 是否以详细模式运行。在详细模式下，一些中间日志将被打印到控制台。                                                                                                                                        |\n",
    "|"
   ]
  },
  {
   "cell_type": "code",
   "execution_count": 86,
   "id": "cdaf5c97-9058-41a6-9e2e-c9850816ba85",
   "metadata": {
    "tags": []
   },
   "outputs": [],
   "source": [
    "from langchain_core.prompts import ChatPromptTemplate\n",
    "\n",
    "schainA_template = ChatPromptTemplate.from_messages(\n",
    "    [\n",
    "        (\"system\", \"你是一位精通各领域知识的知名教授\"),\n",
    "        (\"human\", \"请你先尽可能详细的解释一下：{knowledge}，并且{action}\")\n",
    "    ]\n",
    ")"
   ]
  },
  {
   "cell_type": "code",
   "execution_count": 87,
   "id": "e4e955fa-b858-46d9-b98b-394d1151a901",
   "metadata": {
    "tags": []
   },
   "outputs": [],
   "source": [
    "from langchain.chains import LLMChain\n",
    "\n",
    "schainA_chains = LLMChain(llm=llm,\n",
    "                         prompt=schainA_template,\n",
    "                         verbose=True\n",
    "                        )"
   ]
  },
  {
   "cell_type": "code",
   "execution_count": 89,
   "id": "672f5c59-a30c-460a-b858-b699039211f7",
   "metadata": {
    "tags": []
   },
   "outputs": [
    {
     "name": "stdout",
     "output_type": "stream",
     "text": [
      "\n",
      "\n",
      "\u001B[1m> Entering new LLMChain chain...\u001B[0m\n",
      "Prompt after formatting:\n",
      "\u001B[32;1m\u001B[1;3mSystem: 你是一位精通各领域知识的知名教授\n",
      "Human: 请你先尽可能详细的解释一下：中国的篮球怎么样？，并且举一个实际的例子\u001B[0m\n",
      "\n",
      "\u001B[1m> Finished chain.\u001B[0m\n"
     ]
    },
    {
     "data": {
      "text/plain": [
       "{'knowledge': '中国的篮球怎么样？',\n",
       " 'action': '举一个实际的例子',\n",
       " 'text': '中国的篮球运动在过去的几十年里发展非常迅速，已经在国际上取得了一定的成就。中国篮球在技术上和战术上都有着不断的进步。从球员素质来看，中国的篮球运动员在身体素质、技术能力以及篮球智慧上都有了显著的提高。中国男子篮球队和女子篮球队在多次亚洲篮球锦标赛和奥运会上都取得了良好的成绩。\\n\\n然而，中国篮球也面临着一些问题。首先，从基层的篮球培训和选拔系统来看，中国的篮球还是存在一定的问题，比如对篮球运动员的选拔过于注重身高和体型，而忽视了对技术和篮球智慧的培养。其次，中国的篮球联赛，如中国篮球协会（CBA）联赛，虽然规模和影响力不断扩大，但是在商业运营和市场推广方面还存在一些不足。\\n\\n实际的例子可以看看姚明的事例。姚明是中国篮球的代表性人物，他是中国第一个在NBA取得巨大成功的球员。他的成功不仅仅在于他出色的篮球技术，更在于他的篮球智慧和领导力。他的成功引领了中国篮球的发展，也为中国篮球打开了国际的大门。但是，姚明也曾公开批评过中国篮球的一些问题，比如过度商业化和对球员的过度使用，这也反映了中国篮球存在的一些问题。'}"
      ]
     },
     "execution_count": 89,
     "metadata": {},
     "output_type": "execute_result"
    }
   ],
   "source": [
    "schainA_chains.invoke({\n",
    "                       \"knowledge\":\"中国的篮球怎么样？\",\n",
    "                       \"action\":\"举一个实际的例子\"\n",
    "                    }\n",
    "                )"
   ]
  },
  {
   "cell_type": "code",
   "execution_count": 90,
   "id": "fa2f558b-d1db-459a-874e-db29acabc202",
   "metadata": {
    "tags": []
   },
   "outputs": [],
   "source": [
    "from langchain_core.prompts import ChatPromptTemplate\n",
    "\n",
    "schainB_template = ChatPromptTemplate.from_messages(\n",
    "    [\n",
    "        (\"system\", \"你非常善于提取文本中的重要信息，并做出简短的总结\"),\n",
    "        (\"human\", \"这是针对一个提问完整的解释说明内容：{description}\"),\n",
    "        (\"human\", \"请你根据上述说明，尽可能简短的输出重要的结论，请控制在100个字以内\"),\n",
    "    ]\n",
    ")"
   ]
  },
  {
   "cell_type": "code",
   "execution_count": 91,
   "id": "cc36bee4-d30e-445d-91f5-a1b911210652",
   "metadata": {
    "tags": []
   },
   "outputs": [],
   "source": [
    "from langchain.chains import LLMChain\n",
    "\n",
    "schainB_chains = LLMChain(llm=llm,\n",
    "                         prompt=schainB_template,\n",
    "                         verbose=True\n",
    "                        )"
   ]
  },
  {
   "cell_type": "code",
   "execution_count": 92,
   "id": "d2d9da0e-5ca4-4b54-a16d-3c63809ec0f3",
   "metadata": {
    "tags": []
   },
   "outputs": [
    {
     "ename": "ValidationError",
     "evalue": "1 validation error for SequentialChain\n__root__\n  Missing required input keys: {'description'}, only had {'action', 'text', 'knowledge'} (type=value_error)",
     "output_type": "error",
     "traceback": [
      "\u001B[0;31m---------------------------------------------------------------------------\u001B[0m",
      "\u001B[0;31mValidationError\u001B[0m                           Traceback (most recent call last)",
      "Cell \u001B[0;32mIn[92], line 3\u001B[0m\n\u001B[1;32m      1\u001B[0m \u001B[38;5;28;01mfrom\u001B[39;00m \u001B[38;5;21;01mlangchain\u001B[39;00m\u001B[38;5;21;01m.\u001B[39;00m\u001B[38;5;21;01mchains\u001B[39;00m \u001B[38;5;28;01mimport\u001B[39;00m SequentialChain\n\u001B[0;32m----> 3\u001B[0m Seq_chain \u001B[38;5;241m=\u001B[39m \u001B[43mSequentialChain\u001B[49m\u001B[43m(\u001B[49m\n\u001B[1;32m      4\u001B[0m \u001B[43m                            \u001B[49m\u001B[43mchains\u001B[49m\u001B[38;5;241;43m=\u001B[39;49m\u001B[43m[\u001B[49m\u001B[43mschainA_chains\u001B[49m\u001B[43m,\u001B[49m\u001B[43m \u001B[49m\u001B[43mschainB_chains\u001B[49m\u001B[43m]\u001B[49m\u001B[43m,\u001B[49m\n\u001B[1;32m      5\u001B[0m \u001B[43m                            \u001B[49m\u001B[43minput_variables\u001B[49m\u001B[38;5;241;43m=\u001B[39;49m\u001B[43m[\u001B[49m\u001B[38;5;124;43m\"\u001B[39;49m\u001B[38;5;124;43mknowledge\u001B[39;49m\u001B[38;5;124;43m\"\u001B[39;49m\u001B[43m,\u001B[49m\u001B[43m \u001B[49m\u001B[38;5;124;43m\"\u001B[39;49m\u001B[38;5;124;43maction\u001B[39;49m\u001B[38;5;124;43m\"\u001B[39;49m\u001B[43m]\u001B[49m\u001B[43m,\u001B[49m\n\u001B[1;32m      6\u001B[0m \u001B[43m                            \u001B[49m\u001B[43mverbose\u001B[49m\u001B[38;5;241;43m=\u001B[39;49m\u001B[38;5;28;43;01mTrue\u001B[39;49;00m\u001B[43m)\u001B[49m\n",
      "File \u001B[0;32m~/miniconda3/lib/python3.8/site-packages/langchain_core/load/serializable.py:120\u001B[0m, in \u001B[0;36mSerializable.__init__\u001B[0;34m(self, **kwargs)\u001B[0m\n\u001B[1;32m    119\u001B[0m \u001B[38;5;28;01mdef\u001B[39;00m \u001B[38;5;21m__init__\u001B[39m(\u001B[38;5;28mself\u001B[39m, \u001B[38;5;241m*\u001B[39m\u001B[38;5;241m*\u001B[39mkwargs: Any) \u001B[38;5;241m-\u001B[39m\u001B[38;5;241m>\u001B[39m \u001B[38;5;28;01mNone\u001B[39;00m:\n\u001B[0;32m--> 120\u001B[0m     \u001B[38;5;28;43msuper\u001B[39;49m\u001B[43m(\u001B[49m\u001B[43m)\u001B[49m\u001B[38;5;241;43m.\u001B[39;49m\u001B[38;5;21;43m__init__\u001B[39;49m\u001B[43m(\u001B[49m\u001B[38;5;241;43m*\u001B[39;49m\u001B[38;5;241;43m*\u001B[39;49m\u001B[43mkwargs\u001B[49m\u001B[43m)\u001B[49m\n\u001B[1;32m    121\u001B[0m     \u001B[38;5;28mself\u001B[39m\u001B[38;5;241m.\u001B[39m_lc_kwargs \u001B[38;5;241m=\u001B[39m kwargs\n",
      "File \u001B[0;32m~/miniconda3/lib/python3.8/site-packages/pydantic/v1/main.py:341\u001B[0m, in \u001B[0;36mBaseModel.__init__\u001B[0;34m(__pydantic_self__, **data)\u001B[0m\n\u001B[1;32m    339\u001B[0m values, fields_set, validation_error \u001B[38;5;241m=\u001B[39m validate_model(__pydantic_self__\u001B[38;5;241m.\u001B[39m\u001B[38;5;18m__class__\u001B[39m, data)\n\u001B[1;32m    340\u001B[0m \u001B[38;5;28;01mif\u001B[39;00m validation_error:\n\u001B[0;32m--> 341\u001B[0m     \u001B[38;5;28;01mraise\u001B[39;00m validation_error\n\u001B[1;32m    342\u001B[0m \u001B[38;5;28;01mtry\u001B[39;00m:\n\u001B[1;32m    343\u001B[0m     object_setattr(__pydantic_self__, \u001B[38;5;124m'\u001B[39m\u001B[38;5;124m__dict__\u001B[39m\u001B[38;5;124m'\u001B[39m, values)\n",
      "\u001B[0;31mValidationError\u001B[0m: 1 validation error for SequentialChain\n__root__\n  Missing required input keys: {'description'}, only had {'action', 'text', 'knowledge'} (type=value_error)"
     ]
    }
   ],
   "source": [
    "from langchain.chains import SequentialChain\n",
    "\n",
    "Seq_chain = SequentialChain(\n",
    "                            chains=[schainA_chains, schainB_chains],\n",
    "                            input_variables=[\"knowledge\", \"action\"],\n",
    "                            verbose=True)"
   ]
  },
  {
   "cell_type": "markdown",
   "id": "1c70180d-668c-4dd0-8d77-12aeef309863",
   "metadata": {},
   "source": [
    "&emsp;&emsp;问题出现了，这种定义方式好像并不正确，所以我们需要考虑的是，LLMChain 虽然其输入是多个变量，但我们前面说过了，它会在输入模型之前被封装成一整个Prompts，那自然也会得到的是一个输出。"
   ]
  },
  {
   "cell_type": "markdown",
   "id": "608dcf95-bc31-4ce7-8157-f4f1ab19272b",
   "metadata": {},
   "source": [
    "&emsp;&emsp;所以我们在多变量的情境下，需要去定义第一个LLMChain的输出变量，这可以通过`output_key`参数来定义，那对于第一个`schainA_chains`的修改如下："
   ]
  },
  {
   "cell_type": "code",
   "execution_count": 93,
   "id": "b6c94d0e-6889-49a4-8d8f-e8180b7d9be2",
   "metadata": {
    "tags": []
   },
   "outputs": [
    {
     "data": {
      "text/plain": [
       "[SystemMessage(content='你是一位精通各领域知识的知名教授'),\n",
       " HumanMessage(content='请你先尽可能详细的解释一下：中国的篮球怎么样？，并且举一个示例')]"
      ]
     },
     "execution_count": 93,
     "metadata": {},
     "output_type": "execute_result"
    }
   ],
   "source": [
    "from langchain_core.prompts import ChatPromptTemplate\n",
    "\n",
    "schainA_template = ChatPromptTemplate.from_messages(\n",
    "    [\n",
    "        (\"system\", \"你是一位精通各领域知识的知名教授\"),\n",
    "        (\"human\", \"请你先尽可能详细的解释一下：{knowledge}，并且{action}\")\n",
    "    ]\n",
    ")\n",
    "\n",
    "schainA_template.format_messages(knowledge=\"中国的篮球怎么样？\", action=\"举一个示例\")"
   ]
  },
  {
   "cell_type": "code",
   "execution_count": 94,
   "id": "417a1c5c-0002-403a-b763-291d7b9cca7a",
   "metadata": {
    "tags": []
   },
   "outputs": [],
   "source": [
    "from langchain.chains import LLMChain\n",
    "\n",
    "schainA_chains = LLMChain(llm=llm,\n",
    "                         prompt=schainA_template,\n",
    "                         verbose=True,\n",
    "                         output_key=\"schainA_chains_key\"\n",
    "                        )"
   ]
  },
  {
   "cell_type": "markdown",
   "id": "3cd6c232-bcb6-4bfb-ac54-a1e3b0c2ca7a",
   "metadata": {},
   "source": [
    "&emsp;&emsp;如上所示，`schainA_chains`的响应结果会存储在`schainA_chains_key`中，作为下游，让`schainB_chains`去接收这部分内容，修改如下:"
   ]
  },
  {
   "cell_type": "code",
   "execution_count": 96,
   "id": "8fed9796-04f0-420b-bc8e-f9c52301007f",
   "metadata": {
    "tags": []
   },
   "outputs": [],
   "source": [
    "from langchain_core.prompts import ChatPromptTemplate\n",
    "\n",
    "schainB_template = ChatPromptTemplate.from_messages(\n",
    "    [\n",
    "        (\"system\", \"你非常善于提取文本中的重要信息，并做出简短的总结\"),\n",
    "        (\"human\", \"这是针对一个提问完整的解释说明内容：{schainA_chains_key}\"),\n",
    "        (\"human\", \"请你根据上述说明，尽可能简短的输出重要的结论，请控制在30个字以内\"),\n",
    "    ]\n",
    ")\n",
    "\n",
    "from langchain.chains import LLMChain\n",
    "\n",
    "schainB_chains = LLMChain(llm=llm,\n",
    "                         prompt=schainB_template,\n",
    "                         verbose=True\n",
    "                        )"
   ]
  },
  {
   "cell_type": "code",
   "execution_count": 97,
   "id": "e5a33a3e-d1bc-4a92-a210-cba7b9893621",
   "metadata": {
    "tags": []
   },
   "outputs": [],
   "source": [
    "from langchain.chains import SequentialChain\n",
    "\n",
    "Seq_chain = SequentialChain(\n",
    "                            chains=[schainA_chains, schainB_chains],\n",
    "                            input_variables=[\"knowledge\", \"action\"],\n",
    "                            verbose=True)"
   ]
  },
  {
   "cell_type": "code",
   "execution_count": 98,
   "id": "d6721d20-babb-43f1-8452-a45da63a99b9",
   "metadata": {
    "tags": []
   },
   "outputs": [
    {
     "name": "stdout",
     "output_type": "stream",
     "text": [
      "\n",
      "\n",
      "\u001B[1m> Entering new SequentialChain chain...\u001B[0m\n",
      "\n",
      "\n",
      "\u001B[1m> Entering new LLMChain chain...\u001B[0m\n",
      "Prompt after formatting:\n",
      "\u001B[32;1m\u001B[1;3mSystem: 你是一位精通各领域知识的知名教授\n",
      "Human: 请你先尽可能详细的解释一下：中国乒乓球水平怎么样？，并且举一个实际的例子\u001B[0m\n",
      "\n",
      "\u001B[1m> Finished chain.\u001B[0m\n",
      "\n",
      "\n",
      "\u001B[1m> Entering new LLMChain chain...\u001B[0m\n",
      "Prompt after formatting:\n",
      "\u001B[32;1m\u001B[1;3mSystem: 你非常善于提取文本中的重要信息，并做出简短的总结\n",
      "Human: 这是针对一个提问完整的解释说明内容：中国乒乓球水平世界领先，长期占据国际乒乓球竞赛的领军地位。中国乒乓球队在奥运会和世界锦标赛上屡创佳绩，赢得了大量的金牌和奖项。中国队的成功不仅仅体现在成绩上，还体现在他们对技术和战术的不断创新与完善。\n",
      "\n",
      "一个具体的例子是中国运动员马龙，在2021年东京奥运会上，他成功卫冕男子单打金牌。这是他连续第二次在奥运会上获得男子单打冠军，同时也帮助中国乒乓球队继续在国际赛场上保持其统治地位。马龙的表现不仅展示了个人的卓越技术和心理素质，也反映了中国乒乓球整体的高水平和深厚底蕴。\n",
      "Human: 请你根据上述说明，尽可能简短的输出重要的结论，请控制在30个字以内\u001B[0m\n",
      "\n",
      "\u001B[1m> Finished chain.\u001B[0m\n",
      "\n",
      "\u001B[1m> Finished chain.\u001B[0m\n"
     ]
    },
    {
     "data": {
      "text/plain": [
       "{'knowledge': '中国乒乓球水平怎么样？',\n",
       " 'action': '举一个实际的例子',\n",
       " 'text': '中国乒乓球在世界上具有领先地位，马龙的连胜反映了中国队的高水平和深厚底蕴。'}"
      ]
     },
     "execution_count": 98,
     "metadata": {},
     "output_type": "execute_result"
    }
   ],
   "source": [
    "Seq_chain.invoke({\n",
    "                       \"knowledge\":\"中国乒乓球水平怎么样？\",\n",
    "                       \"action\":\"举一个实际的例子\"\n",
    "                    }\n",
    "                )"
   ]
  },
  {
   "cell_type": "markdown",
   "id": "e4a9c16d-dd18-4775-b36e-8502d76aee9d",
   "metadata": {},
   "source": [
    "&emsp;&emsp;在这个过程中，就能发现`schainB_chains`通过`schainA_chains`的输出Key：`schainA_chains_key`继续进行的推理，以此实现对多输入的串联。而同时，对于每一个链，我们可以都定义`output_key`，如下:"
   ]
  },
  {
   "cell_type": "code",
   "execution_count": 100,
   "id": "5934a239-bd87-4322-811c-fc167de3f661",
   "metadata": {
    "tags": []
   },
   "outputs": [],
   "source": [
    "from langchain_core.prompts import ChatPromptTemplate\n",
    "\n",
    "schainB_template = ChatPromptTemplate.from_messages(\n",
    "    [\n",
    "        (\"system\", \"你非常善于提取文本中的重要信息，并做出简短的总结\"),\n",
    "        (\"human\", \"这是针对一个提问完整的解释说明内容：{schainA_chains_key}\"),\n",
    "        (\"human\", \"请你根据上述说明，尽可能简短的输出重要的结论，请控制在100个字以内\"),\n",
    "    ]\n",
    ")\n",
    "\n",
    "from langchain.chains import LLMChain\n",
    "\n",
    "schainB_chains = LLMChain(llm=llm,\n",
    "                         prompt=schainB_template,\n",
    "                         verbose=True,\n",
    "                         output_key='schainB_chains_key'\n",
    "                        )"
   ]
  },
  {
   "cell_type": "code",
   "execution_count": 101,
   "id": "f0332e56-c40f-4a98-8772-84f1799ff537",
   "metadata": {
    "tags": []
   },
   "outputs": [],
   "source": [
    "from langchain.chains import SequentialChain\n",
    "\n",
    "Seq_chain = SequentialChain(\n",
    "                            chains=[schainA_chains, schainB_chains],\n",
    "                            input_variables=[\"knowledge\", \"action\"],\n",
    "                            output_variables=[\"schainA_chains_key\",\"schainB_chains_key\"],\n",
    "                            verbose=True)"
   ]
  },
  {
   "cell_type": "code",
   "execution_count": 102,
   "id": "c86cac57-70fa-4813-9b9f-22a13d3e4b29",
   "metadata": {
    "tags": []
   },
   "outputs": [
    {
     "name": "stdout",
     "output_type": "stream",
     "text": [
      "\n",
      "\n",
      "\u001B[1m> Entering new SequentialChain chain...\u001B[0m\n",
      "\n",
      "\n",
      "\u001B[1m> Entering new LLMChain chain...\u001B[0m\n",
      "Prompt after formatting:\n",
      "\u001B[32;1m\u001B[1;3mSystem: 你是一位精通各领域知识的知名教授\n",
      "Human: 请你先尽可能详细的解释一下：中国足球为什么踢得烂，并且举一个实际的例子\u001B[0m\n",
      "\n",
      "\u001B[1m> Finished chain.\u001B[0m\n",
      "\n",
      "\n",
      "\u001B[1m> Entering new LLMChain chain...\u001B[0m\n",
      "Prompt after formatting:\n",
      "\u001B[32;1m\u001B[1;3mSystem: 你非常善于提取文本中的重要信息，并做出简短的总结\n",
      "Human: 这是针对一个提问完整的解释说明内容：中国足球的表现不佳可以从多个角度来分析：\n",
      "\n",
      "1. **体制问题**：中国足球的管理体系长期以来被批评为效率低下，且受到政治干预。由于缺乏透明度和专业管理，足球发展受到了限制。\n",
      "\n",
      "2. **基础设施与青训不足**：与欧洲等足球强国相比，中国的青少年足球培训体系不够完善。青训系统的薄弱使得足球人才的培养不能从根本上得到保证。\n",
      "\n",
      "3. **文化因素**：中国传统教育更加重视学术成就，相较之下体育尤其是足球在很多家庭中并不被视为重要的发展方向。这种文化背景限制了足球运动员的早期发展。\n",
      "\n",
      "4. **职业联赛的问题**：虽然中国超级联赛在经济投入上与其他亚洲国家相比较为高，但联赛的整体竞争力和水平仍有限。此外，高额的投资并未总是转化为球队的实际表现和成绩提升。\n",
      "\n",
      "具体例子可以参考中国国家队在重要国际比赛中的表现。例如，2002年世界杯是中国足球历史上的一次重要里程碑，这是中国男子足球队首次进入世界杯。然而，他们在小组赛中三战全败，未能进球，这反映出与世界级竞争对手之间存在的差距。这样的结果突显了上述多个问题的影响，尤其是在国际比赛中的表现不佳，显示出系统性的训练和技术短板。\n",
      "Human: 请你根据上述说明，尽可能简短的输出重要的结论，请控制在100个字以内\u001B[0m\n",
      "\n",
      "\u001B[1m> Finished chain.\u001B[0m\n",
      "\n",
      "\u001B[1m> Finished chain.\u001B[0m\n"
     ]
    },
    {
     "data": {
      "text/plain": [
       "{'knowledge': '中国足球为什么踢得烂',\n",
       " 'action': '举一个实际的例子',\n",
       " 'schainA_chains_key': '中国足球的表现不佳可以从多个角度来分析：\\n\\n1. **体制问题**：中国足球的管理体系长期以来被批评为效率低下，且受到政治干预。由于缺乏透明度和专业管理，足球发展受到了限制。\\n\\n2. **基础设施与青训不足**：与欧洲等足球强国相比，中国的青少年足球培训体系不够完善。青训系统的薄弱使得足球人才的培养不能从根本上得到保证。\\n\\n3. **文化因素**：中国传统教育更加重视学术成就，相较之下体育尤其是足球在很多家庭中并不被视为重要的发展方向。这种文化背景限制了足球运动员的早期发展。\\n\\n4. **职业联赛的问题**：虽然中国超级联赛在经济投入上与其他亚洲国家相比较为高，但联赛的整体竞争力和水平仍有限。此外，高额的投资并未总是转化为球队的实际表现和成绩提升。\\n\\n具体例子可以参考中国国家队在重要国际比赛中的表现。例如，2002年世界杯是中国足球历史上的一次重要里程碑，这是中国男子足球队首次进入世界杯。然而，他们在小组赛中三战全败，未能进球，这反映出与世界级竞争对手之间存在的差距。这样的结果突显了上述多个问题的影响，尤其是在国际比赛中的表现不佳，显示出系统性的训练和技术短板。',\n",
       " 'schainB_chains_key': '中国足球表现不佳的原因主要包括体制问题、青训及基础设施不足、文化因素以及职业联赛的问题。这些问题导致了中国在国际足球比赛中的表现不佳，反映出对抗世界级竞争对手的训练和技术短板。'}"
      ]
     },
     "execution_count": 102,
     "metadata": {},
     "output_type": "execute_result"
    }
   ],
   "source": [
    "response = Seq_chain.invoke({\n",
    "                       \"knowledge\":\"中国足球为什么踢得烂\",\n",
    "                       \"action\":\"举一个实际的例子\"\n",
    "                    }\n",
    "                )\n",
    "\n",
    "response"
   ]
  },
  {
   "cell_type": "code",
   "execution_count": 103,
   "id": "1adbbba9-3c3c-4eed-98b7-de089a6081b5",
   "metadata": {
    "tags": []
   },
   "outputs": [
    {
     "data": {
      "text/plain": [
       "'中国足球的表现不佳可以从多个角度来分析：\\n\\n1. **体制问题**：中国足球的管理体系长期以来被批评为效率低下，且受到政治干预。由于缺乏透明度和专业管理，足球发展受到了限制。\\n\\n2. **基础设施与青训不足**：与欧洲等足球强国相比，中国的青少年足球培训体系不够完善。青训系统的薄弱使得足球人才的培养不能从根本上得到保证。\\n\\n3. **文化因素**：中国传统教育更加重视学术成就，相较之下体育尤其是足球在很多家庭中并不被视为重要的发展方向。这种文化背景限制了足球运动员的早期发展。\\n\\n4. **职业联赛的问题**：虽然中国超级联赛在经济投入上与其他亚洲国家相比较为高，但联赛的整体竞争力和水平仍有限。此外，高额的投资并未总是转化为球队的实际表现和成绩提升。\\n\\n具体例子可以参考中国国家队在重要国际比赛中的表现。例如，2002年世界杯是中国足球历史上的一次重要里程碑，这是中国男子足球队首次进入世界杯。然而，他们在小组赛中三战全败，未能进球，这反映出与世界级竞争对手之间存在的差距。这样的结果突显了上述多个问题的影响，尤其是在国际比赛中的表现不佳，显示出系统性的训练和技术短板。'"
      ]
     },
     "execution_count": 103,
     "metadata": {},
     "output_type": "execute_result"
    }
   ],
   "source": [
    "response[\"schainA_chains_key\"]"
   ]
  },
  {
   "cell_type": "code",
   "execution_count": 104,
   "id": "080a2ee1-a32e-401a-9e96-4743338fe461",
   "metadata": {
    "tags": []
   },
   "outputs": [
    {
     "data": {
      "text/plain": [
       "'中国足球表现不佳的原因主要包括体制问题、青训及基础设施不足、文化因素以及职业联赛的问题。这些问题导致了中国在国际足球比赛中的表现不佳，反映出对抗世界级竞争对手的训练和技术短板。'"
      ]
     },
     "execution_count": 104,
     "metadata": {},
     "output_type": "execute_result"
    }
   ],
   "source": [
    "response[\"schainB_chains_key\"]"
   ]
  },
  {
   "cell_type": "markdown",
   "id": "fe1769ee-fdba-4198-b41d-5944111f6e91",
   "metadata": {},
   "source": [
    "### 2.5 RouterChain"
   ]
  },
  {
   "cell_type": "markdown",
   "id": "c5244f68-ce46-45d7-9f86-41a9f4b880a4",
   "metadata": {},
   "source": [
    "&emsp;&emsp;`RouterChain`，我们将其定位为：可定制的链路系统。它能提供的是：通过一个统一的入口接收用户的输入，自动分析用户的需求，然后引导到最适合的链中执行，获取响应并返回最终结果。\n",
    "\n",
    "API:https://api.python.langchain.com/en/latest/chains/langchain.chains.router.base.RouterChain.html#langchain.chains.router.base.RouterChain"
   ]
  },
  {
   "cell_type": "markdown",
   "id": "62d7d8c9-7d32-42f5-8df2-3f7d10438a3f",
   "metadata": {},
   "source": [
    "| 类名             | 描述                                          |\n",
    "|------------------|-------------------------------------------------|\n",
    "| Route            | 创建新的路由实例，包括目的地和下一步输入。                           |\n",
    "| RouterChain      | 一个输出目的地链名称和其输入的链。                              |\n",
    "| LLMRouterChain   | 一个使用LLM链进行路由选择的路由链。                             |\n",
    "| MultiPromptChain | 一个多路由链，使用LLM路由链在多个提示之间进行选择。                    |\n",
    "| MultiRouteChain  | 使用单一链条将输入路由到多个候选链中的一个。                           |\n",
    "| RouterOutputParser | 用于解析多提示链中路由链输出的解析器。                          |\n"
   ]
  },
  {
   "cell_type": "code",
   "execution_count": 105,
   "id": "abd09dbd-3b18-4fb2-bb1d-39993f562119",
   "metadata": {
    "tags": []
   },
   "outputs": [],
   "source": [
    "import openai\n",
    "from langchain_openai import ChatOpenAI\n",
    "from openai import OpenAI\n",
    "llm = ChatOpenAI(model_name=\"gpt-4\",api_key=openai.api_key ,base_url=openai.api_base)"
   ]
  },
  {
   "cell_type": "code",
   "execution_count": 106,
   "id": "250f3d49-8389-4556-b023-39abe874ade3",
   "metadata": {
    "tags": []
   },
   "outputs": [],
   "source": [
    "from langchain_core.prompts import ChatPromptTemplate\n",
    "\n",
    "weather_template = ChatPromptTemplate.from_messages(\n",
    "    [\n",
    "        (\"system\", \"您是一位非常善于做气象数据分析的教授，具有10年以上丰富的行业经验。\"),\n",
    "        (\"human\", \"这是实时的天气数据：{input}\"),\n",
    "        (\"human\", \"请您根据上述实时的气象数据，给出合理的出行建议。\"),\n",
    "    ]\n",
    ")"
   ]
  },
  {
   "cell_type": "code",
   "execution_count": 107,
   "id": "dfb2f757-01bb-4593-b0ed-ed2a57134f6b",
   "metadata": {
    "tags": []
   },
   "outputs": [],
   "source": [
    "from langchain.chains import LLMChain\n",
    "\n",
    "weather_chain = LLMChain(llm=llm, \n",
    "                         prompt=weather_template,\n",
    "                         verbose=True)"
   ]
  },
  {
   "cell_type": "code",
   "execution_count": 108,
   "id": "ce707498-f4bd-4779-b9bf-d15fb999854e",
   "metadata": {
    "tags": []
   },
   "outputs": [],
   "source": [
    "def get_weather(loc:str):\n",
    "    \"\"\"\n",
    "    查询即时天气函数\n",
    "    :param loc: 必要参数，字符串类型，用于表示查询天气的具体城市名称，\\\n",
    "    注意，中国的城市需要用对应城市的英文名称代替，例如如果需要查询北京市天气，则loc参数需要输入'Beijing'；\n",
    "    :return：OpenWeather API查询即时天气的结果，具体URL请求地址为：https://api.openweathermap.org/data/2.5/weather\\\n",
    "    返回结果对象类型为解析之后的JSON格式对象，并用字符串形式进行表示，其中包含了全部重要的天气信息\n",
    "    \"\"\"\n",
    "    # Step 1.构建请求\n",
    "    url = \"https://api.openweathermap.org/data/2.5/weather\"\n",
    "\n",
    "    # Step 2.设置查询参数\n",
    "    params = {\n",
    "        \"q\": loc,               \n",
    "        \"appid\": open_weather_key,    # 输入API key\n",
    "        \"units\": \"metric\",            # 使用摄氏度而不是华氏度\n",
    "        \"lang\":\"zh_cn\"                # 输出语言为简体中文\n",
    "    }\n",
    "\n",
    "    # Step 3.发送GET请求\n",
    "    response = requests.get(url, params=params)\n",
    "    \n",
    "    # Step 4.解析响应\n",
    "    data = response.json()\n",
    "    return json.dumps(data)"
   ]
  },
  {
   "cell_type": "code",
   "execution_count": 109,
   "id": "3d1d445e-bc91-4608-9f9b-98010ef68f7a",
   "metadata": {
    "tags": []
   },
   "outputs": [
    {
     "data": {
      "text/plain": [
       "'{\"coord\": {\"lon\": 116.3972, \"lat\": 39.9075}, \"weather\": [{\"id\": 801, \"main\": \"Clouds\", \"description\": \"\\\\u6674\\\\uff0c\\\\u5c11\\\\u4e91\", \"icon\": \"02n\"}], \"base\": \"stations\", \"main\": {\"temp\": 24.94, \"feels_like\": 23.86, \"temp_min\": 24.94, \"temp_max\": 24.94, \"pressure\": 1005, \"humidity\": 14, \"sea_level\": 1005, \"grnd_level\": 1000}, \"visibility\": 10000, \"wind\": {\"speed\": 5.27, \"deg\": 214, \"gust\": 13.54}, \"clouds\": {\"all\": 13}, \"dt\": 1715613325, \"sys\": {\"type\": 1, \"id\": 9609, \"country\": \"CN\", \"sunrise\": 1715547683, \"sunset\": 1715599215}, \"timezone\": 28800, \"id\": 1816670, \"name\": \"Beijing\", \"cod\": 200}'"
      ]
     },
     "execution_count": 109,
     "metadata": {},
     "output_type": "execute_result"
    }
   ],
   "source": [
    "data=get_weather(\"BeiJing\")\n",
    "data"
   ]
  },
  {
   "cell_type": "code",
   "execution_count": 110,
   "id": "a8386a85-24e3-4a19-8596-fc2ba00b0b72",
   "metadata": {
    "tags": []
   },
   "outputs": [
    {
     "name": "stdout",
     "output_type": "stream",
     "text": [
      "\n",
      "\n",
      "\u001B[1m> Entering new LLMChain chain...\u001B[0m\n",
      "Prompt after formatting:\n",
      "\u001B[32;1m\u001B[1;3mSystem: 您是一位非常善于做气象数据分析的教授，具有10年以上丰富的行业经验。\n",
      "Human: 这是实时的天气数据：{\"coord\": {\"lon\": 116.3972, \"lat\": 39.9075}, \"weather\": [{\"id\": 801, \"main\": \"Clouds\", \"description\": \"\\u6674\\uff0c\\u5c11\\u4e91\", \"icon\": \"02n\"}], \"base\": \"stations\", \"main\": {\"temp\": 24.94, \"feels_like\": 23.86, \"temp_min\": 24.94, \"temp_max\": 24.94, \"pressure\": 1005, \"humidity\": 14, \"sea_level\": 1005, \"grnd_level\": 1000}, \"visibility\": 10000, \"wind\": {\"speed\": 5.27, \"deg\": 214, \"gust\": 13.54}, \"clouds\": {\"all\": 13}, \"dt\": 1715613325, \"sys\": {\"type\": 1, \"id\": 9609, \"country\": \"CN\", \"sunrise\": 1715547683, \"sunset\": 1715599215}, \"timezone\": 28800, \"id\": 1816670, \"name\": \"Beijing\", \"cod\": 200}\n",
      "Human: 请您根据上述实时的气象数据，给出合理的出行建议。\u001B[0m\n",
      "\n",
      "\u001B[1m> Finished chain.\u001B[0m\n"
     ]
    },
    {
     "data": {
      "text/plain": [
       "{'input': '{\"coord\": {\"lon\": 116.3972, \"lat\": 39.9075}, \"weather\": [{\"id\": 801, \"main\": \"Clouds\", \"description\": \"\\\\u6674\\\\uff0c\\\\u5c11\\\\u4e91\", \"icon\": \"02n\"}], \"base\": \"stations\", \"main\": {\"temp\": 24.94, \"feels_like\": 23.86, \"temp_min\": 24.94, \"temp_max\": 24.94, \"pressure\": 1005, \"humidity\": 14, \"sea_level\": 1005, \"grnd_level\": 1000}, \"visibility\": 10000, \"wind\": {\"speed\": 5.27, \"deg\": 214, \"gust\": 13.54}, \"clouds\": {\"all\": 13}, \"dt\": 1715613325, \"sys\": {\"type\": 1, \"id\": 9609, \"country\": \"CN\", \"sunrise\": 1715547683, \"sunset\": 1715599215}, \"timezone\": 28800, \"id\": 1816670, \"name\": \"Beijing\", \"cod\": 200}',\n",
       " 'text': '根据提供的实时气象数据，您当前所在的地点是北京。天气现象为晴天，偏少云。温度大约是24.94°C，实际感觉的温度约为23.86°C，相对湿度偏低，只有14%，风速5.27米/秒，云量较少。\\n这样的天气条件出行非常适宜，没有雨雪等恶劣气候。但是由于相对湿度较低，建议您进行适量的饮水以防止脱水。另外，虽然是晴天偏少云，但紫外线强度可能较高，建议出行时采取适当的防晒措施。另外，风速适中，需要注意避开可能的飞行物。\\n总的来说，今天出门活动很合适。同时，还需注意防晒和补充水分。'}"
      ]
     },
     "execution_count": 110,
     "metadata": {},
     "output_type": "execute_result"
    }
   ],
   "source": [
    "weather_reponse = weather_chain.invoke({\"input\":data})\n",
    "\n",
    "weather_reponse"
   ]
  },
  {
   "cell_type": "code",
   "execution_count": 111,
   "id": "4f4db39f-5154-4464-a508-28ba0a61ab28",
   "metadata": {
    "tags": []
   },
   "outputs": [
    {
     "name": "stdout",
     "output_type": "stream",
     "text": [
      "根据提供的实时气象数据，您当前所在的地点是北京。天气现象为晴天，偏少云。温度大约是24.94°C，实际感觉的温度约为23.86°C，相对湿度偏低，只有14%，风速5.27米/秒，云量较少。\n",
      "这样的天气条件出行非常适宜，没有雨雪等恶劣气候。但是由于相对湿度较低，建议您进行适量的饮水以防止脱水。另外，虽然是晴天偏少云，但紫外线强度可能较高，建议出行时采取适当的防晒措施。另外，风速适中，需要注意避开可能的飞行物。\n",
      "总的来说，今天出门活动很合适。同时，还需注意防晒和补充水分。\n"
     ]
    }
   ],
   "source": [
    "print(weather_reponse[\"text\"])"
   ]
  },
  {
   "cell_type": "code",
   "execution_count": 112,
   "id": "772e5d99-489e-4a62-83d7-9548ad6773d6",
   "metadata": {
    "tags": []
   },
   "outputs": [],
   "source": [
    "stock_template = ChatPromptTemplate.from_messages(\n",
    "    [\n",
    "        (\"system\", \"你是一个智能查询股票消息的助手\"),\n",
    "        (\"human\", \"这是你接收到的指令：{input}\"),\n",
    "        (\"human\", \"请你根据操作指令，迅速完成对应的工作。\"),\n",
    "    ]\n",
    ")"
   ]
  },
  {
   "cell_type": "code",
   "execution_count": null,
   "id": "35c58cf4-ddb5-44d2-8dc0-0ec4da29a019",
   "metadata": {},
   "outputs": [],
   "source": [
    "## 注意实际没有调用\n",
    "def getStockInfor(companyName: str) -> str:\n",
    "    \"\"\"\n",
    "    获取股票信息\n",
    "    :param companyName: 必要参数，字符串类型，用于表示被查询股票的公司名称。\n",
    "    :return：股票查询的结果结果，\n",
    "    \"\"\"\n",
    "    return companyName+\"的股票今天走势非常好！\""
   ]
  },
  {
   "cell_type": "code",
   "execution_count": 113,
   "id": "98cf0ec2-c246-4a56-b55d-f8cb2c80d3d3",
   "metadata": {
    "tags": []
   },
   "outputs": [],
   "source": [
    "from langchain.chains import LLMChain\n",
    "\n",
    "stock_chain = LLMChain(llm=llm, \n",
    "                      prompt=stock_template,\n",
    "                      verbose=True)"
   ]
  },
  {
   "cell_type": "code",
   "execution_count": 114,
   "id": "2187c643-2efc-4259-ac0c-44d073a27adf",
   "metadata": {
    "tags": []
   },
   "outputs": [
    {
     "name": "stdout",
     "output_type": "stream",
     "text": [
      "\n",
      "\n",
      "\u001B[1m> Entering new LLMChain chain...\u001B[0m\n",
      "Prompt after formatting:\n",
      "\u001B[32;1m\u001B[1;3mSystem: 你是一个智能查询股票消息的助手\n",
      "Human: 这是你接收到的指令：帮我查询一下亚马逊公司的今天股票信息\n",
      "Human: 请你根据操作指令，迅速完成对应的工作。\u001B[0m\n",
      "\n",
      "\u001B[1m> Finished chain.\u001B[0m\n"
     ]
    },
    {
     "data": {
      "text/plain": [
       "{'input': '帮我查询一下亚马逊公司的今天股票信息',\n",
       " 'text': '对不起，作为一个AI文本模型，我无法实时查询股票信息。我建议你使用股票查询网站或者应用，例如雅虎财经、彭博、路透社等，这些都可以提供你需要的亚马逊股票信息。'}"
      ]
     },
     "execution_count": 114,
     "metadata": {},
     "output_type": "execute_result"
    }
   ],
   "source": [
    "stock_chain.invoke({\"input\":\"帮我查询一下亚马逊公司的今天股票信息\"})"
   ]
  },
  {
   "cell_type": "code",
   "execution_count": 140,
   "id": "0d0e24a8-e53b-4e18-86f7-e57769994b92",
   "metadata": {
    "tags": []
   },
   "outputs": [],
   "source": [
    "destination_chains = {\n",
    "    \"weather\": weather_chain, \n",
    "    \"stock\":stock_chain\n",
    "}"
   ]
  },
  {
   "cell_type": "code",
   "execution_count": 134,
   "id": "a3866279-04ad-44ad-be3d-94f5e7c42854",
   "metadata": {
    "tags": []
   },
   "outputs": [
    {
     "data": {
      "text/plain": [
       "{'weather': LLMChain(verbose=True, prompt=ChatPromptTemplate(input_variables=['input'], messages=[SystemMessagePromptTemplate(prompt=PromptTemplate(input_variables=[], template='您是一位非常善于做气象数据分析的教授，具有10年以上丰富的行业经验。')), HumanMessagePromptTemplate(prompt=PromptTemplate(input_variables=['input'], template='这是实时的天气数据：{input}')), HumanMessagePromptTemplate(prompt=PromptTemplate(input_variables=[], template='请您根据上述实时的气象数据，给出合理的出行建议。'))]), llm=ChatOpenAI(client=<openai.resources.chat.completions.Completions object at 0x7fe5abfbba30>, async_client=<openai.resources.chat.completions.AsyncCompletions object at 0x7fe5abf82550>, model_name='gpt-4', openai_api_key=SecretStr('**********'), openai_api_base='https://newone.nxykj.tech/v1', openai_proxy='')),\n",
       " 'mail': LLMChain(verbose=True, prompt=ChatPromptTemplate(input_variables=['input'], messages=[SystemMessagePromptTemplate(prompt=PromptTemplate(input_variables=[], template='你是一个智能查询股票消息的助手')), HumanMessagePromptTemplate(prompt=PromptTemplate(input_variables=['input'], template='这是你接收到的指令：{input}')), HumanMessagePromptTemplate(prompt=PromptTemplate(input_variables=[], template='请你根据操作指令，迅速完成对应的工作。'))]), llm=ChatOpenAI(client=<openai.resources.chat.completions.Completions object at 0x7fe5abfbba30>, async_client=<openai.resources.chat.completions.AsyncCompletions object at 0x7fe5abf82550>, model_name='gpt-4', openai_api_key=SecretStr('**********'), openai_api_base='https://newone.nxykj.tech/v1', openai_proxy=''))}"
      ]
     },
     "execution_count": 134,
     "metadata": {},
     "output_type": "execute_result"
    }
   ],
   "source": [
    "destination_chains"
   ]
  },
  {
   "cell_type": "code",
   "execution_count": 121,
   "id": "a281215c-b25b-436c-b71a-b92ac1a5cabd",
   "metadata": {
    "tags": []
   },
   "outputs": [],
   "source": [
    "destinations = ['weather: 用于回答天气问题', 'stock: 用于回答股票信息的问题']"
   ]
  },
  {
   "cell_type": "markdown",
   "id": "43c43602-b160-4d7f-a3a1-adbe19334b94",
   "metadata": {},
   "source": [
    "`ReAct`通过思维链（CoT）的形式引导大模型进入思考过程从而执行外部工具的识别。对于链路的路由来说，也是采取相似的策略，这里可以使用特定的提示模板来引导大模型进入思考如何选择合适的链路的过程。而这个路由的提示模版，LangChain中给出了一个解决方案："
   ]
  },
  {
   "cell_type": "code",
   "execution_count": 116,
   "id": "158635ad-da42-4b80-b96c-6b4a798df213",
   "metadata": {
    "tags": []
   },
   "outputs": [],
   "source": [
    "from langchain.chains.router.multi_prompt_prompt import MULTI_PROMPT_ROUTER_TEMPLATE"
   ]
  },
  {
   "cell_type": "code",
   "execution_count": 118,
   "id": "c1730d88-7039-4620-89c3-1d665b2c9d54",
   "metadata": {
    "tags": []
   },
   "outputs": [
    {
     "name": "stdout",
     "output_type": "stream",
     "text": [
      "Given a raw text input to a language model select the model prompt best suited for the input. You will be given the names of the available prompts and a description of what the prompt is best suited for. You may also revise the original input if you think that revising it will ultimately lead to a better response from the language model.\n",
      "\n",
      "<< FORMATTING >>\n",
      "Return a markdown code snippet with a JSON object formatted to look like:\n",
      "```json\n",
      "{{{{\n",
      "    \"destination\": string \\ name of the prompt to use or \"DEFAULT\"\n",
      "    \"next_inputs\": string \\ a potentially modified version of the original input\n",
      "}}}}\n",
      "```\n",
      "\n",
      "REMEMBER: \"destination\" MUST be one of the candidate prompt names specified below OR it can be \"DEFAULT\" if the input is not well suited for any of the candidate prompts.\n",
      "REMEMBER: \"next_inputs\" can just be the original input if you don't think any modifications are needed.\n",
      "\n",
      "<< CANDIDATE PROMPTS >>\n",
      "{destinations}\n",
      "\n",
      "<< INPUT >>\n",
      "{{input}}\n",
      "\n",
      "<< OUTPUT (must include ```json at the start of the response) >>\n",
      "<< OUTPUT (must end with ```) >>\n",
      "\n"
     ]
    }
   ],
   "source": [
    "print(MULTI_PROMPT_ROUTER_TEMPLATE)"
   ]
  },
  {
   "cell_type": "markdown",
   "id": "2c4cb7c6-47df-443b-a59d-1ea1dd6e1730",
   "metadata": {},
   "source": [
    "&emsp;&emsp;对于中文的场景，我们可以将上述模版翻译成中文进行使用，如下："
   ]
  },
  {
   "cell_type": "code",
   "execution_count": 119,
   "id": "87059165-5d39-493c-90f7-4b955665996c",
   "metadata": {
    "tags": []
   },
   "outputs": [],
   "source": [
    "MULTI_PROMPT_ROUTER_TEMPLATE = \"\"\"\\\n",
    "给定一个原始文本输入到大语言模型，请选择最适合该输入的大模型提示模版。\\\n",
    "您将获得可用提示的名称和对于该提示最适合什么的描述。\\\n",
    "如果您认为修改原始输入最终会导致语言模型的更好响应，您也可以对原始输入进行修改。\n",
    "\n",
    "<< FORMATTING >>\n",
    "返回一个Markdown代码片段，其中包含一个格式化如下的JSON对象：\n",
    "```json\n",
    "{{{{\n",
    "    \"destination\": string \\\\ 使用的提示名称或就使用默认，即 \"DEFAULT\"\n",
    "    \"next_inputs\": string \\\\ 可能修改过的原始输入版本\n",
    "}}}}\n",
    "```\n",
    "\n",
    "记住：\"destination\" 必须是下面指定的候选提示名称之一，或者如果输入不适合任何候选提示，可以是 \"DEFAULT\"。\n",
    "记住：\"next_inputs\" 如果您认为不需要任何修改，可以是原始输入。\n",
    "\n",
    "<< CANDIDATE PROMPTS >>\n",
    "{destinations}\n",
    "\n",
    "<< INPUT >>\n",
    "{{input}}\n",
    "\n",
    "<< OUTPUT (必须在响应的开始处包含 ```json) >>\n",
    "<< OUTPUT (必须以 ``` 结束) >>\n",
    "\"\"\""
   ]
  },
  {
   "cell_type": "markdown",
   "id": "c8c6af5b-21dd-4d5c-ae63-14d4ebd158e4",
   "metadata": {},
   "source": [
    "&emsp;&emsp;构建好了提示模版后，我们需要把已经定义好的`destinations`变量传递进去，代码如下："
   ]
  },
  {
   "cell_type": "code",
   "execution_count": 122,
   "id": "4d1b4c85-3b72-42a5-b3fb-7a33b8628dc3",
   "metadata": {
    "tags": []
   },
   "outputs": [
    {
     "name": "stdout",
     "output_type": "stream",
     "text": [
      "给定一个原始文本输入到大语言模型，请选择最适合该输入的大模型提示模版。您将获得可用提示的名称和对于该提示最适合什么的描述。如果您认为修改原始输入最终会导致语言模型的更好响应，您也可以对原始输入进行修改。\n",
      "\n",
      "<< FORMATTING >>\n",
      "返回一个Markdown代码片段，其中包含一个格式化如下的JSON对象：\n",
      "```json\n",
      "{{\n",
      "    \"destination\": string \\ 使用的提示名称或就使用默认，即 \"DEFAULT\"\n",
      "    \"next_inputs\": string \\ 可能修改过的原始输入版本\n",
      "}}\n",
      "```\n",
      "\n",
      "记住：\"destination\" 必须是下面指定的候选提示名称之一，或者如果输入不适合任何候选提示，可以是 \"DEFAULT\"。\n",
      "记住：\"next_inputs\" 如果您认为不需要任何修改，可以是原始输入。\n",
      "\n",
      "<< CANDIDATE PROMPTS >>\n",
      "weather: 用于回答天气问题\n",
      "stock: 用于回答股票信息的问题\n",
      "\n",
      "<< INPUT >>\n",
      "{input}\n",
      "\n",
      "<< OUTPUT (必须在响应的开始处包含 ```json) >>\n",
      "<< OUTPUT (必须以 ``` 结束) >>\n",
      "\n"
     ]
    }
   ],
   "source": [
    "# 使用join方法将列表转化为字符串，每个元素之间用换行符分隔\n",
    "destinations_str = \"\\n\".join(destinations)\n",
    "\n",
    "# 根据MULTI_PROMPT_ROUTER_TEMPLATE格式化字符串和destinations_str创建路由模板\n",
    "router_template = MULTI_PROMPT_ROUTER_TEMPLATE.format(destinations=destinations_str)\n",
    "\n",
    "print(router_template)"
   ]
  },
  {
   "cell_type": "markdown",
   "id": "a636695d-95bb-4e3f-98ca-d8ac9e616214",
   "metadata": {},
   "source": [
    "&emsp;&emsp;接下来构建真正的提示模版，这里有两个关键点：\n",
    "1. `MULTI_PROMPT_ROUTER_TEMPLATE`为字符串形式，所以需要使用`PromptTemplate`进行格式化，这与llm还是chat model无关；\n",
    "2. 需要配置输出解析器（OutPut Parser）为`RouterOutputParser()`;"
   ]
  },
  {
   "cell_type": "code",
   "execution_count": 123,
   "id": "53bf642d-3e86-4fdf-91da-b5263d5417fa",
   "metadata": {
    "tags": []
   },
   "outputs": [],
   "source": [
    "from langchain.prompts import PromptTemplate\n",
    "from langchain.chains.router.llm_router import RouterOutputParser\n",
    "\n",
    "router_prompt = PromptTemplate(template=router_template, \n",
    "                               input_variables=[\"input\"], \n",
    "                               output_parser=RouterOutputParser())"
   ]
  },
  {
   "cell_type": "code",
   "execution_count": 124,
   "id": "8eed9582-b572-4fdc-9580-8e036081ee3d",
   "metadata": {
    "tags": []
   },
   "outputs": [],
   "source": [
    "from langchain.chains.router.llm_router import LLMRouterChain"
   ]
  },
  {
   "cell_type": "code",
   "execution_count": 125,
   "id": "e5d438e3-6972-4d26-ab5b-47baa74eef23",
   "metadata": {
    "tags": []
   },
   "outputs": [],
   "source": [
    "# 使用上述路由模板和llm对象创建LLMRouterChain对象\n",
    "router_chain = LLMRouterChain.from_llm(llm, \n",
    "                                       router_prompt, \n",
    "                                       verbose=True)"
   ]
  },
  {
   "cell_type": "code",
   "execution_count": 126,
   "id": "848deaa9-10b6-46e0-918c-1b642b5f6126",
   "metadata": {
    "tags": []
   },
   "outputs": [
    {
     "name": "stdout",
     "output_type": "stream",
     "text": [
      "\n",
      "\n",
      "\u001B[1m> Entering new LLMRouterChain chain...\u001B[0m\n",
      "\n",
      "\u001B[1m> Finished chain.\u001B[0m\n"
     ]
    },
    {
     "data": {
      "text/plain": [
       "{'input': '这是我刚才得到的天气数据{\"coord\": {\"lon\": 116.3972, \"lat\": 39.9075}, \"weather\": [{\"id\": 801, \"main\": \"Clouds\", \"description\": \"\\\\u6674\\\\uff0c\\\\u5c11\\\\u4e91\", \"icon\": \"02n\"}], \"base\": \"stations\", \"main\": {\"temp\": 24.94, \"feels_like\": 23.86, \"temp_min\": 24.94, \"temp_max\": 24.94, \"pressure\": 1005, \"humidity\": 14, \"sea_level\": 1005, \"grnd_level\": 1000}, \"visibility\": 10000, \"wind\": {\"speed\": 5.27, \"deg\": 214, \"gust\": 13.54}, \"clouds\": {\"all\": 13}, \"dt\": 1715613325, \"sys\": {\"type\": 1, \"id\": 9609, \"country\": \"CN\", \"sunrise\": 1715547683, \"sunset\": 1715599215}, \"timezone\": 28800, \"id\": 1816670, \"name\": \"Beijing\", \"cod\": 200}，我适合出去玩吗？',\n",
       " 'destination': 'weather',\n",
       " 'next_inputs': {'input': '这是我刚才得到的天气数据{\"coord\": {\"lon\": 116.3972, \"lat\": 39.9075}, \"weather\": [{\"id\": 801, \"main\": \"Clouds\", \"description\": \"\\\\u6674\\\\uff0c\\\\u5c11\\\\u4e91\", \"icon\": \"02n\"}], \"base\": \"stations\", \"main\": {\"temp\": 24.94, \"feels_like\": 23.86, \"temp_min\": 24.94, \"temp_max\": 24.94, \"pressure\": 1005, \"humidity\": 14, \"sea_level\": 1005, \"grnd_level\": 1000}, \"visibility\": 10000, \"wind\": {\"speed\": 5.27, \"deg\": 214, \"gust\": 13.54}, \"clouds\": {\"all\": 13}, \"dt\": 1715613325, \"sys\": {\"type\": 1, \"id\": 9609, \"country\": \"CN\", \"sunrise\": 1715547683, \"sunset\": 1715599215}, \"timezone\": 28800, \"id\": 1816670, \"name\": \"Beijing\", \"cod\": 200}，我适合出去玩吗？'}}"
      ]
     },
     "execution_count": 126,
     "metadata": {},
     "output_type": "execute_result"
    }
   ],
   "source": [
    "router_chain.invoke({\"input\":\"这是我刚才得到的天气数据%s，我适合出去玩吗？\" % data })"
   ]
  },
  {
   "cell_type": "code",
   "execution_count": 127,
   "id": "be000d37-0a84-44c7-8d26-506e29adeca5",
   "metadata": {
    "tags": []
   },
   "outputs": [
    {
     "name": "stdout",
     "output_type": "stream",
     "text": [
      "\n",
      "\n",
      "\u001B[1m> Entering new LLMRouterChain chain...\u001B[0m\n",
      "\n",
      "\u001B[1m> Finished chain.\u001B[0m\n"
     ]
    },
    {
     "data": {
      "text/plain": [
       "{'input': '帮我查询一下今天亚马逊的股票信息',\n",
       " 'destination': 'stock',\n",
       " 'next_inputs': {'input': '帮我查询一下今天亚马逊的股票信息'}}"
      ]
     },
     "execution_count": 127,
     "metadata": {},
     "output_type": "execute_result"
    }
   ],
   "source": [
    "router_chain.invoke({\"input\":\"帮我查询一下今天亚马逊的股票信息\"})"
   ]
  },
  {
   "cell_type": "code",
   "execution_count": 128,
   "id": "cc91f0c0-b2b6-4b12-8812-d99106709347",
   "metadata": {
    "tags": []
   },
   "outputs": [
    {
     "name": "stdout",
     "output_type": "stream",
     "text": [
      "\n",
      "\n",
      "\u001B[1m> Entering new LLMRouterChain chain...\u001B[0m\n",
      "\n",
      "\u001B[1m> Finished chain.\u001B[0m\n"
     ]
    },
    {
     "data": {
      "text/plain": [
       "{'input': '你好，请你介绍一下你自己',\n",
       " 'destination': None,\n",
       " 'next_inputs': {'input': '你好，请你介绍一下你自己'}}"
      ]
     },
     "execution_count": 128,
     "metadata": {},
     "output_type": "execute_result"
    }
   ],
   "source": [
    "router_chain.invoke({\"input\":\"你好，请你介绍一下你自己\"})"
   ]
  },
  {
   "cell_type": "markdown",
   "id": "f52823ce-37de-4b47-82cb-4cc512013329",
   "metadata": {},
   "source": [
    "&emsp;&emsp;通过上述三个不同的输入测试我们可以观察到，根据输入内容，返回的`destination`字段会在路由系统中进行匹配，以确定是否存在可执行相应需求的`LLMChain`。当提出天气相关的询问时，`destination`字段的值会被设定为`weather`；而针对股票信息查询的需求，该值则为`stock`。如果输入的内容既不涉及天气也不关于股票信息，`destination`的值则为`None`，这意味着没有任何一个路由链中的`LLMChain`需要被执行。"
   ]
  },
  {
   "cell_type": "markdown",
   "id": "3edce1c8-66d3-4bf0-82cd-17b7c21ef01a",
   "metadata": {},
   "source": [
    "&emsp;&emsp;实现至此，最后我们通过`MultiPromptChain`，实例化出最终的路由系统的统一入口，包含路由链，目标链和默认链。其中默认链，用来执行不需要进入LLMChain中的问题，即处理上面输入的内容既不涉及天气也不关于股票信息的情况。代码如下："
   ]
  },
  {
   "cell_type": "code",
   "execution_count": 129,
   "id": "ff07a145-2e43-4b23-bf6a-203db0347113",
   "metadata": {
    "tags": []
   },
   "outputs": [],
   "source": [
    "from langchain_core.prompts import ChatPromptTemplate\n",
    "\n",
    "chat_template = ChatPromptTemplate.from_messages(\n",
    "    [\n",
    "        (\"system\", \"你是一位乐于助人的AI小助手。请根据用户输入的问题，给出最优秀的回复\"),\n",
    "        (\"human\", \"{input}\"),\n",
    "    ]\n",
    ")"
   ]
  },
  {
   "cell_type": "code",
   "execution_count": 130,
   "id": "32057085-4a38-45c7-bd19-6da862f9c8f4",
   "metadata": {
    "tags": []
   },
   "outputs": [],
   "source": [
    "from langchain.chains import LLMChain\n",
    "\n",
    "chat_chain = LLMChain(llm=llm, \n",
    "                      prompt=chat_template,\n",
    "                      verbose=True)"
   ]
  },
  {
   "cell_type": "code",
   "execution_count": 131,
   "id": "be6ccd2f-9fad-484c-ab0f-e2d547b5fc79",
   "metadata": {
    "tags": []
   },
   "outputs": [],
   "source": [
    "from langchain.chains.router import MultiPromptChain"
   ]
  },
  {
   "cell_type": "code",
   "execution_count": 141,
   "id": "d005840f-936e-4b29-8d64-0e35d430eb9b",
   "metadata": {
    "tags": []
   },
   "outputs": [],
   "source": [
    "# 创建MultiPromptChain对象，其中包含了路由链，目标链和默认链。\n",
    "final_chain = MultiPromptChain(\n",
    "                            router_chain=router_chain,\n",
    "                            destination_chains=destination_chains,\n",
    "                            default_chain=chat_chain,\n",
    "                            verbose=True,\n",
    ")"
   ]
  },
  {
   "cell_type": "code",
   "execution_count": 136,
   "id": "f6f282da-5d6a-4343-b9fa-4f5ec98292f1",
   "metadata": {
    "tags": []
   },
   "outputs": [
    {
     "name": "stdout",
     "output_type": "stream",
     "text": [
      "\n",
      "\n",
      "\u001B[1m> Entering new MultiPromptChain chain...\u001B[0m\n",
      "\n",
      "\n",
      "\u001B[1m> Entering new LLMRouterChain chain...\u001B[0m\n",
      "\n",
      "\u001B[1m> Finished chain.\u001B[0m\n",
      "None: {'input': '你好呀，请你介绍一下你自己'}\n",
      "\n",
      "\u001B[1m> Entering new LLMChain chain...\u001B[0m\n",
      "Prompt after formatting:\n",
      "\u001B[32;1m\u001B[1;3mSystem: 你是一位乐于助人的AI小助手。请根据用户输入的问题，给出最优秀的回复\n",
      "Human: 你好呀，请你介绍一下你自己\u001B[0m\n",
      "\n",
      "\u001B[1m> Finished chain.\u001B[0m\n",
      "\n",
      "\u001B[1m> Finished chain.\u001B[0m\n"
     ]
    },
    {
     "data": {
      "text/plain": [
       "{'input': '你好呀，请你介绍一下你自己',\n",
       " 'text': '你好，非常高兴认识你！我是一位AI小助手，我被设计出来是为了提供各种帮助，包括但不限于：回答问题，提供信息，协助完成任务等等。我的目的是尽可能地为你提供便利。如果你有任何问题或者需要帮助，只需要告诉我，我会尽我最大的努力来帮助你。'}"
      ]
     },
     "execution_count": 136,
     "metadata": {},
     "output_type": "execute_result"
    }
   ],
   "source": [
    "final_chain.invoke({\"input\": \"你好呀，请你介绍一下你自己\" })"
   ]
  },
  {
   "cell_type": "code",
   "execution_count": 137,
   "id": "9e770eb3-71de-4b46-bf52-f18bbf0e2cd9",
   "metadata": {
    "tags": []
   },
   "outputs": [
    {
     "name": "stdout",
     "output_type": "stream",
     "text": [
      "\n",
      "\n",
      "\u001B[1m> Entering new MultiPromptChain chain...\u001B[0m\n",
      "\n",
      "\n",
      "\u001B[1m> Entering new LLMRouterChain chain...\u001B[0m\n",
      "\n",
      "\u001B[1m> Finished chain.\u001B[0m\n",
      "weather: {'input': '这是我刚才得到的天气数据{\"coord\": {\"lon\": 116.3972, \"lat\": 39.9075}, \"weather\": [{\"id\": 801, \"main\": \"Clouds\", \"description\": \"\\\\u6674\\\\uff0c\\\\u5c11\\\\u4e91\", \"icon\": \"02n\"}], \"base\": \"stations\", \"main\": {\"temp\": 24.94, \"feels_like\": 23.86, \"temp_min\": 24.94, \"temp_max\": 24.94, \"pressure\": 1005, \"humidity\": 14, \"sea_level\": 1005, \"grnd_level\": 1000}, \"visibility\": 10000, \"wind\": {\"speed\": 5.27, \"deg\": 214, \"gust\": 13.54}, \"clouds\": {\"all\": 13}, \"dt\": 1715613325, \"sys\": {\"type\": 1, \"id\": 9609, \"country\": \"CN\", \"sunrise\": 1715547683, \"sunset\": 1715599215}, \"timezone\": 28800, \"id\": 1816670, \"name\": \"Beijing\", \"cod\": 200}，我适合出去玩吗？'}\n",
      "\n",
      "\u001B[1m> Entering new LLMChain chain...\u001B[0m\n",
      "Prompt after formatting:\n",
      "\u001B[32;1m\u001B[1;3mSystem: 您是一位非常善于做气象数据分析的教授，具有10年以上丰富的行业经验。\n",
      "Human: 这是实时的天气数据：这是我刚才得到的天气数据{\"coord\": {\"lon\": 116.3972, \"lat\": 39.9075}, \"weather\": [{\"id\": 801, \"main\": \"Clouds\", \"description\": \"\\u6674\\uff0c\\u5c11\\u4e91\", \"icon\": \"02n\"}], \"base\": \"stations\", \"main\": {\"temp\": 24.94, \"feels_like\": 23.86, \"temp_min\": 24.94, \"temp_max\": 24.94, \"pressure\": 1005, \"humidity\": 14, \"sea_level\": 1005, \"grnd_level\": 1000}, \"visibility\": 10000, \"wind\": {\"speed\": 5.27, \"deg\": 214, \"gust\": 13.54}, \"clouds\": {\"all\": 13}, \"dt\": 1715613325, \"sys\": {\"type\": 1, \"id\": 9609, \"country\": \"CN\", \"sunrise\": 1715547683, \"sunset\": 1715599215}, \"timezone\": 28800, \"id\": 1816670, \"name\": \"Beijing\", \"cod\": 200}，我适合出去玩吗？\n",
      "Human: 请您根据上述实时的气象数据，给出合理的出行建议。\u001B[0m\n",
      "\n",
      "\u001B[1m> Finished chain.\u001B[0m\n",
      "\n",
      "\u001B[1m> Finished chain.\u001B[0m\n"
     ]
    },
    {
     "data": {
      "text/plain": [
       "{'input': '这是我刚才得到的天气数据{\"coord\": {\"lon\": 116.3972, \"lat\": 39.9075}, \"weather\": [{\"id\": 801, \"main\": \"Clouds\", \"description\": \"\\\\u6674\\\\uff0c\\\\u5c11\\\\u4e91\", \"icon\": \"02n\"}], \"base\": \"stations\", \"main\": {\"temp\": 24.94, \"feels_like\": 23.86, \"temp_min\": 24.94, \"temp_max\": 24.94, \"pressure\": 1005, \"humidity\": 14, \"sea_level\": 1005, \"grnd_level\": 1000}, \"visibility\": 10000, \"wind\": {\"speed\": 5.27, \"deg\": 214, \"gust\": 13.54}, \"clouds\": {\"all\": 13}, \"dt\": 1715613325, \"sys\": {\"type\": 1, \"id\": 9609, \"country\": \"CN\", \"sunrise\": 1715547683, \"sunset\": 1715599215}, \"timezone\": 28800, \"id\": 1816670, \"name\": \"Beijing\", \"cod\": 200}，我适合出去玩吗？',\n",
       " 'text': '根据您提供的数据，目前所在地是北京，天气为晴天，有少量云（云量为13%）。温度在24.94摄氏度，体感温度为23.86摄氏度，这是比较舒适的温度。气压为1005百帕，地面气压为1000百帕，湿度只有14%，这是一个相对干燥的天气。能见度为10000米，所以视线良好。风速为5.27米/秒，风向为214度，阵风为13.54米/秒，这样的风力比较强烈，可能会让人感觉有些不舒服。\\n\\n总的来说，天气晴朗，温度适中，视线良好，是适合出去玩的天气。但是请注意，湿度低可能会让皮肤感觉干燥，风力有些强，如果你计划进行的活动会受风力影响（比如骑自行车，划船等），可能需要注意。同时，出门时保持身体保湿并携带防风设备如风衣或风雨伞。'}"
      ]
     },
     "execution_count": 137,
     "metadata": {},
     "output_type": "execute_result"
    }
   ],
   "source": [
    "final_chain.invoke({\"input\":\"这是我刚才得到的天气数据%s，我适合出去玩吗？\" % data })"
   ]
  },
  {
   "cell_type": "code",
   "execution_count": 142,
   "id": "42205f2c-538b-40a7-8cdd-7075b857f2fd",
   "metadata": {
    "tags": []
   },
   "outputs": [
    {
     "name": "stdout",
     "output_type": "stream",
     "text": [
      "\n",
      "\n",
      "\u001B[1m> Entering new MultiPromptChain chain...\u001B[0m\n",
      "\n",
      "\n",
      "\u001B[1m> Entering new LLMRouterChain chain...\u001B[0m\n",
      "\n",
      "\u001B[1m> Finished chain.\u001B[0m\n",
      "stock: {'input': '帮我查询一下今天亚马逊的股票'}\n",
      "\n",
      "\u001B[1m> Entering new LLMChain chain...\u001B[0m\n",
      "Prompt after formatting:\n",
      "\u001B[32;1m\u001B[1;3mSystem: 你是一个智能查询股票消息的助手\n",
      "Human: 这是你接收到的指令：帮我查询一下今天亚马逊的股票\n",
      "Human: 请你根据操作指令，迅速完成对应的工作。\u001B[0m\n",
      "\n",
      "\u001B[1m> Finished chain.\u001B[0m\n",
      "\n",
      "\u001B[1m> Finished chain.\u001B[0m\n"
     ]
    },
    {
     "data": {
      "text/plain": [
       "{'input': '帮我查询一下今天亚马逊的股票',\n",
       " 'text': '当然可以，我会尽快查找关于今天亚马逊股票的最新信息，并及时反馈给你。请你稍等一下。'}"
      ]
     },
     "execution_count": 142,
     "metadata": {},
     "output_type": "execute_result"
    }
   ],
   "source": [
    "final_chain.invoke({\"input\":\"帮我查询一下今天亚马逊的股票\"})"
   ]
  },
  {
   "cell_type": "markdown",
   "id": "7c4fa153-1bed-4c96-8b42-405960331a14",
   "metadata": {},
   "source": [
    "&emsp;&emsp;至此，我们已经利用LangChain提供的`Router Chain`构建了一个能够根据用户输入自动选择最合适链路进行推理的路由系统，"
   ]
  },
  {
   "cell_type": "markdown",
   "id": "ec645e20-347c-40dd-89b7-e91655cf34d8",
   "metadata": {},
   "source": [
    "## 3. Chains功能实战"
   ]
  },
  {
   "cell_type": "markdown",
   "id": "925e8ac3-837a-46f9-995e-948e514c3b84",
   "metadata": {},
   "source": [
    "刚刚实现的功能只是完成了整个链路的打通，接下来，我们实现链路中去调用外部的函数。"
   ]
  },
  {
   "cell_type": "markdown",
   "id": "50ff10b6-52e4-4e3c-8530-dc320f4ca804",
   "metadata": {},
   "source": [
    "&emsp;&emsp;首先，我们来扩展`weather_chain`链，使其具备实时获取OpenWeather API的天气数据。\n",
    "\n",
    "&emsp;&emsp;使用LangChain中的`tool`装饰器，将函数对象转化成可调用的`StructuredTool`形式的工具对象。"
   ]
  },
  {
   "cell_type": "code",
   "execution_count": 144,
   "id": "0c2cb2bc-bbfe-41ba-a7a7-69d94065784b",
   "metadata": {
    "tags": []
   },
   "outputs": [],
   "source": [
    "@tool\n",
    "def get_weather(loc):\n",
    "    \"\"\"\n",
    "    查询即时天气函数\n",
    "    :param loc: 必要参数，字符串类型，用于表示查询天气的具体城市名称，\\\n",
    "    注意，中国的城市需要用对应城市的英文名称代替，例如如果需要查询北京市天气，则loc参数需要输入'Beijing'；\n",
    "    :return：OpenWeather API查询即时天气的结果，具体URL请求地址为：https://api.openweathermap.org/data/2.5/weather\\\n",
    "    返回结果对象类型为解析之后的JSON格式对象，并用字符串形式进行表示，其中包含了全部重要的天气信息\n",
    "    \"\"\"\n",
    "    # Step 1.构建请求\n",
    "    url = \"https://api.openweathermap.org/data/2.5/weather\"\n",
    "\n",
    "    # Step 2.设置查询参数\n",
    "    params = {\n",
    "        \"q\": loc,               \n",
    "        \"appid\": open_weather_key,    # 输入API key\n",
    "        \"units\": \"metric\",            # 使用摄氏度而不是华氏度\n",
    "        \"lang\":\"zh_cn\"                # 输出语言为简体中文\n",
    "    }\n",
    "\n",
    "    # Step 3.发送GET请求\n",
    "    response = requests.get(url, params=params)\n",
    "    \n",
    "    # Step 4.解析响应\n",
    "    data = response.json()\n",
    "    return json.dumps(data)\n",
    "@tool\n",
    "def example():\n",
    "    \"\"\"\n",
    "    查询天气示例，这是一个示例\n",
    "    \"\"\"\n",
    "    pass"
   ]
  },
  {
   "cell_type": "code",
   "execution_count": 145,
   "id": "812b52f7-2643-4606-837a-e09d8d059498",
   "metadata": {
    "tags": []
   },
   "outputs": [
    {
     "name": "stdout",
     "output_type": "stream",
     "text": [
      "get_weather\n",
      "get_weather(loc) - 查询即时天气函数\n",
      "    :param loc: 必要参数，字符串类型，用于表示查询天气的具体城市名称，    注意，中国的城市需要用对应城市的英文名称代替，例如如果需要查询北京市天气，则loc参数需要输入'Beijing'；\n",
      "    :return：OpenWeather API查询即时天气的结果，具体URL请求地址为：https://api.openweathermap.org/data/2.5/weather    返回结果对象类型为解析之后的JSON格式对象，并用字符串形式进行表示，其中包含了全部重要的天气信息\n",
      "{'loc': {'title': 'Loc'}}\n"
     ]
    }
   ],
   "source": [
    "print(get_weather.name)\n",
    "print(get_weather.description)\n",
    "print(get_weather.args)"
   ]
  },
  {
   "cell_type": "code",
   "execution_count": 146,
   "id": "ffde1495-a94c-4fbf-ba5e-d8afd90a932a",
   "metadata": {
    "tags": []
   },
   "outputs": [],
   "source": [
    "weather_function_list = [get_weather, example]"
   ]
  },
  {
   "cell_type": "code",
   "execution_count": 147,
   "id": "e89b416d-9566-4389-b4e6-ebafc0c98576",
   "metadata": {
    "tags": []
   },
   "outputs": [
    {
     "data": {
      "text/plain": [
       "[StructuredTool(name='get_weather', description=\"get_weather(loc) - 查询即时天气函数\\n    :param loc: 必要参数，字符串类型，用于表示查询天气的具体城市名称，    注意，中国的城市需要用对应城市的英文名称代替，例如如果需要查询北京市天气，则loc参数需要输入'Beijing'；\\n    :return：OpenWeather API查询即时天气的结果，具体URL请求地址为：https://api.openweathermap.org/data/2.5/weather    返回结果对象类型为解析之后的JSON格式对象，并用字符串形式进行表示，其中包含了全部重要的天气信息\", args_schema=<class 'pydantic.v1.main.get_weatherSchema'>, func=<function get_weather at 0x7fe5ab5f6940>),\n",
       " StructuredTool(name='example', description='example() - 查询天气示例，这是一个示例', args_schema=<class 'pydantic.v1.main.exampleSchema'>, func=<function example at 0x7fe5b0abb0d0>)]"
      ]
     },
     "execution_count": 147,
     "metadata": {},
     "output_type": "execute_result"
    }
   ],
   "source": [
    "weather_function_list"
   ]
  },
  {
   "cell_type": "code",
   "execution_count": 148,
   "id": "67c1ec8a-d1c8-4179-bafc-9c7d6fae250e",
   "metadata": {
    "tags": []
   },
   "outputs": [],
   "source": [
    "from langchain_core.prompts import ChatPromptTemplate\n",
    "\n",
    "weather_chat_template = ChatPromptTemplate.from_messages(\n",
    "    [\n",
    "        (\"system\", \"你是一个能够查询天气的AI小助手\"),\n",
    "        (\"human\", \"这是接收到的用户输入：{input}\"),\n",
    "    ]\n",
    ")"
   ]
  },
  {
   "cell_type": "code",
   "execution_count": 150,
   "id": "177b3e29-edc7-4ccc-bbeb-1ef7554234b4",
   "metadata": {
    "tags": []
   },
   "outputs": [
    {
     "name": "stderr",
     "output_type": "stream",
     "text": [
      "/root/miniconda3/lib/python3.8/site-packages/langchain_core/_api/deprecation.py:119: LangChainDeprecationWarning: The function `create_openai_fn_chain` was deprecated in LangChain 0.1.1 and will be removed in 0.2.0. Use create_openai_fn_runnable instead.\n",
      "  warn_deprecated(\n"
     ]
    }
   ],
   "source": [
    "from langchain.chains.openai_functions.base import create_openai_fn_chain\n",
    "\n",
    "get_openai_result_chain = create_openai_fn_chain(llm=llm,\n",
    "                                                 prompt=weather_chat_template,\n",
    "                                                 functions=weather_function_list, \n",
    "                                                 )"
   ]
  },
  {
   "cell_type": "code",
   "execution_count": 154,
   "id": "4418afd6-b17a-4a85-ab65-887aae8ccc58",
   "metadata": {
    "tags": []
   },
   "outputs": [
    {
     "data": {
      "text/plain": [
       "{'input': '今天北京的天气怎么样？',\n",
       " 'function': {'arguments': {'loc': 'Beijing'}, 'name': 'get_weather'}}"
      ]
     },
     "execution_count": 154,
     "metadata": {},
     "output_type": "execute_result"
    }
   ],
   "source": [
    "get_openai_result_chain.invoke({\"input\": \"今天北京的天气怎么样？\"})"
   ]
  },
  {
   "cell_type": "markdown",
   "id": "293cfac5-64eb-4e44-bb7e-c7927682c528",
   "metadata": {},
   "source": [
    "&emsp;&emsp;一种实现方式是添加自定义输出解析器，根据`create_openai_fn_chain`返回的参数，实际执行`get_weather`，返回实时的某个城市的天气详细数据。在自定义输出解析器时，这里有一点需要关注：从上述输出信息来看，其关键信息存储在`function`字段中，对于这种典型的工具调用返回的结果，我们需要去解析模型的原始输出，与我们之前介绍的覆写`parse`方法不同，要获取到工具调用中的关键信息，需要对 `BaseGenerationOutputParser` 类进行子类化，并覆写`parse_result`方法。这一点可以从LangChain的官方文档中找到明确的说明："
   ]
  },
  {
   "cell_type": "markdown",
   "id": "1553b091-96f7-4682-b33e-37a3cf47ff42",
   "metadata": {},
   "source": [
    "> 自定义输出解析器的更多内容：https://python.langchain.com/docs/modules/model_io/output_parsers/custom"
   ]
  },
  {
   "cell_type": "code",
   "execution_count": 156,
   "id": "4754112f-6459-4302-b60f-4e72bb83e079",
   "metadata": {
    "tags": []
   },
   "outputs": [],
   "source": [
    "from typing import List\n",
    "from langchain_core.exceptions import OutputParserException\n",
    "from langchain_core.output_parsers import BaseGenerationOutputParser\n",
    "from langchain_core.outputs import ChatGeneration, Generation\n",
    "\n",
    "class GetFunctonCallOutPutParser(BaseGenerationOutputParser[str]):\n",
    "    \"\"\"\n",
    "    提取`create_openai_fn_chain`识别到的参数，执行对应的外部工具函数，并返回最终的结果\n",
    "    \"\"\"\n",
    "\n",
    "    # 覆写parse_result方法\n",
    "    def parse_result(self, result: List[Generation]):\n",
    "        \n",
    "        # 如果未识别到function_call关键字，返回原始文本\n",
    "        if result[0].text:\n",
    "            return result[0].text\n",
    "        else:\n",
    "            # 提取create_openai_fn_chain中拿到的参数 ： {'arguments': '{\"loc\":\"Shanghai\"}', 'name': 'get_weather'}\n",
    "            function_call = result[0].message.additional_kwargs[\"function_call\"]\n",
    "\n",
    "    \n",
    "            # 提取到需要执行的具体函数名称： get_weather\n",
    "            func_name = function_call[\"name\"]\n",
    "            \n",
    "            # 使用全局定义的 function_list\n",
    "            global weather_function_list\n",
    "\n",
    "             # 格式化处理\n",
    "                \n",
    "            # {'get_weather': StructuredTool(name='get_weather', description=\"get_weather(loc) - 查询即时天气函数\\n    \n",
    "            # :param loc: 必要参数，字符串类型，用于表示查询天气的具体城市名称，    注意，中国的城市需要用对应城市的英文名称代替，例如如果需要查询北京市天气，则loc参数需要输入'Beijing'；\n",
    "            # \\n    :return：OpenWeather API查询即时天气的结果，具体URL请求地址为：https://api.openweathermap.org/data/2.5/weather    \n",
    "            # 返回结果对象类型为解析之后的JSON格式对象，并用字符串形式进行表示，其中包含了全部重要的天气信息\", \n",
    "            # args_schema=<class 'pydantic.v1.main.get_weatherSchema'>, func=<function get_weather at 0x00000217D7F24860>), \n",
    "            \n",
    "            func_map = {func.name: func for func in weather_function_list}\n",
    "     \n",
    "            # 提取经过create_openai_fn_runnable过程中识别到的函数名称\n",
    "            chosen_tool = func_map[func_name]\n",
    "    \n",
    "    \n",
    "            from operator import itemgetter\n",
    "            # {'loc': 'Shanghai'}\n",
    "            arguments = json.loads(itemgetter(\"arguments\")(function_call))\n",
    "   \n",
    "            # 执行\n",
    "            result = chosen_tool.invoke(arguments)\n",
    "            return result"
   ]
  },
  {
   "cell_type": "markdown",
   "id": "961d5f7d-6005-409f-87d6-b2dafd112422",
   "metadata": {},
   "source": [
    "&emsp;&emsp;如上所示的输出解析器中，关键点就是提取到`create_openai_fn_chain`中返回的函数名和参数，通过LangChain的`itemgetter`抽象，将必要的参数传入的具体的函数中执行该函数的内部逻辑，返回最终的执行结果。接下来，我们在重新实例化`get_weather_data_chain`，添加上我们自定义的输出解析器，并且指定将最终的内容存储在`weather_data`这个关键字中："
   ]
  },
  {
   "cell_type": "code",
   "execution_count": 157,
   "id": "dbd6568d-1166-4a9c-8770-5426ddb4a580",
   "metadata": {
    "tags": []
   },
   "outputs": [],
   "source": [
    "get_weather_data_chain = create_openai_fn_chain(llm=llm, \n",
    "                                                 prompt=weather_chat_template, \n",
    "                                                 functions=weather_function_list, \n",
    "                                                 output_parser=GetFunctonCallOutPutParser(),\n",
    "                                                 output_key=\"weather_data\",\n",
    "                                                 verbose=True\n",
    "                                                )"
   ]
  },
  {
   "cell_type": "code",
   "execution_count": 159,
   "id": "c22f12e2-6223-453e-b124-e9725ff505fb",
   "metadata": {
    "tags": []
   },
   "outputs": [
    {
     "name": "stdout",
     "output_type": "stream",
     "text": [
      "\n",
      "\n",
      "\u001B[1m> Entering new LLMChain chain...\u001B[0m\n",
      "Prompt after formatting:\n",
      "\u001B[32;1m\u001B[1;3mSystem: 你是一个能够查询天气的AI小助手\n",
      "Human: 这是接收到的用户输入：今天上海的天气怎么样？\u001B[0m\n",
      "\n",
      "\u001B[1m> Finished chain.\u001B[0m\n"
     ]
    },
    {
     "data": {
      "text/plain": [
       "{'input': '今天上海的天气怎么样？',\n",
       " 'weather_data': '{\"coord\": {\"lon\": 121.4581, \"lat\": 31.2222}, \"weather\": [{\"id\": 800, \"main\": \"Clear\", \"description\": \"\\\\u6674\", \"icon\": \"01n\"}], \"base\": \"stations\", \"main\": {\"temp\": 17.92, \"feels_like\": 17.2, \"temp_min\": 14.93, \"temp_max\": 17.92, \"pressure\": 1017, \"humidity\": 55}, \"visibility\": 10000, \"wind\": {\"speed\": 3, \"deg\": 150}, \"clouds\": {\"all\": 0}, \"dt\": 1715616737, \"sys\": {\"type\": 1, \"id\": 9659, \"country\": \"CN\", \"sunrise\": 1715633950, \"sunset\": 1715683321}, \"timezone\": 28800, \"id\": 1796236, \"name\": \"Shanghai\", \"cod\": 200}'}"
      ]
     },
     "execution_count": 159,
     "metadata": {},
     "output_type": "execute_result"
    }
   ],
   "source": [
    "reponse = get_weather_data_chain.invoke(\"今天上海的天气怎么样？\")\n",
    "reponse"
   ]
  },
  {
   "cell_type": "code",
   "execution_count": 161,
   "id": "9ad5edf3-ab15-4185-93cf-f970b4510efe",
   "metadata": {
    "tags": []
   },
   "outputs": [],
   "source": [
    "from langchain_core.prompts import ChatPromptTemplate\n",
    "\n",
    "analyse_weather_template = ChatPromptTemplate.from_messages(\n",
    "    [\n",
    "        (\"system\", \"你是一位天气数据的分析大师\"),\n",
    "        (\"human\", \"这是接收到的实时天气数据：{weather_data}\"),\n",
    "        (\"human\", \"请你结合这份详细的数据，给予用户最合适的天气分析，并给出合理的出行建议\")\n",
    "    ]\n",
    ")"
   ]
  },
  {
   "cell_type": "code",
   "execution_count": 162,
   "id": "c7dde6e9-80f1-41e4-ac62-c106346c7981",
   "metadata": {
    "tags": []
   },
   "outputs": [],
   "source": [
    "from langchain.chains import LLMChain\n",
    "\n",
    "analyse_weather_chains = LLMChain(llm=llm,\n",
    "                                 prompt=analyse_weather_template,\n",
    "                                 verbose=True\n",
    "                                )"
   ]
  },
  {
   "cell_type": "code",
   "execution_count": 163,
   "id": "4c070b45-038b-435a-812a-00416ae3c3b1",
   "metadata": {
    "tags": []
   },
   "outputs": [],
   "source": [
    "# 导入SimpleSequentialChain\n",
    "from langchain.chains import SimpleSequentialChain\n",
    "\n",
    "# 在chains参数中，按顺序传入LLMChain A 和LLMChain B\n",
    "full_weather_chain = SimpleSequentialChain(chains=[get_weather_data_chain, analyse_weather_chains], \n",
    "                                           output_key=\"text\",\n",
    "                                           verbose=True)"
   ]
  },
  {
   "cell_type": "code",
   "execution_count": 164,
   "id": "b1b7e1ab-31b1-407c-8aa8-2ff9806247b0",
   "metadata": {
    "tags": []
   },
   "outputs": [
    {
     "name": "stdout",
     "output_type": "stream",
     "text": [
      "\n",
      "\n",
      "\u001B[1m> Entering new SimpleSequentialChain chain...\u001B[0m\n",
      "\n",
      "\n",
      "\u001B[1m> Entering new LLMChain chain...\u001B[0m\n",
      "Prompt after formatting:\n",
      "\u001B[32;1m\u001B[1;3mSystem: 你是一个能够查询天气的AI小助手\n",
      "Human: 这是接收到的用户输入：北京今天的天气怎么样？\u001B[0m\n",
      "\n",
      "\u001B[1m> Finished chain.\u001B[0m\n",
      "\u001B[36;1m\u001B[1;3m{\"coord\": {\"lon\": 116.3972, \"lat\": 39.9075}, \"weather\": [{\"id\": 800, \"main\": \"Clear\", \"description\": \"\\u6674\", \"icon\": \"01n\"}], \"base\": \"stations\", \"main\": {\"temp\": 24.94, \"feels_like\": 23.88, \"temp_min\": 24.94, \"temp_max\": 24.94, \"pressure\": 1005, \"humidity\": 15, \"sea_level\": 1005, \"grnd_level\": 999}, \"visibility\": 10000, \"wind\": {\"speed\": 4.89, \"deg\": 214, \"gust\": 12.67}, \"clouds\": {\"all\": 10}, \"dt\": 1715617057, \"sys\": {\"type\": 1, \"id\": 9609, \"country\": \"CN\", \"sunrise\": 1715634027, \"sunset\": 1715685673}, \"timezone\": 28800, \"id\": 1816670, \"name\": \"Beijing\", \"cod\": 200}\u001B[0m\n",
      "\n",
      "\n",
      "\u001B[1m> Entering new LLMChain chain...\u001B[0m\n",
      "Prompt after formatting:\n",
      "\u001B[32;1m\u001B[1;3mSystem: 你是一位天气数据的分析大师\n",
      "Human: 这是接收到的实时天气数据：{\"coord\": {\"lon\": 116.3972, \"lat\": 39.9075}, \"weather\": [{\"id\": 800, \"main\": \"Clear\", \"description\": \"\\u6674\", \"icon\": \"01n\"}], \"base\": \"stations\", \"main\": {\"temp\": 24.94, \"feels_like\": 23.88, \"temp_min\": 24.94, \"temp_max\": 24.94, \"pressure\": 1005, \"humidity\": 15, \"sea_level\": 1005, \"grnd_level\": 999}, \"visibility\": 10000, \"wind\": {\"speed\": 4.89, \"deg\": 214, \"gust\": 12.67}, \"clouds\": {\"all\": 10}, \"dt\": 1715617057, \"sys\": {\"type\": 1, \"id\": 9609, \"country\": \"CN\", \"sunrise\": 1715634027, \"sunset\": 1715685673}, \"timezone\": 28800, \"id\": 1816670, \"name\": \"Beijing\", \"cod\": 200}\n",
      "Human: 请你结合这份详细的数据，给予用户最合适的天气分析，并给出合理的出行建议\u001B[0m\n",
      "\n",
      "\u001B[1m> Finished chain.\u001B[0m\n",
      "\u001B[33;1m\u001B[1;3m根据您提供的实时天气数据，现在的天气是在北京，经度是116.3972，纬度是39.9075。天气状况为清晰，气温为24.94℃，体感温度为23.88℃，气压为1005海平面气压，湿度为15%，能见度为10000米。风速为4.89米/秒，风向为214度。云层覆盖率为10%。这是在北京时间的下午4点18分19秒的数据。\n",
      "分析结果是，北京当前天气状况良好，气温适宜，偏干燥。视力范围正常，适合进行各种户外活动。而且风力适中，但请注意避免直接暴露在风中过久以免受寒。\n",
      "出行建议：由于湿度较低，皮肤可能会有些干燥，建议出行前适当涂抹保湿霜。风速适中，所以在户外活动时如果是敏感人群，可以戴上风镜来防止眼睛被风吹到。天空晴朗，紫外线较强，建议戴帽子或使用防晒霜以防晒。总的来说，这是一个非常适合户外活动的好天气。\u001B[0m\n",
      "\n",
      "\u001B[1m> Finished chain.\u001B[0m\n"
     ]
    },
    {
     "data": {
      "text/plain": [
       "{'input': '北京今天的天气怎么样？',\n",
       " 'text': '根据您提供的实时天气数据，现在的天气是在北京，经度是116.3972，纬度是39.9075。天气状况为清晰，气温为24.94℃，体感温度为23.88℃，气压为1005海平面气压，湿度为15%，能见度为10000米。风速为4.89米/秒，风向为214度。云层覆盖率为10%。这是在北京时间的下午4点18分19秒的数据。\\n分析结果是，北京当前天气状况良好，气温适宜，偏干燥。视力范围正常，适合进行各种户外活动。而且风力适中，但请注意避免直接暴露在风中过久以免受寒。\\n出行建议：由于湿度较低，皮肤可能会有些干燥，建议出行前适当涂抹保湿霜。风速适中，所以在户外活动时如果是敏感人群，可以戴上风镜来防止眼睛被风吹到。天空晴朗，紫外线较强，建议戴帽子或使用防晒霜以防晒。总的来说，这是一个非常适合户外活动的好天气。'}"
      ]
     },
     "execution_count": 164,
     "metadata": {},
     "output_type": "execute_result"
    }
   ],
   "source": [
    "full_weather_response = full_weather_chain.invoke(\"北京今天的天气怎么样？\")\n",
    "full_weather_response"
   ]
  },
  {
   "cell_type": "markdown",
   "id": "62a7d24f-5bb3-483b-975c-d4d038e620b6",
   "metadata": {},
   "source": [
    "到目前为止我们完成了获取天气的链路，接下来我们继续完成获取股票信息的链路。"
   ]
  },
  {
   "cell_type": "code",
   "execution_count": 166,
   "id": "3c763091-5eed-4e99-922d-d208dc30f7a0",
   "metadata": {
    "tags": []
   },
   "outputs": [],
   "source": [
    "@tool\n",
    "def getStockInfor(companyName: str) -> str:\n",
    "    \"\"\"\n",
    "    根据公司名获取股票走势\n",
    "    :param companyName: 必要参数，字符串类型，用于表示被查询股票的公司名称。\n",
    "    :return：股票走势结果查询，\n",
    "    \"\"\"\n",
    "    return companyName+\"的股票今天走势非常好！\""
   ]
  },
  {
   "cell_type": "code",
   "execution_count": 167,
   "id": "ffce62c0-988a-46e7-a07c-d342a99b4efa",
   "metadata": {
    "tags": []
   },
   "outputs": [],
   "source": [
    "@tool\n",
    "def getStockPrice(stockCode: str) -> str:\n",
    "    \"\"\"\n",
    "    根据股票代号获取对应股票的价格\n",
    "    :param stockCode: 必要参数，字符串类型，股票代号。\n",
    "    :return：股票价格，\n",
    "    \"\"\"\n",
    "    return 15+\"元\""
   ]
  },
  {
   "cell_type": "code",
   "execution_count": 168,
   "id": "9d0236a3-17f6-4ec5-b6ed-0cd263d8ebfc",
   "metadata": {
    "tags": []
   },
   "outputs": [],
   "source": [
    "stock_function_list=[getStockInfor, getStockPrice]"
   ]
  },
  {
   "cell_type": "code",
   "execution_count": 169,
   "id": "5c977ce6-1a27-4ce4-9109-7c447f578490",
   "metadata": {
    "tags": []
   },
   "outputs": [],
   "source": [
    "stock_template = ChatPromptTemplate.from_messages(\n",
    "    [\n",
    "        (\"system\", \"你是一位股票方面的AI小助手，工作效率极高。\"),\n",
    "        (\"human\", \"这是你接收到的指令：{input}\"),\n",
    "        (\"human\", \"请你根据操作指令，迅速完成对应的工作。\"),\n",
    "    ]\n",
    ")"
   ]
  },
  {
   "cell_type": "code",
   "execution_count": 171,
   "id": "2d8c0963-5c1c-4eb3-b5ca-1cb624433356",
   "metadata": {
    "tags": []
   },
   "outputs": [],
   "source": [
    "from langchain.chains.openai_functions.base import create_openai_fn_chain\n",
    "\n",
    "execute_stock_chain = create_openai_fn_chain(llm=llm,\n",
    "                                             prompt=stock_template,\n",
    "                                             functions=stock_function_list, \n",
    "                                             verbose=True\n",
    "                                             )"
   ]
  },
  {
   "cell_type": "code",
   "execution_count": 173,
   "id": "dfe9dc37-49ee-4d34-bdd7-5cc1cbfe5ef5",
   "metadata": {
    "tags": []
   },
   "outputs": [
    {
     "name": "stdout",
     "output_type": "stream",
     "text": [
      "\n",
      "\n",
      "\u001B[1m> Entering new LLMChain chain...\u001B[0m\n",
      "Prompt after formatting:\n",
      "\u001B[32;1m\u001B[1;3mSystem: 你是一位股票方面的AI小助手，工作效率极高。\n",
      "Human: 这是你接收到的指令：帮我查询一下今天亚马逊公司的股票走势\n",
      "Human: 请你根据操作指令，迅速完成对应的工作。\u001B[0m\n",
      "\n",
      "\u001B[1m> Finished chain.\u001B[0m\n"
     ]
    },
    {
     "data": {
      "text/plain": [
       "{'input': '帮我查询一下今天亚马逊公司的股票走势',\n",
       " 'function': {'arguments': {'companyName': '亚马逊'}, 'name': 'getStockInfor'}}"
      ]
     },
     "execution_count": 173,
     "metadata": {},
     "output_type": "execute_result"
    }
   ],
   "source": [
    "execute_stock_chain.invoke(\"帮我查询一下今天亚马逊公司的股票走势\")"
   ]
  },
  {
   "cell_type": "code",
   "execution_count": 174,
   "id": "3540f5bb-666d-4bcb-8ce1-e68af0bb28ff",
   "metadata": {
    "tags": []
   },
   "outputs": [
    {
     "name": "stdout",
     "output_type": "stream",
     "text": [
      "\n",
      "\n",
      "\u001B[1m> Entering new LLMChain chain...\u001B[0m\n",
      "Prompt after formatting:\n",
      "\u001B[32;1m\u001B[1;3mSystem: 你是一位股票方面的AI小助手，工作效率极高。\n",
      "Human: 这是你接收到的指令：帮我查询一下股票代号是BIDU的今天价格\n",
      "Human: 请你根据操作指令，迅速完成对应的工作。\u001B[0m\n",
      "\n",
      "\u001B[1m> Finished chain.\u001B[0m\n"
     ]
    },
    {
     "data": {
      "text/plain": [
       "{'input': '帮我查询一下股票代号是BIDU的今天价格',\n",
       " 'function': {'arguments': {'stockCode': 'BIDU'}, 'name': 'getStockPrice'}}"
      ]
     },
     "execution_count": 174,
     "metadata": {},
     "output_type": "execute_result"
    }
   ],
   "source": [
    "execute_stock_chain.invoke(\"帮我查询一下股票代号是BIDU的今天价格\")"
   ]
  },
  {
   "cell_type": "markdown",
   "id": "87d2e06d-8490-4f30-a0d4-eae847f5bcf5",
   "metadata": {},
   "source": [
    "&emsp;&emsp;从测试上来看，查询股票的逻辑，同样可以识别到要执行函数，并且精准的提取出了必要的入参信息。接下来我们还是按照相同的方式，去定义输出解析器，实际执行对应的操作。"
   ]
  },
  {
   "cell_type": "code",
   "execution_count": 176,
   "id": "a7563c6c-2bbf-4c20-997b-dcc3b02ed4d2",
   "metadata": {
    "tags": []
   },
   "outputs": [],
   "source": [
    "from typing import List\n",
    "from langchain_core.exceptions import OutputParserException\n",
    "from langchain_core.output_parsers import BaseGenerationOutputParser\n",
    "from langchain_core.outputs import ChatGeneration, Generation\n",
    "\n",
    "class GetFunctonCallOutPutParserStock(BaseGenerationOutputParser[str]):\n",
    "    \"\"\"\n",
    "    提取`create_openai_fn_chain`识别到的参数，执行对应的外部工具函数，并返回最终的结果\n",
    "    \"\"\"\n",
    "\n",
    "    # 覆写parse_result方法\n",
    "    def parse_result(self, result: List[Generation]):\n",
    "        \n",
    "        # 如果未识别到function_call关键字，返回原始文本\n",
    "        if result[0].text:\n",
    "            return result[0].text\n",
    "        else:\n",
    "            function_call = result[0].message.additional_kwargs[\"function_call\"]\n",
    "            func_name = function_call[\"name\"]\n",
    "            \n",
    "            # 使用全局定义的 function_list\n",
    "            global stock_function_list\n",
    "\n",
    "            # 格式化处理\n",
    "            func_map = {func.name: func for func in stock_function_list}\n",
    "     \n",
    "            # 提取经过create_openai_fn_runnable过程中识别到的函数名称\n",
    "            chosen_tool = func_map[func_name]\n",
    "    \n",
    "    \n",
    "            from operator import itemgetter\n",
    "\n",
    "            arguments = json.loads(itemgetter(\"arguments\")(function_call))\n",
    "   \n",
    "            # 执行\n",
    "            result = chosen_tool.invoke(arguments)\n",
    "            return result"
   ]
  },
  {
   "cell_type": "code",
   "execution_count": 177,
   "id": "731e4a99-9107-4bba-9d7c-a64d73d94d48",
   "metadata": {
    "tags": []
   },
   "outputs": [],
   "source": [
    "execute_stock_chain = create_openai_fn_chain(llm=llm,\n",
    "                                             prompt=stock_template,\n",
    "                                             functions=stock_function_list, \n",
    "                                             verbose=True,\n",
    "                                             output_parser=GetFunctonCallOutPutParserStock(),\n",
    "                                             output_key=\"stock_result\"\n",
    "                                             )"
   ]
  },
  {
   "cell_type": "code",
   "execution_count": 178,
   "id": "5d8cd594-3ee8-4895-b3cf-a873ee8891f3",
   "metadata": {
    "tags": []
   },
   "outputs": [
    {
     "name": "stdout",
     "output_type": "stream",
     "text": [
      "\n",
      "\n",
      "\u001B[1m> Entering new LLMChain chain...\u001B[0m\n",
      "Prompt after formatting:\n",
      "\u001B[32;1m\u001B[1;3mSystem: 你是一位股票方面的AI小助手，工作效率极高。\n",
      "Human: 这是你接收到的指令：帮我查询一下今天亚马逊公司的股票走势\n",
      "Human: 请你根据操作指令，迅速完成对应的工作。\u001B[0m\n",
      "\n",
      "\u001B[1m> Finished chain.\u001B[0m\n"
     ]
    },
    {
     "data": {
      "text/plain": [
       "{'input': '帮我查询一下今天亚马逊公司的股票走势', 'stock_result': '亚马逊的股票今天走势非常好！'}"
      ]
     },
     "execution_count": 178,
     "metadata": {},
     "output_type": "execute_result"
    }
   ],
   "source": [
    "execute_stock_chain.invoke(\"帮我查询一下今天亚马逊公司的股票走势\")"
   ]
  },
  {
   "cell_type": "code",
   "execution_count": 183,
   "id": "ef5dbcae-5d0b-4b91-9468-c01373c80ec5",
   "metadata": {
    "tags": []
   },
   "outputs": [
    {
     "name": "stdout",
     "output_type": "stream",
     "text": [
      "\n",
      "\n",
      "\u001B[1m> Entering new LLMChain chain...\u001B[0m\n",
      "Prompt after formatting:\n",
      "\u001B[32;1m\u001B[1;3mSystem: 你是一位股票方面的AI小助手，工作效率极高。\n",
      "Human: 这是你接收到的指令：帮我查询一下股票代号是BIDU的价格\n",
      "Human: 请你根据操作指令，迅速完成对应的工作。\u001B[0m\n",
      "\n",
      "\u001B[1m> Finished chain.\u001B[0m\n"
     ]
    },
    {
     "data": {
      "text/plain": [
       "{'input': '帮我查询一下股票代号是BIDU的价格',\n",
       " 'stock_result': '非常抱歉，我目前无法实时查看或提供股票价格信息。我推荐您使用已知的证券交易平台或者金融新闻网站，如彭博或路透社，那里可以获取最新，最准确的股票价格信息。'}"
      ]
     },
     "execution_count": 183,
     "metadata": {},
     "output_type": "execute_result"
    }
   ],
   "source": [
    "execute_stock_chain.invoke(\"帮我查询一下股票代号是BIDU的价格\")"
   ]
  },
  {
   "cell_type": "markdown",
   "id": "619590a1-aee9-464b-b828-9a1f538e547e",
   "metadata": {},
   "source": [
    "&emsp;&emsp;从输出上能够看到，目前该链路已经查询股票信息的能力，接下来我们进一步优化流程，让其根据执行结果，回复出具体的工作进度。同样，定义输入模版："
   ]
  },
  {
   "cell_type": "code",
   "execution_count": 184,
   "id": "f8df668e-b39d-471b-a966-3688eb9d4095",
   "metadata": {
    "tags": []
   },
   "outputs": [],
   "source": [
    "from langchain_core.prompts import ChatPromptTemplate\n",
    "\n",
    "notify_stock_template = ChatPromptTemplate.from_messages(\n",
    "    [\n",
    "        (\"system\", \"你是一位智能股票信息管理小助手\"),\n",
    "        (\"human\", \"这是你执行完某一步操作得到的结果：{stock_result}\"),\n",
    "        (\"human\", \"请你根据执行情况，总结一下你的工作进度\")\n",
    "    ]\n",
    ")"
   ]
  },
  {
   "cell_type": "code",
   "execution_count": 185,
   "id": "02d1075e-454e-4ef6-8d1a-9e7be3e69c1f",
   "metadata": {
    "tags": []
   },
   "outputs": [],
   "source": [
    "from langchain.chains import LLMChain\n",
    "\n",
    "notify_stock_chains = LLMChain(llm=llm,\n",
    "                              prompt=notify_stock_template,\n",
    "                              verbose=True\n",
    "                                )"
   ]
  },
  {
   "cell_type": "code",
   "execution_count": 186,
   "id": "5726df46-e8d2-45b9-8a44-f19ff83b01dd",
   "metadata": {
    "tags": []
   },
   "outputs": [],
   "source": [
    "# 导入SimpleSequentialChain\n",
    "from langchain.chains import SimpleSequentialChain\n",
    "\n",
    "# 在chains参数中，按顺序传入LLMChain A 和LLMChain B\n",
    "full_stock_chain = SimpleSequentialChain(chains=[execute_stock_chain, notify_stock_chains], \n",
    "                                        output_key=\"text\",\n",
    "                                        verbose=True)"
   ]
  },
  {
   "cell_type": "code",
   "execution_count": 188,
   "id": "86ce3a16-7b8a-45ee-ae20-683dafd307af",
   "metadata": {
    "tags": []
   },
   "outputs": [
    {
     "name": "stdout",
     "output_type": "stream",
     "text": [
      "\n",
      "\n",
      "\u001B[1m> Entering new SimpleSequentialChain chain...\u001B[0m\n",
      "\n",
      "\n",
      "\u001B[1m> Entering new LLMChain chain...\u001B[0m\n",
      "Prompt after formatting:\n",
      "\u001B[32;1m\u001B[1;3mSystem: 你是一位股票方面的AI小助手，工作效率极高。\n",
      "Human: 这是你接收到的指令：帮我查一下亚马逊公司今天的股票走势\n",
      "Human: 请你根据操作指令，迅速完成对应的工作。\u001B[0m\n",
      "\n",
      "\u001B[1m> Finished chain.\u001B[0m\n",
      "\u001B[36;1m\u001B[1;3m亚马逊的股票今天走势非常好！\u001B[0m\n",
      "\n",
      "\n",
      "\u001B[1m> Entering new LLMChain chain...\u001B[0m\n",
      "Prompt after formatting:\n",
      "\u001B[32;1m\u001B[1;3mSystem: 你是一位智能股票信息管理小助手\n",
      "Human: 这是你执行完某一步操作得到的结果：亚马逊的股票今天走势非常好！\n",
      "Human: 请你根据执行情况，总结一下你的工作进度\u001B[0m\n",
      "\n",
      "\u001B[1m> Finished chain.\u001B[0m\n",
      "\u001B[33;1m\u001B[1;3m根据我了解到的，亚马逊的股票今天的表现非常出色。因此，我将这个股票的表现作为我的工作重点。我正在持续跟踪其最新的市场动态，以便提供最实时、准确的信息。同时, 我也在密切关注其他潜力股的市场表现，以便为你提供全面的投资建议。至此，我的工作正在有序的进行中。\u001B[0m\n",
      "\n",
      "\u001B[1m> Finished chain.\u001B[0m\n"
     ]
    },
    {
     "data": {
      "text/plain": [
       "{'input': '帮我查一下亚马逊公司今天的股票走势',\n",
       " 'text': '根据我了解到的，亚马逊的股票今天的表现非常出色。因此，我将这个股票的表现作为我的工作重点。我正在持续跟踪其最新的市场动态，以便提供最实时、准确的信息。同时, 我也在密切关注其他潜力股的市场表现，以便为你提供全面的投资建议。至此，我的工作正在有序的进行中。'}"
      ]
     },
     "execution_count": 188,
     "metadata": {},
     "output_type": "execute_result"
    }
   ],
   "source": [
    "full_stock_chain_response = full_stock_chain.invoke(\"帮我查一下亚马逊公司今天的股票走势\")\n",
    "full_stock_chain_response"
   ]
  },
  {
   "cell_type": "code",
   "execution_count": 190,
   "id": "e6c4287b-1533-4299-9d87-082ff1ad20ce",
   "metadata": {
    "tags": []
   },
   "outputs": [
    {
     "name": "stdout",
     "output_type": "stream",
     "text": [
      "根据我了解到的，亚马逊的股票今天的表现非常出色。因此，我将这个股票的表现作为我的工作重点。我正在持续跟踪其最新的市场动态，以便提供最实时、准确的信息。同时, 我也在密切关注其他潜力股的市场表现，以便为你提供全面的投资建议。至此，我的工作正在有序的进行中。\n"
     ]
    }
   ],
   "source": [
    "print(full_stock_chain_response[\"text\"])"
   ]
  },
  {
   "cell_type": "markdown",
   "id": "98c55976-b8db-4fa5-9fd8-dd14ea9b60bd",
   "metadata": {},
   "source": [
    "&emsp;&emsp;至此就完成了股票信息获取的完整链路。而其对应的链路转化，也有最简单的`LLMChain`变为了功能更加复杂的`SequentialChain`"
   ]
  },
  {
   "cell_type": "markdown",
   "id": "a43121c6-9c09-4d21-a6d9-6e4d13caddc2",
   "metadata": {},
   "source": [
    "&emsp;&emsp;最后，在更新`Router Chain`系统之前，我们再构建一个最基础的LLMChain，当用户输入的内容既不需要查询天气，也不需要执行股票的查询时，可以直接让模型进行推理并完成响应。"
   ]
  },
  {
   "cell_type": "code",
   "execution_count": 191,
   "id": "998bf2aa-6f77-4933-b3b8-0c633d1c1268",
   "metadata": {
    "tags": []
   },
   "outputs": [],
   "source": [
    "from langchain_core.prompts import ChatPromptTemplate\n",
    "\n",
    "chat_template = ChatPromptTemplate.from_messages(\n",
    "    [\n",
    "        (\"system\", \"你是一位乐于助人的AI小助手。请根据用户输入的问题，给出最优秀的回复\"),\n",
    "        (\"human\", \"{input}\"),\n",
    "    ]\n",
    ")"
   ]
  },
  {
   "cell_type": "code",
   "execution_count": 192,
   "id": "6bf1541b-7856-4ef9-9069-d34648646506",
   "metadata": {
    "tags": []
   },
   "outputs": [],
   "source": [
    "from langchain.chains import LLMChain\n",
    "\n",
    "chat_chain = LLMChain(llm=llm, \n",
    "                      prompt=chat_template,\n",
    "                      verbose=True)"
   ]
  },
  {
   "cell_type": "code",
   "execution_count": 193,
   "id": "6c90d92e-e349-416b-a465-79ea54b1add2",
   "metadata": {
    "tags": []
   },
   "outputs": [
    {
     "name": "stdout",
     "output_type": "stream",
     "text": [
      "\n",
      "\n",
      "\u001B[1m> Entering new LLMChain chain...\u001B[0m\n",
      "Prompt after formatting:\n",
      "\u001B[32;1m\u001B[1;3mSystem: 你是一位乐于助人的AI小助手。请根据用户输入的问题，给出最优秀的回复\n",
      "Human: 哈哈，你好，请你介绍一下你自己吧\u001B[0m\n",
      "\n",
      "\u001B[1m> Finished chain.\u001B[0m\n"
     ]
    },
    {
     "data": {
      "text/plain": [
       "{'input': '哈哈，你好，请你介绍一下你自己吧',\n",
       " 'text': '你好！很高兴和你交流。我是一款人工智能小助手，可以帮助你解答各种问题，例如查询信息、解答疑惑、提供生活小建议等等。我始终在线，随时待命，尽我最大努力为你提供帮助。希望你在与我交流的过程中能感到愉快！'}"
      ]
     },
     "execution_count": 193,
     "metadata": {},
     "output_type": "execute_result"
    }
   ],
   "source": [
    "chat_chain.invoke({\"input\":\"哈哈，你好，请你介绍一下你自己吧\"})"
   ]
  },
  {
   "cell_type": "markdown",
   "id": "6dd9de60-aaf7-4706-9ba9-3a1b8ddf20f0",
   "metadata": {},
   "source": [
    "&emsp;&emsp;至此，3条完全不相关的链路我们均以构建完成，将其更新至`Router Chain`中。具体执行的操作过程如下："
   ]
  },
  {
   "cell_type": "code",
   "execution_count": 194,
   "id": "21133a81-e455-47b0-8c08-906772aa5feb",
   "metadata": {
    "tags": []
   },
   "outputs": [],
   "source": [
    "destination_chains = {\"weather\": full_weather_chain, \"stock\":full_stock_chain}"
   ]
  },
  {
   "cell_type": "code",
   "execution_count": 195,
   "id": "1b044329-6b86-4171-867f-faf8c8b13ccb",
   "metadata": {
    "tags": []
   },
   "outputs": [
    {
     "data": {
      "text/plain": [
       "{'weather': SimpleSequentialChain(verbose=True, chains=[LLMChain(verbose=True, prompt=ChatPromptTemplate(input_variables=['input'], messages=[SystemMessagePromptTemplate(prompt=PromptTemplate(input_variables=[], template='你是一个能够查询天气的AI小助手')), HumanMessagePromptTemplate(prompt=PromptTemplate(input_variables=['input'], template='这是接收到的用户输入：{input}'))]), llm=ChatOpenAI(client=<openai.resources.chat.completions.Completions object at 0x7fe5abfbba30>, async_client=<openai.resources.chat.completions.AsyncCompletions object at 0x7fe5abf82550>, model_name='gpt-4', openai_api_key=SecretStr('**********'), openai_api_base='https://newone.nxykj.tech/v1', openai_proxy=''), output_key='weather_data', output_parser=GetFunctonCallOutPutParser(), llm_kwargs={'functions': [{'name': 'get_weather', 'description': \"get_weather(loc) - 查询即时天气函数\\n    :param loc: 必要参数，字符串类型，用于表示查询天气的具体城市名称，    注意，中国的城市需要用对应城市的英文名称代替，例如如果需要查询北京市天气，则loc参数需要输入'Beijing'；\\n    :return：OpenWeather API查询即时天气的结果，具体URL请求地址为：https://api.openweathermap.org/data/2.5/weather    返回结果对象类型为解析之后的JSON格式对象，并用字符串形式进行表示，其中包含了全部重要的天气信息\", 'parameters': {'type': 'object', 'properties': {'loc': {}}, 'required': ['loc']}}, {'name': 'example', 'description': 'example() - 查询天气示例，这是一个示例', 'parameters': {'type': 'object', 'properties': {}}}]}), LLMChain(verbose=True, prompt=ChatPromptTemplate(input_variables=['weather_data'], messages=[SystemMessagePromptTemplate(prompt=PromptTemplate(input_variables=[], template='你是一位天气数据的分析大师')), HumanMessagePromptTemplate(prompt=PromptTemplate(input_variables=['weather_data'], template='这是接收到的实时天气数据：{weather_data}')), HumanMessagePromptTemplate(prompt=PromptTemplate(input_variables=[], template='请你结合这份详细的数据，给予用户最合适的天气分析，并给出合理的出行建议'))]), llm=ChatOpenAI(client=<openai.resources.chat.completions.Completions object at 0x7fe5abfbba30>, async_client=<openai.resources.chat.completions.AsyncCompletions object at 0x7fe5abf82550>, model_name='gpt-4', openai_api_key=SecretStr('**********'), openai_api_base='https://newone.nxykj.tech/v1', openai_proxy=''))], output_key='text'),\n",
       " 'stock': SimpleSequentialChain(verbose=True, chains=[LLMChain(verbose=True, prompt=ChatPromptTemplate(input_variables=['input'], messages=[SystemMessagePromptTemplate(prompt=PromptTemplate(input_variables=[], template='你是一位股票方面的AI小助手，工作效率极高。')), HumanMessagePromptTemplate(prompt=PromptTemplate(input_variables=['input'], template='这是你接收到的指令：{input}')), HumanMessagePromptTemplate(prompt=PromptTemplate(input_variables=[], template='请你根据操作指令，迅速完成对应的工作。'))]), llm=ChatOpenAI(client=<openai.resources.chat.completions.Completions object at 0x7fe5abfbba30>, async_client=<openai.resources.chat.completions.AsyncCompletions object at 0x7fe5abf82550>, model_name='gpt-4', openai_api_key=SecretStr('**********'), openai_api_base='https://newone.nxykj.tech/v1', openai_proxy=''), output_key='stock_result', output_parser=GetFunctonCallOutPutParserStock(), llm_kwargs={'functions': [{'name': 'getStockInfor', 'description': 'getStockInfor(companyName: str) -> str - 根据公司名获取股票走势\\n    :param companyName: 必要参数，字符串类型，用于表示被查询股票的公司名称。\\n    :return：股票走势结果查询，', 'parameters': {'type': 'object', 'properties': {'companyName': {'type': 'string'}}, 'required': ['companyName']}}, {'name': 'getStockPrice', 'description': 'getStockPrice(stockCode: str) -> str - 根据股票代号获取对应股票的价格\\n    :param stockCode: 必要参数，字符串类型，股票代号。\\n    :return：股票价格，', 'parameters': {'type': 'object', 'properties': {'stockCode': {'type': 'string'}}, 'required': ['stockCode']}}]}), LLMChain(verbose=True, prompt=ChatPromptTemplate(input_variables=['stock_result'], messages=[SystemMessagePromptTemplate(prompt=PromptTemplate(input_variables=[], template='你是一位智能股票信息管理小助手')), HumanMessagePromptTemplate(prompt=PromptTemplate(input_variables=['stock_result'], template='这是你执行完某一步操作得到的结果：{stock_result}')), HumanMessagePromptTemplate(prompt=PromptTemplate(input_variables=[], template='请你根据执行情况，总结一下你的工作进度'))]), llm=ChatOpenAI(client=<openai.resources.chat.completions.Completions object at 0x7fe5abfbba30>, async_client=<openai.resources.chat.completions.AsyncCompletions object at 0x7fe5abf82550>, model_name='gpt-4', openai_api_key=SecretStr('**********'), openai_api_base='https://newone.nxykj.tech/v1', openai_proxy=''))], output_key='text')}"
      ]
     },
     "execution_count": 195,
     "metadata": {},
     "output_type": "execute_result"
    }
   ],
   "source": [
    "destination_chains"
   ]
  },
  {
   "cell_type": "code",
   "execution_count": 196,
   "id": "0dfb2855-8968-4aee-a48f-16e19b524d2e",
   "metadata": {
    "tags": []
   },
   "outputs": [],
   "source": [
    "MULTI_PROMPT_ROUTER_TEMPLATE = \"\"\"\\\n",
    "给定一个原始文本输入到大语言模型，请选择最适合该输入的大模型提示模版。\\\n",
    "您将获得可用提示的名称和对于该提示最适合什么的描述。\\\n",
    "如果您认为修改原始输入最终会导致语言模型的更好响应，您也可以对原始输入进行修改。\n",
    "\n",
    "<< FORMATTING >>\n",
    "返回一个Markdown代码片段，其中包含一个格式化如下的JSON对象：\n",
    "```json\n",
    "{{{{\n",
    "    \"destination\": string \\\\ 使用的提示名称或就使用默认，即 \"DEFAULT\"\n",
    "    \"next_inputs\": string \\\\ 可能修改过的原始输入版本\n",
    "}}}}\n",
    "```\n",
    "\n",
    "记住：\"destination\" 必须是下面指定的候选提示名称之一，或者如果输入不适合任何候选提示，可以是 \"DEFAULT\"。\n",
    "记住：\"next_inputs\" 如果您认为不需要任何修改，可以是原始输入。\n",
    "\n",
    "<< CANDIDATE PROMPTS >>\n",
    "{destinations}\n",
    "\n",
    "<< INPUT >>\n",
    "{{input}}\n",
    "\n",
    "<< OUTPUT (必须在响应的开始处包含 ```json) >>\n",
    "<< OUTPUT (必须以 ``` 结束) >>\n",
    "\"\"\""
   ]
  },
  {
   "cell_type": "code",
   "execution_count": 197,
   "id": "04ad07cb-389e-4a0f-9168-35ce828ab76d",
   "metadata": {
    "tags": []
   },
   "outputs": [
    {
     "name": "stdout",
     "output_type": "stream",
     "text": [
      "给定一个原始文本输入到大语言模型，请选择最适合该输入的大模型提示模版。您将获得可用提示的名称和对于该提示最适合什么的描述。如果您认为修改原始输入最终会导致语言模型的更好响应，您也可以对原始输入进行修改。\n",
      "\n",
      "<< FORMATTING >>\n",
      "返回一个Markdown代码片段，其中包含一个格式化如下的JSON对象：\n",
      "```json\n",
      "{{\n",
      "    \"destination\": string \\ 使用的提示名称或就使用默认，即 \"DEFAULT\"\n",
      "    \"next_inputs\": string \\ 可能修改过的原始输入版本\n",
      "}}\n",
      "```\n",
      "\n",
      "记住：\"destination\" 必须是下面指定的候选提示名称之一，或者如果输入不适合任何候选提示，可以是 \"DEFAULT\"。\n",
      "记住：\"next_inputs\" 如果您认为不需要任何修改，可以是原始输入。\n",
      "\n",
      "<< CANDIDATE PROMPTS >>\n",
      "weather: 用于回答天气问题\n",
      "stock: 用于执行股票的查询\n",
      "\n",
      "<< INPUT >>\n",
      "{input}\n",
      "\n",
      "<< OUTPUT (必须在响应的开始处包含 ```json) >>\n",
      "<< OUTPUT (必须以 ``` 结束) >>\n",
      "\n"
     ]
    }
   ],
   "source": [
    "destinations = ['weather: 用于回答天气问题', 'stock: 用于执行股票的查询']\n",
    "\n",
    "# 使用join方法将列表转化为字符串，每个元素之间用换行符分隔\n",
    "destinations_str = \"\\n\".join(destinations)\n",
    "\n",
    "# 根据MULTI_PROMPT_ROUTER_TEMPLATE格式化字符串和destinations_str创建路由模板\n",
    "router_template = MULTI_PROMPT_ROUTER_TEMPLATE.format(destinations=destinations_str)\n",
    "\n",
    "print(router_template)"
   ]
  },
  {
   "cell_type": "code",
   "execution_count": 198,
   "id": "84a1dc1e-32fe-439a-b3ef-23e8d92786db",
   "metadata": {
    "tags": []
   },
   "outputs": [],
   "source": [
    "from langchain.prompts import PromptTemplate\n",
    "\n",
    "router_prompt = PromptTemplate(template=router_template, \n",
    "                               input_variables=[\"input\"],\n",
    "                               output_parser=RouterOutputParser())"
   ]
  },
  {
   "cell_type": "code",
   "execution_count": 199,
   "id": "40946f69-5f25-42b8-8a2c-562c92454cb5",
   "metadata": {
    "tags": []
   },
   "outputs": [],
   "source": [
    "# 使用上述路由模板和llm对象创建LLMRouterChain对象\n",
    "router_chain = LLMRouterChain.from_llm(llm, \n",
    "                                       router_prompt, \n",
    "                                       verbose=True)"
   ]
  },
  {
   "cell_type": "code",
   "execution_count": 200,
   "id": "e4228d34-9497-49b9-867b-1b96f29d9d7d",
   "metadata": {
    "tags": []
   },
   "outputs": [
    {
     "name": "stdout",
     "output_type": "stream",
     "text": [
      "\n",
      "\n",
      "\u001B[1m> Entering new LLMRouterChain chain...\u001B[0m\n",
      "\n",
      "\u001B[1m> Finished chain.\u001B[0m\n"
     ]
    },
    {
     "data": {
      "text/plain": [
       "{'input': '北京今天的天气怎么样？',\n",
       " 'destination': 'weather',\n",
       " 'next_inputs': {'input': '北京今天的天气怎么样？'}}"
      ]
     },
     "execution_count": 200,
     "metadata": {},
     "output_type": "execute_result"
    }
   ],
   "source": [
    "router_chain.invoke({\"input\":\"北京今天的天气怎么样？\"})"
   ]
  },
  {
   "cell_type": "code",
   "execution_count": 201,
   "id": "4b938221-6106-481e-b33d-bde7194ceedc",
   "metadata": {
    "tags": []
   },
   "outputs": [
    {
     "name": "stdout",
     "output_type": "stream",
     "text": [
      "\n",
      "\n",
      "\u001B[1m> Entering new LLMRouterChain chain...\u001B[0m\n",
      "\n",
      "\u001B[1m> Finished chain.\u001B[0m\n"
     ]
    },
    {
     "data": {
      "text/plain": [
       "{'input': '请帮我查询一下今天的亚马逊公司的股票走势',\n",
       " 'destination': 'stock',\n",
       " 'next_inputs': {'input': '请帮我查询一下今天的亚马逊公司的股票走势'}}"
      ]
     },
     "execution_count": 201,
     "metadata": {},
     "output_type": "execute_result"
    }
   ],
   "source": [
    "router_chain.invoke({\"input\":\"请帮我查询一下今天的亚马逊公司的股票走势\"})"
   ]
  },
  {
   "cell_type": "code",
   "execution_count": 202,
   "id": "e793041b-227e-4911-8621-972fc9757c47",
   "metadata": {
    "tags": []
   },
   "outputs": [
    {
     "name": "stdout",
     "output_type": "stream",
     "text": [
      "\n",
      "\n",
      "\u001B[1m> Entering new LLMRouterChain chain...\u001B[0m\n",
      "\n",
      "\u001B[1m> Finished chain.\u001B[0m\n"
     ]
    },
    {
     "data": {
      "text/plain": [
       "{'input': '哈哈哈，你好呀', 'destination': None, 'next_inputs': {'input': '哈哈哈，你好呀'}}"
      ]
     },
     "execution_count": 202,
     "metadata": {},
     "output_type": "execute_result"
    }
   ],
   "source": [
    "router_chain.invoke({\"input\":\"哈哈哈，你好呀\"})"
   ]
  },
  {
   "cell_type": "code",
   "execution_count": 203,
   "id": "bb9917b4-26e0-43a0-8235-ae22068cd5a5",
   "metadata": {
    "tags": []
   },
   "outputs": [],
   "source": [
    "# 创建MultiPromptChain对象，其中包含了路由链，目标链和默认链。\n",
    "final_chain = MultiPromptChain(\n",
    "                            router_chain=router_chain,\n",
    "                            destination_chains=destination_chains,\n",
    "                            default_chain=chat_chain,\n",
    "                            verbose=True,\n",
    ")"
   ]
  },
  {
   "cell_type": "code",
   "execution_count": 204,
   "id": "360b2b4a-3cf8-4a9b-a851-bdfde079c41f",
   "metadata": {
    "tags": []
   },
   "outputs": [
    {
     "name": "stdout",
     "output_type": "stream",
     "text": [
      "\n",
      "\n",
      "\u001B[1m> Entering new MultiPromptChain chain...\u001B[0m\n",
      "\n",
      "\n",
      "\u001B[1m> Entering new LLMRouterChain chain...\u001B[0m\n",
      "\n",
      "\u001B[1m> Finished chain.\u001B[0m\n",
      "None: {'input': '你好呀，请你介绍一下你自己'}\n",
      "\n",
      "\u001B[1m> Entering new LLMChain chain...\u001B[0m\n",
      "Prompt after formatting:\n",
      "\u001B[32;1m\u001B[1;3mSystem: 你是一位乐于助人的AI小助手。请根据用户输入的问题，给出最优秀的回复\n",
      "Human: 你好呀，请你介绍一下你自己\u001B[0m\n",
      "\n",
      "\u001B[1m> Finished chain.\u001B[0m\n",
      "\n",
      "\u001B[1m> Finished chain.\u001B[0m\n"
     ]
    },
    {
     "data": {
      "text/plain": [
       "{'input': '你好呀，请你介绍一下你自己',\n",
       " 'text': '你好！我就像是你的任命伙伴一样，为你提供信息与帮助。我对各种主题均有一定的了解，包括但不限于科学、文学、历史、艺术以及生活常识等等。我十分热衷于新知识的学习和探索。无论你在何地何时需要帮助，我都随时准备好帮你解答疑问。有什么需要我帮忙的，尽管告诉我哦！'}"
      ]
     },
     "execution_count": 204,
     "metadata": {},
     "output_type": "execute_result"
    }
   ],
   "source": [
    "final_chain.invoke({\"input\": \"你好呀，请你介绍一下你自己\" })"
   ]
  },
  {
   "cell_type": "code",
   "execution_count": 212,
   "id": "3f1583cd-ac8c-488f-b9f3-ba1631dadd71",
   "metadata": {
    "tags": []
   },
   "outputs": [
    {
     "name": "stdout",
     "output_type": "stream",
     "text": [
      "\n",
      "\n",
      "\u001B[1m> Entering new MultiPromptChain chain...\u001B[0m\n",
      "\n",
      "\n",
      "\u001B[1m> Entering new LLMRouterChain chain...\u001B[0m\n",
      "\n",
      "\u001B[1m> Finished chain.\u001B[0m\n",
      "weather: {'input': '今天北京的天气怎么样？'}\n",
      "\n",
      "\u001B[1m> Entering new SimpleSequentialChain chain...\u001B[0m\n",
      "\n",
      "\n",
      "\u001B[1m> Entering new LLMChain chain...\u001B[0m\n",
      "Prompt after formatting:\n",
      "\u001B[32;1m\u001B[1;3mSystem: 你是一个能够查询天气的AI小助手\n",
      "Human: 这是接收到的用户输入：今天北京的天气怎么样？\u001B[0m\n",
      "\n",
      "\u001B[1m> Finished chain.\u001B[0m\n",
      "\u001B[36;1m\u001B[1;3m{\"coord\": {\"lon\": 116.3972, \"lat\": 39.9075}, \"weather\": [{\"id\": 800, \"main\": \"Clear\", \"description\": \"\\u6674\", \"icon\": \"01n\"}], \"base\": \"stations\", \"main\": {\"temp\": 23.94, \"feels_like\": 22.83, \"temp_min\": 23.94, \"temp_max\": 23.94, \"pressure\": 1004, \"humidity\": 17, \"sea_level\": 1004, \"grnd_level\": 999}, \"visibility\": 10000, \"wind\": {\"speed\": 3.88, \"deg\": 220, \"gust\": 11.3}, \"clouds\": {\"all\": 8}, \"dt\": 1715620472, \"sys\": {\"type\": 1, \"id\": 9609, \"country\": \"CN\", \"sunrise\": 1715634027, \"sunset\": 1715685673}, \"timezone\": 28800, \"id\": 1816670, \"name\": \"Beijing\", \"cod\": 200}\u001B[0m\n",
      "\n",
      "\n",
      "\u001B[1m> Entering new LLMChain chain...\u001B[0m\n",
      "Prompt after formatting:\n",
      "\u001B[32;1m\u001B[1;3mSystem: 你是一位天气数据的分析大师\n",
      "Human: 这是接收到的实时天气数据：{\"coord\": {\"lon\": 116.3972, \"lat\": 39.9075}, \"weather\": [{\"id\": 800, \"main\": \"Clear\", \"description\": \"\\u6674\", \"icon\": \"01n\"}], \"base\": \"stations\", \"main\": {\"temp\": 23.94, \"feels_like\": 22.83, \"temp_min\": 23.94, \"temp_max\": 23.94, \"pressure\": 1004, \"humidity\": 17, \"sea_level\": 1004, \"grnd_level\": 999}, \"visibility\": 10000, \"wind\": {\"speed\": 3.88, \"deg\": 220, \"gust\": 11.3}, \"clouds\": {\"all\": 8}, \"dt\": 1715620472, \"sys\": {\"type\": 1, \"id\": 9609, \"country\": \"CN\", \"sunrise\": 1715634027, \"sunset\": 1715685673}, \"timezone\": 28800, \"id\": 1816670, \"name\": \"Beijing\", \"cod\": 200}\n",
      "Human: 请你结合这份详细的数据，给予用户最合适的天气分析，并给出合理的出行建议\u001B[0m\n",
      "\n",
      "\u001B[1m> Finished chain.\u001B[0m\n",
      "\u001B[33;1m\u001B[1;3m根据提供的数据，这是北京的天气情况。当前温度为23.94℃，并且感觉像是22.83℃。最低和最高温度都是23.94℃。气压为1004毫巴，湿度为17%。能见度为10公里。\n",
      "\n",
      "天气状况是晴朗，风速为3.88米/秒，风向为220度。云量非常少，只有8%的天空被云层覆盖。\n",
      "\n",
      "考虑到这些信息，整体来看，北京的天气非常宜人。温度适中，风速适中，湿度较低。这是一个非常适合户外活动的天气。如果你打算出门，可以着装轻便，但因为湿度较低，记得多喝水防止脱水。\n",
      "\n",
      "另外，风速虽然不大，但是有些阵风可能达到11.3米/秒，如果你打算骑自行车或者摩托车，要特别注意安全。\u001B[0m\n",
      "\n",
      "\u001B[1m> Finished chain.\u001B[0m\n",
      "\n",
      "\u001B[1m> Finished chain.\u001B[0m\n"
     ]
    },
    {
     "data": {
      "text/plain": [
       "{'input': '今天北京的天气怎么样？',\n",
       " 'text': '根据提供的数据，这是北京的天气情况。当前温度为23.94℃，并且感觉像是22.83℃。最低和最高温度都是23.94℃。气压为1004毫巴，湿度为17%。能见度为10公里。\\n\\n天气状况是晴朗，风速为3.88米/秒，风向为220度。云量非常少，只有8%的天空被云层覆盖。\\n\\n考虑到这些信息，整体来看，北京的天气非常宜人。温度适中，风速适中，湿度较低。这是一个非常适合户外活动的天气。如果你打算出门，可以着装轻便，但因为湿度较低，记得多喝水防止脱水。\\n\\n另外，风速虽然不大，但是有些阵风可能达到11.3米/秒，如果你打算骑自行车或者摩托车，要特别注意安全。'}"
      ]
     },
     "execution_count": 212,
     "metadata": {},
     "output_type": "execute_result"
    }
   ],
   "source": [
    "final_chain.invoke({\"input\": \"今天北京的天气怎么样？\" })"
   ]
  },
  {
   "cell_type": "code",
   "execution_count": 207,
   "id": "3aa523ab-cf84-4345-a132-c32a134922da",
   "metadata": {
    "tags": []
   },
   "outputs": [
    {
     "name": "stdout",
     "output_type": "stream",
     "text": [
      "\n",
      "\n",
      "\u001B[1m> Entering new MultiPromptChain chain...\u001B[0m\n",
      "\n",
      "\n",
      "\u001B[1m> Entering new LLMRouterChain chain...\u001B[0m\n",
      "\n",
      "\u001B[1m> Finished chain.\u001B[0m\n",
      "stock: {'input': '请帮查一下今天的亚马逊公司今天的股票走势'}\n",
      "\n",
      "\u001B[1m> Entering new SimpleSequentialChain chain...\u001B[0m\n",
      "\n",
      "\n",
      "\u001B[1m> Entering new LLMChain chain...\u001B[0m\n",
      "Prompt after formatting:\n",
      "\u001B[32;1m\u001B[1;3mSystem: 你是一位股票方面的AI小助手，工作效率极高。\n",
      "Human: 这是你接收到的指令：请帮查一下今天的亚马逊公司今天的股票走势\n",
      "Human: 请你根据操作指令，迅速完成对应的工作。\u001B[0m\n",
      "\n",
      "\u001B[1m> Finished chain.\u001B[0m\n",
      "\u001B[36;1m\u001B[1;3m亚马逊的股票今天走势非常好！\u001B[0m\n",
      "\n",
      "\n",
      "\u001B[1m> Entering new LLMChain chain...\u001B[0m\n",
      "Prompt after formatting:\n",
      "\u001B[32;1m\u001B[1;3mSystem: 你是一位智能股票信息管理小助手\n",
      "Human: 这是你执行完某一步操作得到的结果：亚马逊的股票今天走势非常好！\n",
      "Human: 请你根据执行情况，总结一下你的工作进度\u001B[0m\n",
      "\n",
      "\u001B[1m> Finished chain.\u001B[0m\n",
      "\u001B[33;1m\u001B[1;3m我已经成功地完成了跟踪和分析亚马逊股票走势的任务。根据我获得的数据，亚马逊的股票今天的表现非常好。我会继续监控并提供最新的股票信息。\u001B[0m\n",
      "\n",
      "\u001B[1m> Finished chain.\u001B[0m\n",
      "\n",
      "\u001B[1m> Finished chain.\u001B[0m\n"
     ]
    },
    {
     "data": {
      "text/plain": [
       "{'input': '请帮查一下今天的亚马逊公司今天的股票走势',\n",
       " 'text': '我已经成功地完成了跟踪和分析亚马逊股票走势的任务。根据我获得的数据，亚马逊的股票今天的表现非常好。我会继续监控并提供最新的股票信息。'}"
      ]
     },
     "execution_count": 207,
     "metadata": {},
     "output_type": "execute_result"
    }
   ],
   "source": [
    "final_chain.invoke({\"input\": \"请帮查一下今天的亚马逊公司今天的股票走势\" })"
   ]
  },
  {
   "cell_type": "code",
   "execution_count": null,
   "id": "58e4ec61-eb01-440a-b74a-b04475544533",
   "metadata": {},
   "outputs": [],
   "source": [
    "多链路系统构建"
   ]
  },
  {
   "cell_type": "code",
   "execution_count": null,
   "id": "a9b3f901-11f3-4b3c-b037-d4895853db75",
   "metadata": {},
   "outputs": [],
   "source": [
    "def run_dialogue_chain(final_chain):\n",
    "    \"\"\"\n",
    "    使用用户输入循环执行对话链。\n",
    "\n",
    "    参数:\n",
    "    - final_chain: 配置好的对话链对象，具有invoke方法用于处理输入并返回相应的输出。\n",
    "    \"\"\"\n",
    "    print(\"对话开始。输入'退出'以结束对话。\")\n",
    "\n",
    "    while True:\n",
    "        # 获取用户输入\n",
    "        user_input = input(\"请输入: \")\n",
    "\n",
    "        # 检查是否退出\n",
    "        if user_input.lower() == '退出':\n",
    "            print(\"对话结束。\")\n",
    "            break\n",
    "\n",
    "        try:\n",
    "            # 调用final_chain的invoke方法处理输入并获取响应\n",
    "            response = final_chain.invoke({\"input\": user_input})\n",
    "            \n",
    "            # 打印响应结果\n",
    "            print(\"AI小助手:\", response[\"text\"])\n",
    "        except Exception as e:\n",
    "            # 处理可能的错误\n",
    "            print(f\"处理输入时发生错误: {e}\")"
   ]
  },
  {
   "cell_type": "code",
   "execution_count": null,
   "id": "524e1bcf-e7cf-4575-adca-90ebf64c2b16",
   "metadata": {},
   "outputs": [],
   "source": [
    "# 假设final_chain是你之前设置好的对话链对象\n",
    "run_dialogue_chain(final_chain)"
   ]
  },
  {
   "cell_type": "code",
   "execution_count": null,
   "id": "8552c26f-6c15-4816-98f9-d0f33420f3be",
   "metadata": {},
   "outputs": [],
   "source": []
  },
  {
   "cell_type": "code",
   "execution_count": null,
   "id": "e229bff0-0ff2-4ac5-a727-ec55af0e8ae5",
   "metadata": {},
   "outputs": [],
   "source": []
  },
  {
   "cell_type": "code",
   "execution_count": null,
   "id": "0875f72a-a54c-4297-8486-5d56f4147e34",
   "metadata": {},
   "outputs": [],
   "source": []
  }
 ],
 "metadata": {
  "kernelspec": {
   "display_name": "Python 3 (ipykernel)",
   "language": "python",
   "name": "python3"
  },
  "language_info": {
   "codemirror_mode": {
    "name": "ipython",
    "version": 3
   },
   "file_extension": ".py",
   "mimetype": "text/x-python",
   "name": "python",
   "nbconvert_exporter": "python",
   "pygments_lexer": "ipython3",
   "version": "3.8.10"
  }
 },
 "nbformat": 4,
 "nbformat_minor": 5
}
